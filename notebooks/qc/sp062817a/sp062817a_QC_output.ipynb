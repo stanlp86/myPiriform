{
 "cells": [
  {
   "cell_type": "markdown",
   "metadata": {},
   "source": [
    "<a id='top'></a>\n",
    "# Experiment: sp062817a\n"
   ]
  },
  {
   "cell_type": "markdown",
   "metadata": {},
   "source": [
    "##### [The Basics](#The Basics)\n",
    "##### [Segmentation](#Alignment)\n",
    "- [Masks](#Mask)\n",
    "\n",
    "##### [Activity Basics](#Activity)  \n",
    "- [FOV SNR](#SNR)  \n",
    "- [Events](#Events)\n",
    "    - [Distribution of event magnitudes](#Distribution of event magnitudes)\n",
    "    - [Distribution of event durations](#Distribution of event durations)\n",
    "    - [Average number of events per cell ](#Average number of events per cell )\n",
    "    - [Average event frequency](#Average event frequency)  \n",
    "    \n",
    "##### [Odor evoked activity](#Odor Evoked Activity)\n",
    "- [Trial-averaged responses](#Trial-averaged responses)\n",
    "  - [By odor](#By odor)\n",
    "      - [excitatory](#excitatoryByOdor)\n",
    "      - [inhibitory](#inhibitoryByOdor)\n",
    "- [Cumulative number of trials with detected responses](#Cumulative number of trials with detected responses)\n",
    "- [Fraction of cells responding to multiple odors](#Fraction of cells responding to multiple odors)\n",
    "- [Fraction of responsive population by odor](#Fraction of responsive population by odor)\n",
    "- [Lifetime Sparseness](#Lifetime Sparseness)"
   ]
  },
  {
   "cell_type": "markdown",
   "metadata": {},
   "source": [
    "<a id='The Basics'></a>\n",
    "# The Basics"
   ]
  },
  {
   "cell_type": "markdown",
   "metadata": {},
   "source": [
    "<a id='Number of Trials'></a>\n",
    "##### Number of Trials\n",
    "\n",
    "- Awake: 10"
   ]
  },
  {
   "cell_type": "markdown",
   "metadata": {},
   "source": [
    "##### Layer II\n",
    " - Total number of cells in Slice 0 FOV:   \n",
    "     - excitatory: 234\n",
    "     - inhibitory: 11\n",
    " - Total number of cells in Slice 1 FOV: \n",
    "     - excitatory: 226\n",
    "     - inhibitory: 24\n",
    " - Total number of cells in Slice 2 FOV:  \n",
    "     - excitatory: 171\n",
    "     - inhibitory: 21\n",
    " \n",
    "<br></br>   \n",
    "##### Layer III\n",
    "\n",
    " - Total number of cells in Slice 3 FOV:\n",
    "     - excitatory: 102\n",
    "     - inhibitory: 18\n",
    " - Total number of cells in Slice 4 FOV: \n",
    "     - excitatory: 115\n",
    "     - inhibitory: 15\n",
    " - Total number of cells in Slice 5 FOV:  \n",
    "     - excitatory: 68\n",
    "     - inhibitory: 16"
   ]
  },
  {
   "cell_type": "markdown",
   "metadata": {
    "collapsed": true
   },
   "source": [
    "<a id='Stimulus set'></a>\n",
    "##### Stimulus set"
   ]
  },
  {
   "cell_type": "markdown",
   "metadata": {},
   "source": [
    "- 22 odors (and 1 sham) presented pseudorandomly    \n",
    "\n",
    "- **Inter-stimulus-interval**: 30 seconds  \n",
    "- **Odor presentation**: 2 seconds\n",
    "  \n",
    "<br></br>\n",
    "Odor 0: Blank\n",
    "<br></br>\n",
    "\n",
    "-|-|-|-  \n",
    ":---|:---|:---|:---|:---|:---\n",
    "1: y_decalactone <br></br>2: ethylhexyl_tiglate<br></br>3: undecanal<br></br>4: aniline<br></br>5: 2mthxy6prpn2ylprzine|6: 2-methylpyrazine<br></br>7: putrescence<br></br>8: 4METHYLTHIOBUTANOL<br></br>9: dicyclohxl_disulfide <br></br>10: 4-allylanisole<br></br>|11: benzyl_isothiocyanate<br></br>12: R-camphor<br></br> 13: trithioacetone<br></br>14: linalool<br></br>15: isothiocineole<br></br>16: lillial|17: tetrahydrothiophene <br></br>18: 3-phnlprpl_2-mthlpropnte<br></br>19: isoquinoline<br></br>20: indole<br></br>21: 235trimethylpyrazine<br></br>22: methyl-2-furoate"
   ]
  },
  {
   "cell_type": "markdown",
   "metadata": {},
   "source": [
    "***"
   ]
  },
  {
   "cell_type": "markdown",
   "metadata": {},
   "source": [
    "<a id='Alignment'></a>\n",
    "# Segmentation\n",
    "[back to top](#top)"
   ]
  },
  {
   "cell_type": "markdown",
   "metadata": {},
   "source": [
    "<a id='Mask'></a>\n",
    "### Mask overlays"
   ]
  },
  {
   "cell_type": "markdown",
   "metadata": {},
   "source": [
    "##### Green channel"
   ]
  },
  {
   "cell_type": "markdown",
   "metadata": {
    "slideshow": {
     "slide_type": "slide"
    }
   },
   "source": [
    "slice 0: Trial e1_006|slice 1: Trial e1_006|slice 2: Trial e1_006\n",
    ":---:|:---:|:---:\n",
    "<img src=\"Mask_slice_0_green.png\" />|<img src=\"Mask_slice_1_green.png\" />|<img src=\"Mask_slice_2_green.png\" />\n",
    "\n",
    "slice 3: Trial e1_004|slice 4: Trial e1_004|slice 5: Trial e1_004\n",
    ":---:|:---:|:---:\n",
    "<img src=\"Mask_slice_3_green.png\" />|<img src=\"Mask_slice_4_green.png\" />|<img src=\"Mask_slice_5_green.png\" />"
   ]
  },
  {
   "cell_type": "markdown",
   "metadata": {},
   "source": [
    "##### Red channel"
   ]
  },
  {
   "cell_type": "markdown",
   "metadata": {},
   "source": [
    "slice 0: Trial e1_006|slice 1: Trial e1_006|slice 2: Trial e1_006\n",
    ":---:|:---:|:---:\n",
    "<img src=\"Mask_slice_0_red.png\" />|<img src=\"Mask_slice_1_red.png\" />|<img src=\"Mask_slice_2_red.png\" />\n",
    "\n",
    "slice 3: Trial e1_004|slice 4: Trial e1_004|slice 5: Trial e1_004\n",
    ":---:|:---:|:---:\n",
    "<img src=\"Mask_slice_3_red.png\" />|<img src=\"Mask_slice_4_red.png\" />|<img src=\"Mask_slice_5_red.png\" />"
   ]
  },
  {
   "cell_type": "markdown",
   "metadata": {},
   "source": [
    "___"
   ]
  },
  {
   "cell_type": "markdown",
   "metadata": {},
   "source": [
    "<a id='Activity'></a>\n",
    "# Activity Basics\n",
    "[back to top](#top)\n",
    "\n",
    "- [FOV SNR](#SNR)  \n",
    "- [Events](#Events)\n",
    "    - [Distribution of event magnitudes](#Distribution of event magnitudes)\n",
    "    - [Distribution of event durations](#Distribution of event durations)\n",
    "    - [Average number of events per cell ](#Average number of events per cell )\n",
    "    - [Average event frequency](#Average event frequency)  "
   ]
  },
  {
   "cell_type": "markdown",
   "metadata": {},
   "source": [
    "<a id='SNR'></a>\n",
    "## SNR\n",
    "[Back to Activity Basics](#Activity)"
   ]
  },
  {
   "cell_type": "markdown",
   "metadata": {},
   "source": [
    "Layer II slice 0|Layer II slice 1|Layer II slice 2\n",
    ":---:|:---:|:---:\n",
    "<img src=\"SNR_slice_0.png\" />|<img src=\"SNR_slice_1.png\" />|<img src=\"SNR_slice_2.png\" />\n",
    "50th percentile: 5.5|50th percentile: 5.3|50th percentile: 5.2\n",
    "\n",
    "Layer III slice 3|Layer III slice 4|Layer III slice 5\n",
    ":---:|:---:|:---:\n",
    "<img src=\"SNR_slice_3.png\" />|<img src=\"SNR_slice_4.png\" />|<img src=\"SNR_slice_5.png\" />\n",
    "50th percentile: 5.3|50th percentile: 5.2|50th percentile: 5.1"
   ]
  },
  {
   "cell_type": "markdown",
   "metadata": {},
   "source": [
    "<a id='Events'></a>\n",
    "## Events\n",
    "[Back to Activity Basics](#Activity)\n",
    "\n",
    "   - [Distribution of event magnitudes](#Distribution of event magnitudes)\n",
    "   - [Distribution of event durations](#Distribution of event durations)\n",
    "   - [Average number of events per cell ](#Average number of events per cell )\n",
    "   - [Average event frequency](#Average event frequency)  "
   ]
  },
  {
   "cell_type": "markdown",
   "metadata": {},
   "source": [
    "<a id='Distribution of event magnitudes'></a>\n",
    "### Distribution of event magnitudes\n"
   ]
  },
  {
   "cell_type": "markdown",
   "metadata": {},
   "source": [
    "Layer II slice 0|Layer II slice 1|Layer II slice 2\n",
    ":---:|:---:|:---:\n",
    "<img src=\"event_magnitudes_slice_0.png\" />  |<img src=\"event_magnitudes_slice_1.png\" />|<img src=\"event_magnitudes_slice_2.png\" />\n",
    "\n",
    "Layer III slice 3|Layer III slice 4|Layer III slice 5\n",
    ":---:|:---:|:---:\n",
    "<img src=\"event_magnitudes_slice_3.png\" />  |<img src=\"event_magnitudes_slice_4.png\" />|<img src=\"event_magnitudes_slice_5.png\" />"
   ]
  },
  {
   "cell_type": "markdown",
   "metadata": {},
   "source": [
    "<a id='Distribution of event durations'></a>\n",
    "### Distribution of event durations  "
   ]
  },
  {
   "cell_type": "markdown",
   "metadata": {},
   "source": [
    "Layer II slice 0|Layer II slice 1|Layer II slice 2\n",
    ":---:|:---:|:---:\n",
    "<img src=\"normed_event_duration_slice_0.png\" />|<img src=\"normed_event_duration_slice_1.png\" />|<img src=\"normed_event_duration_slice_2.png\" />\n",
    "\n",
    "Layer III slice 3|Layer III slice 4|Layer III slice 5\n",
    ":---:|:---:|:---:\n",
    "<img src=\"normed_event_duration_slice_3.png\" />|<img src=\"normed_event_duration_slice_4.png\" />|<img src=\"normed_event_duration_slice_5.png\" />\n",
    "\n"
   ]
  },
  {
   "cell_type": "markdown",
   "metadata": {},
   "source": [
    "<a id='Average number of events per cell'></a>\n",
    "### Average number of events per cell \n",
    "slice 0|slice 1|slice 2|slice 3|slice 4|slice 5\n",
    ":---:|:---:|:---:|:---:|:---:|:---:\n",
    "75 | 57 | 54 | 55 | 52 | 48"
   ]
  },
  {
   "cell_type": "markdown",
   "metadata": {},
   "source": [
    "<a id='Average event frequency'></a>\n",
    "### Average event frequency\n",
    "\n",
    "\n",
    "slice 0|slice 1|slice 2|slice 3|slice 4|slice 5\n",
    ":---:|:---:|:---:|:---:|:---:|:---:\n",
    "0.1 | 0.08 | 0.07 | 0.08 | 0.07 | 0.07\n"
   ]
  },
  {
   "cell_type": "markdown",
   "metadata": {},
   "source": [
    "---"
   ]
  },
  {
   "cell_type": "markdown",
   "metadata": {},
   "source": [
    "\n",
    "<a id='Odor Evoked Activity'></a>\n",
    "# Odor-evoked activity \n",
    "[back to top](#top)\n",
    "\n",
    "\n",
    "- [Trial-averaged responses](#Trial-averaged responses)\n",
    "  - [By odor](#By odor)\n",
    "      - [excitatory](#excitatoryByOdor)\n",
    "      - [inhibitory](#inhibitoryByOdor)\n",
    "- [Cumulative number of trials with detected responses](#Cumulative number of trials with detected responses)\n",
    "- [Fraction of cells responding to multiple odors](#Fraction of cells responding to multiple odors)\n",
    "- [Fraction of responsive population by odor](#Fraction of responsive population by odor)\n",
    "- [Lifetime Sparseness](#Lifetime Sparseness)"
   ]
  },
  {
   "cell_type": "markdown",
   "metadata": {},
   "source": [
    "<a id='Trial-averaged responses'></a>\n",
    "<a id='By odor'></a>\n",
    "<a id='excitatoryByOdor'></a>\n",
    "### Trial-averaged responses\n",
    "##### Excitatory neurons\n",
    "[Back to Odor Evoked Activity](#Odor Evoked Activity)\n",
    "\n",
    "<img src=\"byOdor_trialAves0_exc.png\" />\n",
    "<img src=\"byOdor_trialAves1_exc.png\" />\n",
    "<img src=\"byOdor_trialAves2_exc.png\" />\n",
    "<img src=\"byOdor_trialAves3_exc.png\" />\n",
    "<img src=\"byOdor_trialAves4_exc.png\" />\n",
    "<img src=\"byOdor_trialAves5_exc.png\" />"
   ]
  },
  {
   "cell_type": "markdown",
   "metadata": {},
   "source": [
    "<a id='inhibitoryByOdor'></a>\n",
    "##### Inhibitory neurons\n",
    "[Back to Odor Evoked Activity](#Odor Evoked Activity)\n",
    "\n",
    "<img src=\"byOdor_trialAves0_inh.png\" />\n",
    "<img src=\"byOdor_trialAves1_inh.png\" />\n",
    "<img src=\"byOdor_trialAves2_inh.png\" />\n",
    "<img src=\"byOdor_trialAves3_inh.png\" />\n",
    "<img src=\"byOdor_trialAves4_inh.png\" />\n",
    "<img src=\"byOdor_trialAves5_inh.png\" />"
   ]
  },
  {
   "cell_type": "markdown",
   "metadata": {},
   "source": [
    "<a id='Cumulative number of trials with detected responses'></a>\n",
    "### Cumulative number of trials with detected responses\n",
    "[Back to Odor Evoked Activity](#Odor Evoked Activity) \n",
    "<br></br> \n"
   ]
  },
  {
   "cell_type": "markdown",
   "metadata": {},
   "source": [
    "Layer II slice 0|Layer II slice 1| Layer II slice 2 |Layer III slice 3|Layer III slice 4|Layer III slice 5\n",
    ":---:|:---:|:---:|:---:|:---:|:---:\n",
    "<img src=\"CumTrialsWithResponseByOdor_0.png\" />|<img src=\"CumTrialsWithResponseByOdor_1.png\" />|<img src=\"CumTrialsWithResponseByOdor_2.png\" />|<img src=\"CumTrialsWithResponseByOdor_3.png\" />|<img src=\"CumTrialsWithResponseByOdor_4.png\" />|<img src=\"CumTrialsWithResponseByOdor_5.png\" />\n",
    "\n",
    "\n"
   ]
  },
  {
   "cell_type": "markdown",
   "metadata": {},
   "source": [
    "<a id='Fraction of responsive population by odor'></a>\n",
    "### Fraction of population that responds to odors. Presented for each odor\n",
    "[Back to Odor Evoked Activity](#Odor Evoked Activity)  \n",
    "<br></br>  \n",
    "-This is calculated on cells that respond to an odor on at least 50 percent of the trials. "
   ]
  },
  {
   "cell_type": "markdown",
   "metadata": {},
   "source": [
    "Layer II slice 0|Layer II slice 1| Layer II slice 2\n",
    ":---:|:---:|:---:\n",
    "<img src=\"response_density_slice_0.png\" />|<img src=\"response_density_slice_1.png\" />|<img src=\"response_density_slice_2.png\" />\n",
    "\n",
    "Layer III slice 3|Layer III slice 4|Layer III slice 5\n",
    ":---:|:---:|:---:\n",
    "<img src=\"response_density_slice_3.png\" />|<img src=\"response_density_slice_4.png\" />|<img src=\"response_density_slice_5.png\" />"
   ]
  },
  {
   "cell_type": "markdown",
   "metadata": {},
   "source": [
    "<a id='Fraction of cells responding to multiple odors'></a>\n",
    "### Fraction of cells responding to multiple odors\n",
    "[Back to Odor Evoked Activity](#Odor Evoked Activity)    \n",
    "<br></br>  \n",
    "-This is calculated on cells that respond to an odor on at least 50 percent of the trials. "
   ]
  },
  {
   "cell_type": "markdown",
   "metadata": {},
   "source": [
    "Layer II slice 0|Layer II slice 1|Layer II slice 2\n",
    ":---:|:---:|:---:\n",
    "<img src=\"cells_across_odors_slice_0.png\" />|<img src=\"cells_across_odors_slice_1.png\" />|<img src=\"cells_across_odors_slice_2.png\" />\n",
    "\n",
    "Layer III slice 3|Layer III slice 4|Layer III slice 5\n",
    ":---:|:---:|:---:\n",
    "<img src=\"cells_across_odors_slice_3.png\" />|<img src=\"cells_across_odors_slice_4.png\" />|<img src=\"cells_across_odors_slice_5.png\" />"
   ]
  },
  {
   "cell_type": "markdown",
   "metadata": {},
   "source": [
    "<a id='Lifetime Sparseness'></a>\n",
    "### Lifetime Sparseness\n",
    "[Back to Odor Evoked Activity](#Odor Evoked Activity)  \n",
    "<br></br>  "
   ]
  },
  {
   "cell_type": "markdown",
   "metadata": {},
   "source": [
    "Layer II, slice 0|Layer II, slice 1|Layer II, slice 2\n",
    ":---:|:---:|:---:\n",
    "<img src=\"LS_slice_0.png\" />|<img src=\"LS_slice_1.png\" />|<img src=\"LS_slice_2.png\" />\n",
    "\n",
    "Layer III, slice 3|Layer III, slice 4|Layer III, slice 5\n",
    ":---:|:---:|:---:\n",
    "<img src=\"LS_slice_3.png\" />|<img src=\"LS_slice_4.png\" />|<img src=\"LS_slice_5.png\" />"
   ]
  },
  {
   "cell_type": "code",
   "execution_count": 2,
   "metadata": {
    "collapsed": false
   },
   "outputs": [
    {
     "data": {
      "text/html": [
       "<style>.container { width:75% !important; }</style>"
      ],
      "text/plain": [
       "<IPython.core.display.HTML object>"
      ]
     },
     "metadata": {},
     "output_type": "display_data"
    },
    {
     "data": {
      "text/html": [
       "<style>\n",
       "\n",
       "html {\n",
       "  font-size: 62.5% !important; }\n",
       "body {\n",
       "  font-size: 1.5em !important; /* currently ems cause chrome bug misinterpreting rems on body element */\n",
       "  line-height: 1.6 !important;\n",
       "  font-weight: 400 !important;\n",
       "  font-family: \"Raleway\", \"HelveticaNeue\", \"Helvetica Neue\", Helvetica, Arial, sans-serif !important;\n",
       "  color: #222 !important; }\n",
       "\n",
       "div{ border-radius: 0px !important;  }\n",
       "div.CodeMirror-sizer{ background: rgb(244, 244, 248) !important; }\n",
       "div.input_area{ background: rgb(244, 244, 248) !important; }\n",
       "\n",
       "div.out_prompt_overlay:hover{ background: rgb(244, 244, 248) !important; }\n",
       "div.input_prompt:hover{ background: rgb(244, 244, 248) !important; }\n",
       "\n",
       "h1, h2, h3, h4, h5, h6 {\n",
       "  color: #333 !important;\n",
       "  margin-top: 0 !important;\n",
       "  margin-bottom: 2rem !important;\n",
       "  font-weight: 300 !important; }\n",
       "h1 { font-size: 4.0rem !important; line-height: 1.2 !important;  letter-spacing: -.1rem !important;}\n",
       "h2 { font-size: 3.6rem !important; line-height: 1.25 !important; letter-spacing: -.1rem !important; }\n",
       "h3 { font-size: 3.0rem !important; line-height: 1.3 !important;  letter-spacing: -.1rem !important; }\n",
       "h4 { font-size: 2.4rem !important; line-height: 1.35 !important; letter-spacing: -.08rem !important; }\n",
       "h5 { font-size: 1.8rem !important; line-height: 1.5 !important;  letter-spacing: -.05rem !important; }\n",
       "h6 { font-size: 1.5rem !important; line-height: 1.6 !important;  letter-spacing: 0 !important; }\n",
       "\n",
       "@media (min-width: 550px) {\n",
       "  h1 { font-size: 5.0rem !important; }\n",
       "  h2 { font-size: 4.2rem !important; }\n",
       "  h3 { font-size: 3.6rem !important; }\n",
       "  h4 { font-size: 3.0rem !important; }\n",
       "  h5 { font-size: 2.4rem !important; }\n",
       "  h6 { font-size: 1.5rem !important; }\n",
       "}\n",
       "\n",
       "p {\n",
       "  margin-top: 0 !important; }\n",
       "  \n",
       "a {\n",
       "  color: #1EAEDB !important; }\n",
       "a:hover {\n",
       "  color: #0FA0CE !important; }\n",
       "  \n",
       "code {\n",
       "  padding: .2rem .5rem !important;\n",
       "  margin: 0 .2rem !important;\n",
       "  font-size: 90% !important;\n",
       "  white-space: nowrap !important;\n",
       "  background: #F1F1F1 !important;\n",
       "  border: 1px solid #E1E1E1 !important;\n",
       "  border-radius: 4px !important; }\n",
       "pre > code {\n",
       "  display: block !important;\n",
       "  padding: 1rem 1.5rem !important;\n",
       "  white-space: pre !important; }\n",
       "  \n",
       "button{ border-radius: 0px !important; }\n",
       ".navbar-inner{ background-image: none !important;  }\n",
       "select, textarea{ border-radius: 0px !important; }\n",
       "\n",
       "</style>"
      ],
      "text/plain": [
       "<IPython.core.display.HTML object>"
      ]
     },
     "execution_count": 2,
     "metadata": {},
     "output_type": "execute_result"
    }
   ],
   "source": [
    "from IPython.core.display import HTML, display\n",
    "import urllib2\n",
    "display(HTML(\"<style>.container { width:75% !important; }</style>\"))\n",
    "HTML(urllib2.urlopen('http://bit.ly/1Bf5Hft').read())\n"
   ]
  }
 ],
 "metadata": {
  "kernelspec": {
   "display_name": "Python 2",
   "language": "python",
   "name": "python2"
  },
  "language_info": {
   "codemirror_mode": {
    "name": "ipython",
    "version": 2
   },
   "file_extension": ".py",
   "mimetype": "text/x-python",
   "name": "python",
   "nbconvert_exporter": "python",
   "pygments_lexer": "ipython2",
   "version": "2.7.11"
  },
  "toc": {
   "colors": {
    "hover_highlight": "#DAA520",
    "navigate_num": "#000000",
    "navigate_text": "#333333",
    "running_highlight": "#FF0000",
    "selected_highlight": "#FFD700",
    "sidebar_border": "#EEEEEE",
    "wrapper_background": "#FFFFFF"
   },
   "moveMenuLeft": true,
   "nav_menu": {
    "height": "352px",
    "width": "252px"
   },
   "navigate_menu": true,
   "number_sections": true,
   "sideBar": true,
   "threshold": 4,
   "toc_cell": false,
   "toc_position": {
    "height": "748px",
    "left": "0px",
    "right": "1388px",
    "top": "114px",
    "width": "212px"
   },
   "toc_section_display": "block",
   "toc_window_display": false,
   "widenNotebook": false
  }
 },
 "nbformat": 4,
 "nbformat_minor": 0
}
