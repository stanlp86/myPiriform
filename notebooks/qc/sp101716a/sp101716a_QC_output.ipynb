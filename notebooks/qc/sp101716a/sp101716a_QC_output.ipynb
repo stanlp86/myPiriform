{
 "cells": [
  {
   "cell_type": "markdown",
   "metadata": {},
   "source": [
    "<a id = 'top'></a>\n",
    "# Experiment:   \n",
    "sp101716a_e2_slice_1\n",
    "sp101716a_e2_slice_4\n",
    "\n"
   ]
  },
  {
   "cell_type": "markdown",
   "metadata": {},
   "source": [
    "\n",
    "#### Table of Contents\n",
    "[The Basics](#The Basics)  \n",
    "\n",
    "<br/>\n",
    "[Aignment and Segmentation](#Alignment)\n",
    "- [Mask and sample roi movies](#Mask)\n",
    "- [Cell-by-cell alignment check](#alignment check) \n",
    "- [Local mask cross-contamination](#CrossContam)  \n",
    "\n",
    "<br/>\n",
    "[Activity across volume](#Activity)  \n",
    "- [FOV SNR](#SNR)  \n",
    "- [Events](#Events)\n",
    "    - [Distribution of event magnitudes](#Distribution of event magnitudes)\n",
    "    - [Distribution of event durations](#Distribution of event durations)\n",
    "    - [Average number of events per cell ](#Average number of events per cell )\n",
    "    - [Average event frequency](#Average event frequency)  \n",
    "    \n",
    "<br/>\n",
    "[Odor evoked activity](#Odor Evoked Activity)\n",
    "- [Trial-averaged responses by odor](#Trial-averaged responses by odor)\n",
    "- [Fraction of cells responding to multiple odors](#Fraction of cells responding to multiple odors)\n",
    "- [Fraction of responsive population by odor](#Fraction of responsive population by odor)\n",
    "- [Lifetime Sparseness](#Lifetime Sparseness)\n",
    "\n",
    "\n"
   ]
  },
  {
   "cell_type": "markdown",
   "metadata": {},
   "source": [
    "<a id='The Basics'></a>\n",
    "# The Basics"
   ]
  },
  {
   "cell_type": "markdown",
   "metadata": {},
   "source": [
    "##### Total number of cells in Slice 1 FOV:   185\n",
    "##### Total number of cells in Slice 4 FOV:  47\n"
   ]
  },
  {
   "cell_type": "markdown",
   "metadata": {
    "collapsed": true
   },
   "source": [
    "<a id='Stimulus set'></a>\n",
    "##### Stimulus set"
   ]
  },
  {
   "cell_type": "markdown",
   "metadata": {},
   "source": [
    "8 odors presented pseudorandomly\n",
    "> Odor 1: BLANK  \n",
    "> Odor 2: IAA  \n",
    "> Odor 3: BUTYRIC_ACID   \n",
    "> Odor 4: OCTANOL  \n",
    "> Odor 5: 2-PENTANONE  \n",
    "> Odor 6: 245-TMT  \n",
    "> Odor 7: DIMETHYL-DISULFIDE  \n",
    "> Odor 8: ETHYLBENZENE  \n",
    "\n",
    "**Inter-stimulus-interval**: 30 seconds  \n",
    "**Odor presentation**: 2 seconds"
   ]
  },
  {
   "cell_type": "markdown",
   "metadata": {},
   "source": [
    "##### <a id='Number of Trials'></a>\n",
    "##### Number of Trials\n",
    "\n",
    "\n",
    "\n",
    "> Awake: 13  \n",
    "\n",
    " \n",
    "   \n",
    "Trials recovered from experiment:  \n",
    "\n",
    "- Awake: 13/13\n",
    "\n",
    "  \n",
    "     \n",
    "</p>   \n",
    "I haven't filtered these according to EEG content. "
   ]
  },
  {
   "cell_type": "markdown",
   "metadata": {},
   "source": [
    "***"
   ]
  },
  {
   "cell_type": "markdown",
   "metadata": {},
   "source": [
    "<a id='Alignment'></a>\n",
    "# Alignment and Segmentation\n",
    "[back to top](#top)"
   ]
  },
  {
   "cell_type": "markdown",
   "metadata": {},
   "source": [
    "<a id='Mask'></a>\n",
    "### Mask overlay on trial averages and sample movies"
   ]
  },
  {
   "cell_type": "markdown",
   "metadata": {},
   "source": [
    "slice 1: Trial e2_003|slice 4: Trial e2_003\n",
    ":---:|:---:\n",
    "<img src= \"mask_slice_1.png\" />|<img src= \"mask_slice_4.png\" />"
   ]
  },
  {
   "cell_type": "markdown",
   "metadata": {},
   "source": [
    "##### Please click on each link below to download the movie"
   ]
  },
  {
   "cell_type": "markdown",
   "metadata": {},
   "source": [
    "slice 1|slice 4\n",
    ":---:|:---:\n",
    "[e2_Cell_28_Trial_3](https://github.com/stanlp86/myPiriform/raw/master/notebooks/qc/sp101716a/movies/e2_Cell_28_Trial_3.mp4)|[e2_Cell_221_Trial_3](https://github.com/stanlp86/myPiriform/raw/master/notebooks/qc/sp101716a/movies/e2_Cell_221_Trial_3.mp4)\n",
    "[e2_Cell_59_Trial_3](https://github.com/stanlp86/myPiriform/raw/master/notebooks/qc/sp101716a/movies/e2_Cell_59_Trial_3.mp4)|\n",
    "\n",
    "[Sample Trial (full volume)](https://www.dropbox.com/s/dkj8k7sk6d7g6zp/e2_trial_3_composite.avi?dl=0)\n"
   ]
  },
  {
   "cell_type": "markdown",
   "metadata": {},
   "source": [
    "<a id='alignment check'></a>\n",
    "## Cell-By-Cell Alignment"
   ]
  },
  {
   "cell_type": "markdown",
   "metadata": {},
   "source": [
    "-|-\n",
    ":---:|:---:\n",
    "<img src= \"alignmentMaskBeforeAfter_slice_1.png\" />|<img src= \"alignmentMaskBeforeAfter_slice_4.png\" />"
   ]
  },
  {
   "cell_type": "markdown",
   "metadata": {},
   "source": [
    "___"
   ]
  },
  {
   "cell_type": "markdown",
   "metadata": {},
   "source": [
    "<a id = 'Activity'></a>\n",
    "# Activity Basics\n",
    "[back to top](#top)"
   ]
  },
  {
   "cell_type": "markdown",
   "metadata": {},
   "source": [
    "<a id='SNR'></a>\n",
    "## SNR"
   ]
  },
  {
   "cell_type": "markdown",
   "metadata": {},
   "source": [
    "slice 1|slice 4\n",
    ":---:|:---:\n",
    "<img src= \"SNR_slice_1.png\" />|<img src= \"SNR_slice_4.png\" />\n",
    "50th percentile: 5.0|50th percentile: 5.0\n"
   ]
  },
  {
   "cell_type": "markdown",
   "metadata": {},
   "source": [
    "<a id='Events'></a>\n",
    "## Events\n",
    "\n",
    "- [Distribution of event magnitudes](#Distribution of event magnitudes)\n",
    "- [Distribution of event durations](#Distribution of event durations)\n",
    "- [Average number of events per cell ](#Average number of events per cell )\n",
    "- [Average event frequency](#Average event frequency)"
   ]
  },
  {
   "cell_type": "markdown",
   "metadata": {},
   "source": [
    "<a id='Distribution of event magnitudes'></a>\n",
    "### Distribution of event magnitudes"
   ]
  },
  {
   "cell_type": "markdown",
   "metadata": {},
   "source": [
    "slice 1|slice 4\n",
    ":---:|:---:\n",
    "<img src= \"event_magnitudes_slice_1.png\" />  |<img src= \"event_magnitudes_slice_4.png\" />\n"
   ]
  },
  {
   "cell_type": "markdown",
   "metadata": {},
   "source": [
    "<a id='Distribution of event durations'></a>\n",
    "### Distribution of event durations  "
   ]
  },
  {
   "cell_type": "markdown",
   "metadata": {},
   "source": [
    "slice 1|slice 4\n",
    ":---:|:---:\n",
    "<img src= \"normed_event_duration_slice_1.png\" />  |<img src= \"normed_event_duration_slice_4.png\" />\n",
    "\n",
    "\n",
    "\n"
   ]
  },
  {
   "cell_type": "markdown",
   "metadata": {},
   "source": [
    "<a id='Average number of events per cell'></a>\n",
    "### Average number of events per cell \n",
    "slice 1|slice 4\n",
    ":---:|:---:\n",
    "20  | 20"
   ]
  },
  {
   "cell_type": "markdown",
   "metadata": {},
   "source": [
    "<a id='Average event frequency'></a>\n",
    "### Average event frequency\n",
    "\n",
    "Awake|Anesthetized\n",
    ":---:|:---:\n",
    "0.077 | .077\n"
   ]
  },
  {
   "cell_type": "markdown",
   "metadata": {},
   "source": [
    "---"
   ]
  },
  {
   "cell_type": "markdown",
   "metadata": {},
   "source": [
    "\n",
    "<a id='Odor Evoked Activity'></a>\n",
    "# Odor-evoked activity \n",
    "[back to top](#top)\n",
    "\n",
    "\n",
    "- [Trial-averaged responses by odor](#Trial-averaged responses by odor)\n",
    "- [Fraction of cells responding to multiple odors](#Fraction of cells responding to multiple odors)\n",
    "- [Fraction of responsive population by odor](#Fraction of responsive population by odor)\n",
    "- [Lifetime Sparseness](#Lifetime Sparseness)"
   ]
  },
  {
   "cell_type": "markdown",
   "metadata": {},
   "source": [
    "<a id='Trial-averaged responses by odor'></a>\n",
    "### Trial-averaged responses by odor"
   ]
  },
  {
   "cell_type": "markdown",
   "metadata": {},
   "source": [
    "\n",
    "slice 1|slice 4\n",
    ":---:|:---:\n",
    "<img src= \"AveRespsbyOdor_slice_1.png\" />|<img src= \"AveRespsbyOdor_slice_4.png\" />"
   ]
  },
  {
   "cell_type": "markdown",
   "metadata": {},
   "source": [
    "<a id='Fraction of responsive population by odor'></a>\n",
    "### Fraction of population that responds to odors. Presented for each odor\n",
    "-This is calculated on cells that respond to an odor on at least 50 percent of the trials. "
   ]
  },
  {
   "cell_type": "markdown",
   "metadata": {},
   "source": [
    "slice 1|slice 4\n",
    ":---:|:---:\n",
    "<img src= \"response_density_slice_1.png\" />|<img src= \"response_density_slice_4.png\" />"
   ]
  },
  {
   "cell_type": "markdown",
   "metadata": {},
   "source": [
    "<a id='Fraction of cells responding to multiple odors'></a>\n",
    "### Fraction of cells responding to multiple odors\n",
    "-This is calculated on cells that respond to an odor on at least 50 percent of the trials. "
   ]
  },
  {
   "cell_type": "markdown",
   "metadata": {},
   "source": [
    "slice 1|slice 4\n",
    ":---:|:---:\n",
    "<img src= \"cells_across_odors_slice_1.png\" />|<img src= \"cells_across_odors_slice_4.png\" />"
   ]
  },
  {
   "cell_type": "markdown",
   "metadata": {},
   "source": [
    "<a id='Lifetime Sparseness'></a>\n",
    "### Lifetime Sparseness"
   ]
  },
  {
   "cell_type": "markdown",
   "metadata": {},
   "source": [
    "slice 1|slice 4\n",
    ":---:|:---:\n",
    "<img src= \"LS_slice_1.png\" />|<img src= \"LS_slice_4.png\" />\n"
   ]
  },
  {
   "cell_type": "code",
   "execution_count": 1,
   "metadata": {
    "collapsed": false
   },
   "outputs": [
    {
     "data": {
      "text/html": [
       "<style>\n",
       "\n",
       "html {\n",
       "  font-size: 62.5% !important; }\n",
       "body {\n",
       "  font-size: 1.5em !important; /* currently ems cause chrome bug misinterpreting rems on body element */\n",
       "  line-height: 1.6 !important;\n",
       "  font-weight: 400 !important;\n",
       "  font-family: \"Raleway\", \"HelveticaNeue\", \"Helvetica Neue\", Helvetica, Arial, sans-serif !important;\n",
       "  color: #222 !important; }\n",
       "\n",
       "div{ border-radius: 0px !important;  }\n",
       "div.CodeMirror-sizer{ background: rgb(244, 244, 248) !important; }\n",
       "div.input_area{ background: rgb(244, 244, 248) !important; }\n",
       "\n",
       "div.out_prompt_overlay:hover{ background: rgb(244, 244, 248) !important; }\n",
       "div.input_prompt:hover{ background: rgb(244, 244, 248) !important; }\n",
       "\n",
       "h1, h2, h3, h4, h5, h6 {\n",
       "  color: #333 !important;\n",
       "  margin-top: 0 !important;\n",
       "  margin-bottom: 2rem !important;\n",
       "  font-weight: 300 !important; }\n",
       "h1 { font-size: 4.0rem !important; line-height: 1.2 !important;  letter-spacing: -.1rem !important;}\n",
       "h2 { font-size: 3.6rem !important; line-height: 1.25 !important; letter-spacing: -.1rem !important; }\n",
       "h3 { font-size: 3.0rem !important; line-height: 1.3 !important;  letter-spacing: -.1rem !important; }\n",
       "h4 { font-size: 2.4rem !important; line-height: 1.35 !important; letter-spacing: -.08rem !important; }\n",
       "h5 { font-size: 1.8rem !important; line-height: 1.5 !important;  letter-spacing: -.05rem !important; }\n",
       "h6 { font-size: 1.5rem !important; line-height: 1.6 !important;  letter-spacing: 0 !important; }\n",
       "\n",
       "@media (min-width: 550px) {\n",
       "  h1 { font-size: 5.0rem !important; }\n",
       "  h2 { font-size: 4.2rem !important; }\n",
       "  h3 { font-size: 3.6rem !important; }\n",
       "  h4 { font-size: 3.0rem !important; }\n",
       "  h5 { font-size: 2.4rem !important; }\n",
       "  h6 { font-size: 1.5rem !important; }\n",
       "}\n",
       "\n",
       "p {\n",
       "  margin-top: 0 !important; }\n",
       "  \n",
       "a {\n",
       "  color: #1EAEDB !important; }\n",
       "a:hover {\n",
       "  color: #0FA0CE !important; }\n",
       "  \n",
       "code {\n",
       "  padding: .2rem .5rem !important;\n",
       "  margin: 0 .2rem !important;\n",
       "  font-size: 90% !important;\n",
       "  white-space: nowrap !important;\n",
       "  background: #F1F1F1 !important;\n",
       "  border: 1px solid #E1E1E1 !important;\n",
       "  border-radius: 4px !important; }\n",
       "pre > code {\n",
       "  display: block !important;\n",
       "  padding: 1rem 1.5rem !important;\n",
       "  white-space: pre !important; }\n",
       "  \n",
       "button{ border-radius: 0px !important; }\n",
       ".navbar-inner{ background-image: none !important;  }\n",
       "select, textarea{ border-radius: 0px !important; }\n",
       "\n",
       "</style>"
      ],
      "text/plain": [
       "<IPython.core.display.HTML object>"
      ]
     },
     "execution_count": 1,
     "metadata": {},
     "output_type": "execute_result"
    }
   ],
   "source": [
    "\n",
    "from IPython.core.display import HTML\n",
    "import urllib2\n",
    "HTML(urllib2.urlopen('http://bit.ly/1Bf5Hft').read())"
   ]
  }
 ],
 "metadata": {
  "kernelspec": {
   "display_name": "Python 2",
   "language": "python",
   "name": "python2"
  },
  "language_info": {
   "codemirror_mode": {
    "name": "ipython",
    "version": 2
   },
   "file_extension": ".py",
   "mimetype": "text/x-python",
   "name": "python",
   "nbconvert_exporter": "python",
   "pygments_lexer": "ipython2",
   "version": "2.7.11"
  }
 },
 "nbformat": 4,
 "nbformat_minor": 0
}
