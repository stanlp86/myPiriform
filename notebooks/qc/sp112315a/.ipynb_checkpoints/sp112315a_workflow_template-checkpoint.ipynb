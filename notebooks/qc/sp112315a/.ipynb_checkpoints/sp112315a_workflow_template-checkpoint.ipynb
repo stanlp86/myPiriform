{
 "cells": [
  {
   "cell_type": "code",
   "execution_count": 2,
   "metadata": {
    "collapsed": false
   },
   "outputs": [
    {
     "name": "stderr",
     "output_type": "stream",
     "text": [
      "[INFO] This non-commercial license of GraphLab Create is assigned to stanlp86@gmail.com and will expire on October 28, 2016. For commercial licensing options, visit https://dato.com/buy/.\n",
      "\n",
      "[INFO] Start server at: ipc:///tmp/graphlab_server-13501 - Server binary: /Users/Stan/anaconda/lib/python2.7/site-packages/graphlab/unity_server - Server log: /tmp/graphlab_server_1457566851.log\n",
      "[INFO] GraphLab Server Version: 1.8.1\n"
     ]
    }
   ],
   "source": [
    "import sys\n",
    "sys.path.append('/users/stan/documents/')\n",
    "import os\n",
    "from glob import glob\n",
    "import copy\n",
    "import pandas\n",
    "import numpy as np\n",
    "\n",
    "from d_code.imaging.io import tifffile\n",
    "import matplotlib.pylab as plt\n",
    "from joblib import Parallel, delayed\n",
    "from collections import defaultdict\n",
    "from scipy import signal\n",
    "from time import time\n",
    "import cPickle as pickle\n",
    "import spUtils\n",
    "import seaborn as sns\n",
    "\n",
    "\n",
    "import graphlab as gl\n",
    "gl.canvas.set_target('ipynb')\n",
    "import pandas as pd\n",
    "\n",
    "sns.set_palette(\"husl\")\n",
    "sns.set_style(\"white\")\n",
    "sns.set_context(\"poster\")\n",
    "\n",
    "\n",
    "%matplotlib inline\n"
   ]
  },
  {
   "cell_type": "markdown",
   "metadata": {},
   "source": [
    "# Paths \n"
   ]
  },
  {
   "cell_type": "code",
   "execution_count": 3,
   "metadata": {
    "collapsed": true
   },
   "outputs": [],
   "source": [
    "\n",
    "\n",
    "qcGitDir = '/Users/Stan/Documents/myPiriform/notebooks/qc/sp112315a/'\n",
    "sframePath = '/Users/Stan/Desktop/sp112315a_h5/traces/sp112315a_processed'\n",
    "rawTraces_e1_Path = '/Users/Stan/Desktop/sp112315a_h5/traces/tracesDicts/e1_traces_dict.dat'\n",
    "rawTraces_e2_Path = '/Users/Stan/Desktop/sp112315a_h5/traces/tracesDicts/e2_traces_dict.dat'\n",
    "workflowDict_e1_Path = '/Users/Stan/Desktop/sp112315a_h5/traces/tracesDicts/workflow_dict.dat'\n",
    "workflowDict_e2_Path = '/Users/Stan/Desktop/sp112315a_h5/traces/tracesDicts/workflow_dict.dat'"
   ]
  },
  {
   "cell_type": "code",
   "execution_count": 4,
   "metadata": {
    "collapsed": true
   },
   "outputs": [],
   "source": [
    "experiment = 'sp112315a'"
   ]
  },
  {
   "cell_type": "markdown",
   "metadata": {},
   "source": [
    " # save/load"
   ]
  },
  {
   "cell_type": "code",
   "execution_count": 5,
   "metadata": {
    "collapsed": true
   },
   "outputs": [],
   "source": [
    "workflow_dict = pickle.load(open(workflowDict_e1_Path))\n",
    "#rawTraces = pickle.load(open('rawTraces_e1_Path'))['rois']['reshaped']\n",
    "#pickle.dump(workflow_dict, open(workflowDict_e1_Path, 'wb'))"
   ]
  },
  {
   "cell_type": "code",
   "execution_count": null,
   "metadata": {
    "collapsed": false
   },
   "outputs": [],
   "source": [
    "epochIDX = 1\n",
    "sframe = gl.SFrame(sframePath)\n",
    "df = sframe[sframe['epoch']==epochIDX]['0', 'cellID', 'trial', 'normed_traces', 'normed_stds', 'baselined1_traces'].to_dataframe()\n",
    "groups = df.groupby(['trial', 'cellID'])\n",
    "epoch = groups.apply(lambda x: x.reset_index(drop = True))\n",
    "\n",
    "# get dimensions\n",
    "frames, cells, trials = [epoch.loc[(1,1)]['0'].size] + [epoch[_].unique().shape[0] for _ in ['cellID','trial']]\n"
   ]
  },
  {
   "cell_type": "markdown",
   "metadata": {},
   "source": [
    "## Initialize dict"
   ]
  },
  {
   "cell_type": "code",
   "execution_count": null,
   "metadata": {
    "collapsed": true
   },
   "outputs": [],
   "source": [
    "workflow_dict = defaultdict(dict)\n",
    "# workflow_dict['raw_traces'] = traces\n",
    "# workflow_dict['numCells'] = traces.shape[1]\n",
    "# workflow_dict['numTrials'] = traces.shape[2]\n",
    "# workflow_dict['numOdors'] = 8 #change this line\n",
    "# workflow_dict['normed_traces']['corrected_rois'] = \n",
    "# workflow_dict['normed_traces']['normed_stds'] ="
   ]
  },
  {
   "cell_type": "markdown",
   "metadata": {},
   "source": [
    "## populate raw traces"
   ]
  },
  {
   "cell_type": "code",
   "execution_count": null,
   "metadata": {
    "collapsed": false
   },
   "outputs": [],
   "source": [
    "traces = np.empty((trials,cells,frames))\n",
    "for itrial, trialID in enumerate(range(1,trials+1)):\n",
    "    traces[itrial,:,:] =  np.squeeze(epoch.loc[trialID][['0']].to_panel().as_matrix())\n",
    "traces = traces.T\n",
    "workflow_dict['raw_traces'] = traces\n"
   ]
  },
  {
   "cell_type": "markdown",
   "metadata": {},
   "source": [
    "## populate normed traces"
   ]
  },
  {
   "cell_type": "code",
   "execution_count": null,
   "metadata": {
    "collapsed": false
   },
   "outputs": [],
   "source": [
    "normed_traces = np.empty((trials, cells, frames))\n",
    "for itrial, trialID in enumerate(range(1,trials+1)):\n",
    "    normed_traces[itrial,:,:] =  np.squeeze(epoch.loc[trialID][['normed_traces']].to_panel().as_matrix())\n",
    "normed_traces = normed_traces.T\n",
    "workflow_dict['normed_traces']['corrected_rois'] = normed_traces"
   ]
  },
  {
   "cell_type": "markdown",
   "metadata": {},
   "source": [
    "## populate normed_stds"
   ]
  },
  {
   "cell_type": "code",
   "execution_count": null,
   "metadata": {
    "collapsed": false
   },
   "outputs": [],
   "source": [
    "normed_stds = np.empty((cells,trials))\n",
    "this = epoch.groupby(['trial', 'cellID']).apply(lambda x: x['normed_stds'].ix[0])\n",
    "for itrial, trialID in enumerate(range(1,15+1)):\n",
    "    for cell in range(cells):\n",
    "        normed_stds[cell,itrial] = this.loc[trialID, cell]\n",
    "workflow_dict['normed_traces']['normed_stds'] = normed_stds"
   ]
  },
  {
   "cell_type": "markdown",
   "metadata": {},
   "source": [
    "## populate baselines1 for SNR"
   ]
  },
  {
   "cell_type": "code",
   "execution_count": null,
   "metadata": {
    "collapsed": false
   },
   "outputs": [],
   "source": [
    "baselines1 = np.empty((trials, cells, frames))\n",
    "for itrial, trialID in enumerate(range(1,trials+1)):\n",
    "        baselines1[itrial,:,:] = np.squeeze(epoch.loc[trialID][['baselined1_traces']].to_panel().as_matrix())\n",
    "baselines1 = baselines1.T\n",
    "workflow_dict['normed_traces']['baselines1'] = baselines1"
   ]
  },
  {
   "cell_type": "markdown",
   "metadata": {},
   "source": [
    "## populate other"
   ]
  },
  {
   "cell_type": "code",
   "execution_count": null,
   "metadata": {
    "collapsed": true
   },
   "outputs": [],
   "source": [
    "workflow_dict['numCells'] = cells\n",
    "workflow_dict['numTrials'] = trials\n",
    "workflow_dict['numOdors'] = 8 "
   ]
  },
  {
   "cell_type": "markdown",
   "metadata": {},
   "source": [
    "# Load odor info"
   ]
  },
  {
   "cell_type": "code",
   "execution_count": null,
   "metadata": {
    "collapsed": true
   },
   "outputs": [],
   "source": [
    "odor_info = pickle.load(open('/Users/Stan/Desktop/sp112315a_h5/traces/odorInfo.dat'))"
   ]
  },
  {
   "cell_type": "code",
   "execution_count": null,
   "metadata": {
    "collapsed": false
   },
   "outputs": [],
   "source": [
    "workflow_dict['odor_info']= odor_info['epoch1']"
   ]
  },
  {
   "cell_type": "markdown",
   "metadata": {},
   "source": [
    "# Filter shit cells and trials. "
   ]
  },
  {
   "cell_type": "code",
   "execution_count": null,
   "metadata": {
    "collapsed": false
   },
   "outputs": [],
   "source": [
    "#filter shit cells and trials.  \n",
    "\n",
    "#good_trials = [0,2,3,4,7,8,10,11,12,13,14]\n",
    "\n",
    "bad_cells = [866,864,327]\n",
    "\n",
    "cells = range(867)\n",
    "good_cells = [cell for cell in cells if cell not in bad_cells]\n",
    "\n",
    "normed_traces = np.squeeze(normed_traces[:,[good_cells],:])\n",
    "workflow_dict['normed_traces']['corrected_rois'] = normed_traces\n",
    "#filter stds. \n",
    "\n",
    "normed_stds = np.squeeze(workflow_dict['normed_traces']['normed_stds'][good_cells])\n",
    "workflow_dict['normed_traces']['normed_stds'] = normed_stds\n",
    "\n",
    "# baselined1_traces = np.squeeze(workflow_dict['normed_traces']['baselined1_traces'][:,[good_cells],:])\n",
    "# workflow_dict['normed_traces']['baselined1_traces'] = baselined1_traces"
   ]
  },
  {
   "cell_type": "code",
   "execution_count": null,
   "metadata": {
    "collapsed": false
   },
   "outputs": [],
   "source": [
    "#for SFRAME\n",
    "#remove bad cells trials etc. \n",
    "\n",
    "blah = epoch1.drop([2,6,7,10])\n",
    "\n",
    "epoch1Filt = blah.copy()\n",
    "\n",
    "bad cells: edge cases: 866,864,327\n",
    "\n",
    "#get values to drop index\n",
    "obj = epoch1Filt.loc[range(1,16),[866,864,327],:].index.values\n",
    "\n",
    "epoch1Filt = epoch1Filt.drop(list(obj))"
   ]
  },
  {
   "cell_type": "markdown",
   "metadata": {},
   "source": [
    "# get responders"
   ]
  },
  {
   "cell_type": "code",
   "execution_count": null,
   "metadata": {
    "collapsed": false
   },
   "outputs": [],
   "source": [
    "from spUtils.FindSigResponses.sigTesting import getcellsBasic\n",
    "numOdors = workflow_dict['numOdors']\n",
    "numCells = workflow_dict['numCells']\n",
    "numTrials = workflow_dict['numTrials']\n",
    "normed_traces=workflow_dict['normed_traces']['corrected_rois']\n",
    "window = 15 #frames... 2 seconds. \n",
    "responseDict = defaultdict(dict)\n",
    "\n",
    "for cell in range(numCells):\n",
    "    for odor in range(numOdors):\n",
    "       \n",
    "        responseDict[odor][cell] =  [trial for trial in getcellsBasic(workflow_dict, normed_traces, odor, cell, numTrials, window)]\n",
    "        "
   ]
  },
  {
   "cell_type": "code",
   "execution_count": null,
   "metadata": {
    "collapsed": false
   },
   "outputs": [],
   "source": [
    "#report number of trials (and identity) on which a response is detected. \n",
    "trial_thresh = 8\n",
    "def filterSigCells(responseDict, odor, trial_thresh = 2):\n",
    "    for cell, numTrials in responseDict[odor].items():\n",
    "        if len(numTrials)>=trial_thresh:\n",
    "            \n",
    "            yield cell, numTrials\n",
    "\n",
    "\n",
    "ResponsiveCellsbyOdor = {odor:{cell:numTrials for cell, numTrials in filterSigCells(responseDict, odor, trial_thresh)} for odor in range(numOdors)}# changwe range for new setup\n"
   ]
  },
  {
   "cell_type": "code",
   "execution_count": null,
   "metadata": {
    "collapsed": true
   },
   "outputs": [],
   "source": []
  },
  {
   "cell_type": "markdown",
   "metadata": {},
   "source": [
    "# Fraction of responsive population by odor"
   ]
  },
  {
   "cell_type": "code",
   "execution_count": null,
   "metadata": {
    "collapsed": false
   },
   "outputs": [],
   "source": [
    "\n",
    "#report number of neurons that satisfy response criterion above. then take fraction.\n",
    "FractionofPopulation= {key:len(numResponsiveCells) for key, numResponsiveCells in ResponsiveCellsbyOdor.iteritems()}\n",
    "fractionofCells = np.asarray(FractionofPopulation.values())/float(numCells)\n",
    "odorID = [odorIDX+1 for odorIDX in FractionofPopulation.keys()]\n",
    "\n",
    "#Plot\n",
    "plt.bar(FractionofPopulation.keys(), fractionofCells)#change odor range for new setup\n",
    "plt.xlabel('Odor ID')\n",
    "plt.ylabel('Fraction of Population')\n",
    "plt.title('Response Density \\n FOV:{} cells'.format(numCells))\n",
    "plt.savefig('response_density_awake.png', dpi = 300, bbox_inches = 'tight', pad_inches = 0.5)"
   ]
  },
  {
   "cell_type": "markdown",
   "metadata": {},
   "source": [
    "## Fraction of responsive population by odor \n",
    "- sorted by positive and negative changes. \n"
   ]
  },
  {
   "cell_type": "code",
   "execution_count": null,
   "metadata": {
    "collapsed": true
   },
   "outputs": [],
   "source": [
    "#number of detected deviations during odor period on 'trial_thresh' trials deems this a responding odor-cell pair.\n",
    "trial_thresh = 8"
   ]
  },
  {
   "cell_type": "code",
   "execution_count": null,
   "metadata": {
    "collapsed": true
   },
   "outputs": [],
   "source": [
    "def posSigCells(responseDict, odor, trial_thresh = 2):\n",
    "    for cell, numTrials in responseDict[odor].items():\n",
    "        if len(numTrials)>=trial_thresh:\n",
    "            if sum(x>0 for x in numTrials)>=trial_thresh:\n",
    "                yield cell, numTrials\n",
    "def negSigCells(responseDict, odor, trial_thresh = 2):\n",
    "    for cell, numTrials in responseDict[odor].items():\n",
    "        if len(numTrials)>=trial_thresh:\n",
    "            if sum(x<0 for x in numTrials)>=trial_thresh:\n",
    "                yield cell, numTrials                \n",
    "                \n",
    "\n",
    "pos_responders = {odor:{cell:numTrials for cell, numTrials in posSigCells(responseDict, odor, trial_thresh)} for odor in range(numOdors)}# changwe range for new setup\n",
    "pos_cells = {odor:len(cell_list) for odor, cell_list in pos_responders.iteritems()}\n",
    "fractionofPosCells = np.asarray(pos_cells.values())/float(numCells)\n",
    "#print fractionofPosCells\n",
    "\n",
    "neg_responders = {odor:{cell:numTrials for cell, numTrials in negSigCells(responseDict, odor, trial_thresh)} for odor in range(numOdors)}# changwe range for new setup\n",
    "neg_cells = {odor:len(cell_list) for odor, cell_list in neg_responders.iteritems()}\n",
    "fractionofNegCells = np.asarray(neg_cells.values())/float(numCells)\n",
    "\n",
    "#print fractionofNegCells\n",
    "\n",
    "# plt.figure(figsize = (5,5))\n",
    "# plt.bar(range(numOdors), sorted(fractionofPosCells), color =  'k', alpha = 0.5, label = 'excitatory')\n",
    "# plt.bar(range(numOdors), sorted(fractionofNegCells), alpha = 0.5, label = 'suppressed') #change odor range for new setup\n",
    "# plt.legend()\n",
    "# #plt.ylim(0,0.2)\n",
    "# plt.xlabel('Odor ID')\n",
    "# plt.ylabel('Fraction of Population')\n",
    "# plt.title('Response Density \\n FOV:{} cells'.format(numCells))\n",
    "#plt.savefig('ei_response_density.png', dpi = 300, bbox_inches = 'tight', pad_inches = 0.5)\n"
   ]
  },
  {
   "cell_type": "markdown",
   "metadata": {},
   "source": [
    "# Promiscuous Cells. Those that respond to more than one odor. \n",
    "-This is calculated on cells that respond to an odor on at least 50 percent of the trials. "
   ]
  },
  {
   "cell_type": "code",
   "execution_count": null,
   "metadata": {
    "collapsed": false
   },
   "outputs": [],
   "source": [
    "#obtain number of times a responding neuron was reliably detected upon presentations of multiple stimulii.\n",
    "\n",
    "PosPromiscuousCells = defaultdict(int)\n",
    "NegPromiscuousCells = defaultdict(int)\n",
    "for odor in range(numOdors):\n",
    "    for cell in pos_responders[odor].keys():   \n",
    "        PosPromiscuousCells[cell] +=1\n",
    "    for cell in neg_responders[odor].keys():  \n",
    "        NegPromiscuousCells[cell] +=1\n",
    "        \n",
    "        \n",
    "PosTotal = len(PosPromiscuousCells.values())\n",
    "NegTotal = len(NegPromiscuousCells.values())\n",
    "\n",
    "\n",
    "with sns.color_palette('cubehelix', 3):\n",
    "    plt.hist(PosPromiscuousCells.values(), bins = list(set(PosPromiscuousCells.values())),\n",
    "             histtype = 'step', linewidth = 1, cumulative = 1, normed = True, label = '{} Excited Cells'.format(PosTotal))\n",
    "    plt.ylim(0,1)\n",
    "    plt.legend(loc='lower right')\n",
    "#     plt.hist(NegPromiscuousCells.values(), bins = list(set(PosPromiscuousCells.values())), \n",
    "#              histtype = 'step', linewidth = 1, cumulative = 1, normed = True, label = '{} Suppressed Cells'.format(NegTotal))\n",
    "#     plt.ylim(0,1)\n",
    "#     plt.legend(loc = 'lower right')\n",
    "    plt.title('Proportion of cells responding \\n to multiple odors ')\n",
    "    plt.xlabel('number of odors')\n",
    "    plt.ylabel('cumulative \\n probability')\n",
    "    \n",
    "\n",
    "#plt.savefig('cells_across_odors_awake.png', dpi = 300, bbox_inches = 'tight', pad_inches = 0.5)"
   ]
  },
  {
   "cell_type": "code",
   "execution_count": null,
   "metadata": {
    "collapsed": false
   },
   "outputs": [],
   "source": [
    "# pickle.dump(sp050515a, open('/users/stan/desktop/050515/traces/sp050515a_workflow.dict','wb'))"
   ]
  },
  {
   "cell_type": "markdown",
   "metadata": {},
   "source": [
    "#           -Spread in the distribution of fluorescence by cell             - Normalized"
   ]
  },
  {
   "cell_type": "code",
   "execution_count": null,
   "metadata": {
    "collapsed": false
   },
   "outputs": [],
   "source": [
    "numOdors = workflow_dict['numOdors']\n",
    "numCells = workflow_dict['numCells']\n",
    "numTrials = workflow_dict['numTrials']\n",
    "\n",
    "skew_list = []\n",
    "for cell in range(numCells):\n",
    "    a = normed_traces[:, cell,2].T.ravel()\n",
    "    skew_list.append(scipy.stats.skew(a, bias=False))\n",
    "a = np.hstack(skew_list)\n",
    "skew = (a-np.mean(a))/np.std(a)\n",
    "\n",
    "#plot distribution of skew values for all cells. \n",
    "plt.figure(figsize = (10,10))\n",
    "plt.hist(skew, 20, log = 0, normed = 1, histtype='step', cumulative=1, label  = '{} cells'.format(numCells))\n",
    "#plt.xlim(-1,2)\n",
    "plt.xlabel('Skew')\n",
    "plt.ylabel('Proportion of cells')\n",
    "plt.title('Skew of Fluorecence distributions \\n  for all cells')\n",
    "print 'Average Skew = {0}'.format(skew.mean())\n",
    "print 'Skew STD = {0}'.format(np.std(skew))\n",
    "legend = plt.legend()\n",
    "\n",
    "# # this is an inset axes over the main axes\n",
    "# s = axes([.65, .5, .2, .2])\n",
    "\n",
    "\n",
    "# cell = 30\n",
    "# a = traces[:, cell,0]- traces[:, cell,0].mean()\n",
    "# plt.axvline(a.mean())\n",
    "\n",
    "# n, bins, patches = hist(a, 10, log=0)\n",
    "# title('Raw Intensity \\n cell 30; skew = 1.2 \\n')\n",
    "# setp(s, xticks=[], yticks=[])\n",
    "\n",
    "\n",
    "# s = axes([.65, .2, .2, .2])\n",
    "\n",
    "# cell = 102\n",
    "# a = traces[:, cell,0]- traces[:, cell,0].mean()\n",
    "\n",
    "# plt.axvline(a.mean())\n",
    "# n, bins, patches = hist(a, 10, log=0)\n",
    "# title('cell {}; skew = -1.78 \\n'.format(cell))\n",
    "# setp(s, xticks=[], yticks=[])\n",
    "plt.savefig('/Users/Stan/Desktop/temp/norm_skew.png', dpi = 300, bbox_inches = 'tight', pad_inches = 0.5)"
   ]
  },
  {
   "cell_type": "markdown",
   "metadata": {},
   "source": [
    "# Events"
   ]
  },
  {
   "cell_type": "code",
   "execution_count": null,
   "metadata": {
    "collapsed": true
   },
   "outputs": [],
   "source": [
    "from spUtils.get_normalized_traces_submodule import epoch_event_generator, findEventsParams"
   ]
  },
  {
   "cell_type": "code",
   "execution_count": null,
   "metadata": {
    "collapsed": true
   },
   "outputs": [],
   "source": [
    "meta = pickle.load(open('/Users/Stan/Desktop/sp112315a_e1_015_004_slice_0_channel_0.dat'))\n",
    "secPerFrame = meta['scanimage.SI5.scanFramePeriod'][0]\n",
    "frameRate = secPerFrame\n",
    "findEventsParams['minimum_length'] = int(1/frameRate/4)"
   ]
  },
  {
   "cell_type": "code",
   "execution_count": null,
   "metadata": {
    "collapsed": false
   },
   "outputs": [],
   "source": [
    "normed_traces = next(spUtils.gen_dict_extract('corrected_rois', workflow_dict))\n",
    "stds = workflow_dict['normed_traces']['normed_stds']#next(spUtils.gen_dict_extract('normed_stds', workflow_dict))\n",
    "numTrials = workflow_dict['numTrials']\n",
    "frames, cells, trials = normed_traces.shape\n",
    "\n",
    "events=defaultdict(dict)\n",
    "for key, val in [('pos_events',True), ('neg_events',False)]:\n",
    "    findEventsParams['positive'] = val\n",
    "    events[key] = epoch_event_generator(normed_traces, stds, cells, numTrials,**findEventsParams)\n",
    "\n",
    "#store events and params\n",
    "workflow_dict['events'] = events\n",
    "workflow_dict['events']['params'] = findEventsParams\n",
    "# save_dict()"
   ]
  },
  {
   "cell_type": "markdown",
   "metadata": {},
   "source": [
    "#  Display distribution of event magnitudes  "
   ]
  },
  {
   "cell_type": "code",
   "execution_count": null,
   "metadata": {
    "collapsed": false
   },
   "outputs": [],
   "source": [
    "from spUtils.get_normalized_traces_submodule import getMaxEvents"
   ]
  },
  {
   "cell_type": "code",
   "execution_count": null,
   "metadata": {
    "collapsed": false
   },
   "outputs": [],
   "source": [
    "numCells = workflow_dict['numCells']\n",
    "these_traces = normed_traces\n",
    "these_events = workflow_dict['events']['pos_events']\n",
    "    \n",
    "eMags = getMaxEvents(these_events[:,:,:],these_traces[:,:,:])\n",
    "workflow_dict['events']['max_events'] = eMags\n",
    "#since each detected event consists of multiple identical contiguous values. The number of values corresponds to event length.\n",
    "#the value corresponds to the average of the avent amplitude. \n",
    "\n",
    "eMags = list(np.unique(eMags[:,cell,:])[1:] for cell in range(numCells))\n",
    "eMags_pooled = np.hstack(eMags)\n",
    "\n",
    "plot = plt.hist(eMags_pooled, bins = 100, log = True)\n",
    "plt.xlim(0, 15)\n",
    "plt.title('Distribution of \\n Event Magnitudes')\n",
    "plt.xlabel('dF/F')\n",
    "plt.ylabel('number of events')\n",
    "plt.savefig('event_magnitudes_awake.png', dpi = 300, bbox_inches = 'tight', pad_inches = 0.5)"
   ]
  },
  {
   "cell_type": "markdown",
   "metadata": {},
   "source": [
    "\n",
    "#  Display distribution of event durations  "
   ]
  },
  {
   "cell_type": "code",
   "execution_count": null,
   "metadata": {
    "collapsed": false
   },
   "outputs": [],
   "source": [
    "from  d_code.events import getStartsAndStops\n",
    "from numpy import ma\n",
    "from d_code.events import getDurations\n",
    "#posDur = ma.getdata(getDurations(events['pos_events']))\n",
    "\n",
    "\n",
    "posDur = getDurations(workflow_dict['events']['pos_events'])\n",
    "condition = np.isfinite(posDur)\n",
    "pos_event_durations = (np.extract(condition, posDur))#/fps\n",
    "workflow_dict['events']['event_durations'] = pos_event_durations \n",
    "#ytick_list = [(\"%.2f\" % a) for a in np.asarray(range(0,36292,4500))/float(PosTotal)]\n",
    "#plt.hist(pos_event_durations/one_second, normed = True)\n",
    "one_second = 1/secPerFrame/4\n",
    "plot = plt.hist(pos_event_durations/one_second, bins = 50,log = True,)\n",
    "plt.xlim(0,60)\n",
    "#plt.yticks(range(0,36292,4500), ytick_list)\n",
    "\n",
    "#plt.hist(pos_event_durations/10.)\n",
    "\n",
    "plt.title('Distribution of \\n Event Duration')\n",
    "plt.ylabel('number of events')\n",
    "plt.xlabel('event duration (s)')\n",
    "\n",
    "plt.savefig('normed_event_duration_awake.png', dpi = 300, bbox_inches = 'tight', pad_inches = 0.5)"
   ]
  },
  {
   "cell_type": "markdown",
   "metadata": {},
   "source": [
    "# Investigate outlier events.\n",
    "- Ultimately, event-detection should not bias against an event of a particular duration. "
   ]
  },
  {
   "cell_type": "code",
   "execution_count": null,
   "metadata": {
    "collapsed": true
   },
   "outputs": [],
   "source": [
    "starts, stops = getStartsAndStops(workflow_dict['events']['pos_events'])"
   ]
  },
  {
   "cell_type": "code",
   "execution_count": null,
   "metadata": {
    "collapsed": false
   },
   "outputs": [],
   "source": [
    "\n",
    "exceptionalEventDurations = np.argwhere(posDur/one_second>20)\n",
    "eventID = 0\n",
    "cell, trial, this_event = exceptionalEventDurations[eventID]\n",
    "duration = posDur[cell, trial, this_event]\n",
    "i = starts[cell, trial, this_event]\n",
    "j = stops[cell, trial, this_event]\n",
    "\n",
    "#plot\n",
    "plt.figure(figsize = (20,5))\n",
    "plt.plot(normed_traces[:,cell,trial])\n",
    "plt.axvline(i)\n",
    "plt.axvline(j)"
   ]
  },
  {
   "cell_type": "code",
   "execution_count": null,
   "metadata": {
    "collapsed": true
   },
   "outputs": [],
   "source": [
    "pickle.dump(workflow_dict, open(workflowDict_e1_Path, 'wb'))"
   ]
  },
  {
   "cell_type": "code",
   "execution_count": null,
   "metadata": {
    "collapsed": false
   },
   "outputs": [],
   "source": [
    "#All events all trials all cells divided by trial length\n",
    "trial_length = secPerFrame*4*1935\n",
    "Average_Event_Frequency = eMags_pooled.shape[0]/(numCells*numTrials)/trial_length#float(PosTotal)\n",
    "Average_number_of_events_per_cell = eMags_pooled.shape[0]/numCells/numTrials"
   ]
  },
  {
   "cell_type": "code",
   "execution_count": null,
   "metadata": {
    "collapsed": false
   },
   "outputs": [],
   "source": [
    "Average_Event_Frequency"
   ]
  },
  {
   "cell_type": "code",
   "execution_count": null,
   "metadata": {
    "collapsed": false
   },
   "outputs": [],
   "source": [
    "Average_number_of_events_per_cell"
   ]
  },
  {
   "cell_type": "markdown",
   "metadata": {},
   "source": [
    "# Lifetime Sparseness"
   ]
  },
  {
   "cell_type": "code",
   "execution_count": null,
   "metadata": {
    "collapsed": false
   },
   "outputs": [],
   "source": [
    "average_response_odor_cell = {'odor_{}'.format(odor) :{cell : np.mean([trials]) for cell, trials in pos_responders[odor].iteritems()} for odor in range(numOdors)}\n",
    "\n",
    "#average_response_odor_cell = {'odor_{}'.format(odor) :{cell : np.mean([trials]) for cell, trials in neg_responders[odor].iteritems()} for odor in range(23)}\n",
    "\n",
    "#get all responsive cells\n",
    "hmm = defaultdict(list)\n",
    "for odor in range(numOdors):\n",
    "    hmm['odor_{}'.format(odor)] = [cell_list for cell_list in average_response_odor_cell['odor_{}'.format(odor)].iterkeys()] \n",
    "    \n",
    "blah = hmm.values()\n",
    "#for responsive cells only, get all resposes. \n",
    "c = []\n",
    "for item in blah:\n",
    "    c.append(item)\n",
    "d = set(np.hstack(c))\n",
    "\n",
    "\n",
    "response_list_by_cell = []\n",
    "\n",
    "for cell in d: \n",
    "    \n",
    "    a = spUtils.gen_dict_extract(cell, average_response_odor_cell)\n",
    "    response_list_by_cell.append(np.asarray([item for item in a]))\n",
    "\n",
    "\n",
    "LS_list = []\n",
    "for cell, cell_responses in enumerate(response_list_by_cell):\n",
    "    numerator = np.power(np.sum(np.absolute(cell_responses))/numOdors,2)\n",
    "    denomenator = np.sum(np.power(cell_responses,2)/float(numOdors))\n",
    "    LS_list.append(1-float(numerator)/denomenator)\n",
    "LS_list = np.hstack(LS_list)\n",
    "\n",
    "#\n",
    "\n",
    "\n",
    "counts, values = np.histogram(LS_list)\n",
    "numResponders = LS_list.shape[0]\n",
    "ytick_interval = 20\n",
    "\n",
    "plot = plt.hist(LS_list)\n",
    "ytick_list = [(\"%.2f\" % a) for a in np.asarray(range(0,counts.max(),ytick_interval))/float(numResponders)]\n",
    "ticks = plt.yticks(range(0,counts.max(),ytick_interval), ytick_list)\n",
    "plt.title('Lifetime Sparseness')\n",
    "plt.xlabel('selectivity index \\n 1 is most selective')\n",
    "plt.ylabel('proportion of responders')\n",
    "plt.savefig('LS_awake.png', dpi = 300, bbox_inches = 'tight', pad_inches = 0.5)\n"
   ]
  },
  {
   "cell_type": "markdown",
   "metadata": {},
   "source": [
    "## Plot trial-averaged responses by odor"
   ]
  },
  {
   "cell_type": "markdown",
   "metadata": {
    "collapsed": true
   },
   "source": [
    "### extract odor onset for all trials"
   ]
  },
  {
   "cell_type": "code",
   "execution_count": null,
   "metadata": {
    "collapsed": false
   },
   "outputs": [],
   "source": [
    "odor_info = spUtils.gen_dict_extract('odor_info', workflow_dict).next()\n",
    "\n",
    "odor_on_times_by_trial = defaultdict(list)\n",
    "for odor in range(1,numOdors+1):\n",
    "    for trial in range(numTrials):\n",
    "        odor_on_times_by_trial[odor].append(odor_info[trial]['on'][odor])\n",
    "        \n",
    "odor_off_times_by_trial = defaultdict(list)\n",
    "for odor in range(1,numOdors+1):\n",
    "    for trial in range(numTrials):\n",
    "        odor_off_times_by_trial[odor].append(odor_info[trial]['off'][odor])\n",
    "        \n",
    "odor_interval_by_trial = defaultdict(list)\n",
    "for odor in range(1,numOdors+1):\n",
    "    for trial in range(numTrials):\n",
    "        odor_interval_by_trial[odor].append(odor_info[trial]['pre_odor_post_interval'][odor])"
   ]
  },
  {
   "cell_type": "code",
   "execution_count": null,
   "metadata": {
    "collapsed": false
   },
   "outputs": [],
   "source": [
    "odor = 1"
   ]
  },
  {
   "cell_type": "code",
   "execution_count": null,
   "metadata": {
    "collapsed": true
   },
   "outputs": [],
   "source": [
    "for trial in range(numTrials):\n",
    "    plt.figure()\n",
    "    sta, sto  = odor_interval_by_trial[odor][trial]\n",
    "    slice_  = slice(sta,sto,1)\n",
    "    plt.imshow(normed_traces[slice_,:,trial].T, aspect = 'auto')\n",
    "    plt.axvline(113)\n",
    "    plt.axvline(128)\n",
    "    plt.clim(0,3)"
   ]
  },
  {
   "cell_type": "code",
   "execution_count": null,
   "metadata": {
    "collapsed": true
   },
   "outputs": [],
   "source": [
    "idxs = np.vstack(odor_interval_by_trial[odor])\n",
    "offset = 113\n",
    "nro=numOdors/2\n",
    "nco=2\n",
    "plt.subplots(nro,nco, sharex=True, sharey=True, figsize = (3*nro,12*nco))\n",
    "for idx, odor in enumerate(range(1,numOdors+1)):\n",
    "    aa = []\n",
    "    title = 'odor {}'.format(odor)#odor_info[0]['odor_names'][idx][1]\n",
    "    for trial in range(numTrials):\n",
    "        sta, sto  = odor_interval_by_trial[odor][trial]\n",
    "        test  = slice(sta,sto,1)\n",
    "        \n",
    "        aa.append(normed_traces[test,:,trial])\n",
    "    aa = np.dstack(aa)\n",
    "    plt.subplot(nro,nco,idx+1)\n",
    "    plt.title(title)\n",
    "    plot = plt.imshow(aa.mean(2).T, aspect = 'auto')\n",
    "    plt.ylabel('cells')\n",
    "    plt.xlabel('time (s)')\n",
    "    plt.colorbar()\n",
    "    plt.clim(0,2)\n",
    "    plt.axvline(offset)\n",
    "    plt.axvline(offset+15)\n",
    "plt.tight_layout()\n",
    "plt.savefig('AveRespsbyOdor_awake.png', dpi = 300, bbox_inches = 'tight', pad_inches = 0.5)"
   ]
  },
  {
   "cell_type": "markdown",
   "metadata": {},
   "source": [
    "### odor-cell pairs by trial by odor"
   ]
  },
  {
   "cell_type": "code",
   "execution_count": null,
   "metadata": {
    "collapsed": false
   },
   "outputs": [],
   "source": [
    "\n",
    "odor_info[0]['odor_names'] = range(1,8+1)"
   ]
  },
  {
   "cell_type": "code",
   "execution_count": null,
   "metadata": {
    "collapsed": false,
    "scrolled": true
   },
   "outputs": [],
   "source": [
    "idxs = np.vstack(odor_interval_by_trial[odor])\n",
    "\n",
    "nro=numOdors/2\n",
    "nco=2\n",
    "\n",
    "\n",
    "for trial in range(numTrials)[1:2]:\n",
    "    fig,b = plt.subplots(nro,nco, sharex=True, sharey=True, figsize = (3*nro,5*nco))\n",
    "    fig.suptitle('Trial {}'.format(trial+1), y = 1.05, fontsize=32)\n",
    "    for idx, odor in enumerate(range(1,numOdors+1)):\n",
    "        \n",
    "        title = odor_info[0]['odor_names'][idx]#[1]\n",
    "        sta, sto  = odor_interval_by_trial[odor][trial]\n",
    "        test  = slice(sta,sto,1)\n",
    "        this_trial = normed_traces[test,:,trial]\n",
    "\n",
    "        plt.subplot(nro,nco,idx+1)\n",
    "        plt.title(title)\n",
    "        v = plt.imshow(this_trial.T, aspect = 'auto')\n",
    "        plt.clim(0,3)\n",
    "        plt.axvline(offset)\n",
    "        plt.axvline(offset+15)\n",
    "        plt.tight_layout()\n",
    "    #plt.savefig('temp_{}.png'.format(trial), dpi = 300, bbox_inches = 'tight', pad_inches = 0.5)\n",
    "    #plt.close()"
   ]
  },
  {
   "cell_type": "code",
   "execution_count": null,
   "metadata": {
    "collapsed": false
   },
   "outputs": [],
   "source": [
    "from moviepy.editor import *\n",
    "files=glob('/Users/Stan/Desktop/temp/'+'*.png')\n",
    "files = sorted(files, key = lambda fname: int(fname.split('_')[-1].split('.png')[0]))\n",
    "clip = ImageSequenceClip(files, fps=1)\n",
    "# #ipython_display(clip)\n",
    "clip.write_videofile(\"/Users/Stan/Desktop/temp/temp.mp4\",fps=1, codec='mpeg4')"
   ]
  },
  {
   "cell_type": "markdown",
   "metadata": {},
   "source": [
    "### SNR"
   ]
  },
  {
   "cell_type": "code",
   "execution_count": null,
   "metadata": {
    "collapsed": false,
    "scrolled": true
   },
   "outputs": [],
   "source": [
    "from spUtils import getSNR\n",
    "from spUtils.get_normalized_traces_submodule import getMaxEvents\n",
    "from spUtils import getSNR\n",
    "\n",
    "traces = next(spUtils.gen_dict_extract('baselines1', workflow_dict))\n",
    "numCells = workflow_dict['numCells']\n",
    "events = workflow_dict['events']['pos_events']\n",
    "\n",
    "maxEvents = getMaxEvents(events,traces)\n",
    "\n",
    "# store events and params\n",
    "# workflow_dict['events']['max_events'] = maxEvents\n",
    "\n",
    "# traces = next(spUtils.gen_dict_extract('baselined1_traces', workflow_dict))\n",
    "\n",
    "# maxEvents = getMaxEvents(events,traces)\n",
    "\n",
    "# #store events and params\n",
    "# workflow_dict['events']['max_events_raw'] = maxEvents\n",
    "# #save_dict()"
   ]
  },
  {
   "cell_type": "code",
   "execution_count": null,
   "metadata": {
    "collapsed": false
   },
   "outputs": [],
   "source": [
    "#baselined1 traces\n",
    "allSNRs = []\n",
    "for cell in range(numCells):\n",
    "    for trial in range(numTrials):\n",
    "         allSNRs.append(getSNR(traces,maxEvents,cell,trial))\n",
    "allSNRs = np.hstack(allSNRs)\n",
    "allSNRs = np.array(sorted(allSNRs))\n",
    "print np.percentile(allSNRs,50)\n",
    "\n",
    "plt.hist(allSNRs, bins = 500, histtype = 'step', cumulative = True, normed = True)\n",
    "plt.xlim([0,40])\n",
    "plt.ylim([0,1.1])\n",
    "plt.title('Raw SNR')\n",
    "plt.ylabel('fraction of events')\n",
    "plt.xlabel('SNR')\n",
    "plt.savefig('SNR_awake.png', dpi = 300, bbox_inches = 'tight', pad_inches = 0.5)"
   ]
  },
  {
   "cell_type": "markdown",
   "metadata": {
    "collapsed": true
   },
   "source": [
    "# Mask"
   ]
  },
  {
   "cell_type": "code",
   "execution_count": 60,
   "metadata": {
    "collapsed": true
   },
   "outputs": [],
   "source": [
    "maskPath = '/Users/Stan/Desktop/temp/sp112315a_mask.dat'\n",
    "mask = pickle.load(open(maskPath))\n",
    "fname = '/Users/Stan/Desktop/_e2_013_concatenated.h5'"
   ]
  },
  {
   "cell_type": "code",
   "execution_count": null,
   "metadata": {
    "collapsed": true
   },
   "outputs": [],
   "source": [
    "from skimage.util import img_as_ubyte\n",
    "from skimage.transform import downscale_local_mean as localAve\n",
    "import h5py\n",
    "from scipy.stats.mstats import mquantiles\n",
    "\n",
    "with h5py.File(fname, 'r+', ) as f:\n",
    "    \n",
    "    stack = f['current_statestep2/corrected'][...]\n",
    "    \n",
    "    \n",
    "\n",
    "stack = img_as_ubyte(stack)\n",
    "a,b = mquantiles(stack.flatten(),  prob=[0.02, 1])\n",
    "stack[stack<a] = a\n",
    "stack[stack>b] = b\n",
    "\n",
    "subsampleFact = 10\n",
    "stack = localAve(stack, (1,1,subsampleFact))\n",
    "\n",
    "x,y,vidframes = stack.shape\n",
    "\n",
    "\n",
    "\n",
    "from scipy.ndimage.measurements import center_of_mass as get_coords\n",
    "\n",
    "\n",
    "a,b = scipy.ndimage.label(mask)\n",
    "coords = get_coords(mask, a, range(b+1))\n",
    "coords = [(t[1],t[0]) for t in coords]\n",
    "print coords[cell]\n",
    "\n",
    "#filter bad cells to bring mask locs in register with normed traces\n",
    "# bad_cells = [866,864,327]\n",
    "\n",
    "# cells = range(867)\n",
    "# good_cells = [cell for cell in cells if cell not in bad_cells]\n",
    "# coords = \n",
    "\n",
    "plt.figure(figsize = (10,10))\n",
    "overlay = np.ma.MaskedArray(mask.astype(bool), np.invert(mask.astype(bool)).astype(bool))\n",
    "plt.imshow(stack[...].mean(2), cmap = 'Greys_r')\n",
    "plt.imshow(overlay, cmap = 'Reds', alpha = 0.15)\n",
    "#add cell location\n",
    "#plt.gca().add_patch(plt.Circle(coords[cell],2, alpha = 1))\n",
    "#plt.savefig('mask_anesth.png')"
   ]
  },
  {
   "cell_type": "markdown",
   "metadata": {},
   "source": [
    "# Single cell movies"
   ]
  },
  {
   "cell_type": "markdown",
   "metadata": {},
   "source": [
    "## Find cells with strong events\n",
    " - Find those that have at least 3 strong events in a trial, that clear a particular threshold.\n",
    " - Thresh: 1.5 \n"
   ]
  },
  {
   "cell_type": "code",
   "execution_count": 7,
   "metadata": {
    "collapsed": true
   },
   "outputs": [],
   "source": [
    "\n",
    "def get_ave_event_by_cell(numCells, maxEventsArray, trial, eventThresh):\n",
    "    for cell in range(numCells):\n",
    "\n",
    "        cellEvents = maxEventsArray[:,cell,trial]\n",
    "        cellEvents = cellEvents[cellEvents>0]\n",
    "        if len(cellEvents)>3:\n",
    "            if cellEvents.mean()>eventThresh:\n",
    "                yield cellEvents.mean(), cell\n"
   ]
  },
  {
   "cell_type": "code",
   "execution_count": 12,
   "metadata": {
    "collapsed": true
   },
   "outputs": [],
   "source": [
    "normed_traces = workflow_dict['normed_traces']['corrected_rois']"
   ]
  },
  {
   "cell_type": "code",
   "execution_count": 42,
   "metadata": {
    "collapsed": false
   },
   "outputs": [],
   "source": [
    "strongCells = [val[1] for val in get_ave_event_by_cell(numCells = numCells, \n",
    "                                                       maxEventsArray = workflow_dict['events']['max_events'], \n",
    "                                                       trialIDX=trialIDX, \n",
    "                                                       eventThresh = 1.1)]\n"
   ]
  },
  {
   "cell_type": "code",
   "execution_count": null,
   "metadata": {
    "collapsed": true
   },
   "outputs": [],
   "source": [
    "bad_cells =[86]"
   ]
  },
  {
   "cell_type": "code",
   "execution_count": 58,
   "metadata": {
    "collapsed": false
   },
   "outputs": [
    {
     "name": "stdout",
     "output_type": "stream",
     "text": [
      "381 13\n"
     ]
    },
    {
     "data": {
      "text/plain": [
       "[<matplotlib.lines.Line2D at 0x1f2f2ca50>]"
      ]
     },
     "execution_count": 58,
     "metadata": {},
     "output_type": "execute_result"
    },
    {
     "data": {
      "image/png": "[encoded data removed]",
      "text/plain": [
       "<matplotlib.figure.Figure at 0x1f25a7950>"
      ]
     },
     "metadata": {},
     "output_type": "display_data"
    }
   ],
   "source": [
    "cell = np.random.permutation(strongCells)[0]\n",
    "#cell = 148\n",
    "trialIDX =12\n",
    "print cell, trialIDX \n",
    "\n",
    "plt.figure(figsize = (20,5))\n",
    "plt.plot(normed_traces[:,cell,trialIDX])\n"
   ]
  },
  {
   "cell_type": "code",
   "execution_count": 46,
   "metadata": {
    "collapsed": false
   },
   "outputs": [
    {
     "name": "stderr",
     "output_type": "stream",
     "text": [
      "[WARNING] /Users/Stan/anaconda/lib/python2.7/site-packages/ipykernel/__main__.py:34: DeprecationWarning: using a non-integer number instead of an integer will result in an error in the future\n",
      "\n"
     ]
    },
    {
     "name": "stdout",
     "output_type": "stream",
     "text": [
      "148\n"
     ]
    },
    {
     "ename": "KeyboardInterrupt",
     "evalue": "",
     "output_type": "error",
     "traceback": [
      "\u001b[0;31m---------------------------------------------------------------------------\u001b[0m",
      "\u001b[0;31mKeyboardInterrupt\u001b[0m                         Traceback (most recent call last)",
      "\u001b[0;32m<ipython-input-46-662d848d3fb6>\u001b[0m in \u001b[0;36m<module>\u001b[0;34m()\u001b[0m\n\u001b[1;32m     29\u001b[0m     \u001b[0maxes_1\u001b[0m \u001b[0;34m=\u001b[0m \u001b[0mplt\u001b[0m\u001b[0;34m.\u001b[0m\u001b[0msubplot\u001b[0m\u001b[0;34m(\u001b[0m\u001b[0mG\u001b[0m\u001b[0;34m[\u001b[0m\u001b[0;34m:\u001b[0m\u001b[0;36m3\u001b[0m\u001b[0;34m,\u001b[0m \u001b[0;34m:\u001b[0m\u001b[0;36m1\u001b[0m\u001b[0;34m]\u001b[0m\u001b[0;34m)\u001b[0m\u001b[0;34m\u001b[0m\u001b[0m\n\u001b[1;32m     30\u001b[0m     \u001b[0maxes_2\u001b[0m \u001b[0;34m=\u001b[0m \u001b[0mplt\u001b[0m\u001b[0;34m.\u001b[0m\u001b[0msubplot\u001b[0m\u001b[0;34m(\u001b[0m\u001b[0mG\u001b[0m\u001b[0;34m[\u001b[0m\u001b[0;36m3\u001b[0m\u001b[0;34m:\u001b[0m\u001b[0;34m,\u001b[0m \u001b[0;34m:\u001b[0m\u001b[0;34m]\u001b[0m\u001b[0;34m)\u001b[0m\u001b[0;34m\u001b[0m\u001b[0m\n\u001b[0;32m---> 31\u001b[0;31m     \u001b[0maxes_3\u001b[0m \u001b[0;34m=\u001b[0m \u001b[0mplt\u001b[0m\u001b[0;34m.\u001b[0m\u001b[0msubplot\u001b[0m\u001b[0;34m(\u001b[0m\u001b[0mG\u001b[0m\u001b[0;34m[\u001b[0m\u001b[0;34m:\u001b[0m\u001b[0;36m3\u001b[0m\u001b[0;34m,\u001b[0m \u001b[0;36m1\u001b[0m\u001b[0;34m:\u001b[0m\u001b[0;34m]\u001b[0m\u001b[0;34m)\u001b[0m\u001b[0;34m\u001b[0m\u001b[0m\n\u001b[0m\u001b[1;32m     32\u001b[0m \u001b[0;34m\u001b[0m\u001b[0m\n\u001b[1;32m     33\u001b[0m \u001b[0;34m\u001b[0m\u001b[0m\n",
      "\u001b[0;32m/Users/Stan/anaconda/lib/python2.7/site-packages/matplotlib/pyplot.pyc\u001b[0m in \u001b[0;36msubplot\u001b[0;34m(*args, **kwargs)\u001b[0m\n\u001b[1;32m    920\u001b[0m \u001b[0;34m\u001b[0m\u001b[0m\n\u001b[1;32m    921\u001b[0m     \u001b[0mfig\u001b[0m \u001b[0;34m=\u001b[0m \u001b[0mgcf\u001b[0m\u001b[0;34m(\u001b[0m\u001b[0;34m)\u001b[0m\u001b[0;34m\u001b[0m\u001b[0m\n\u001b[0;32m--> 922\u001b[0;31m     \u001b[0ma\u001b[0m \u001b[0;34m=\u001b[0m \u001b[0mfig\u001b[0m\u001b[0;34m.\u001b[0m\u001b[0madd_subplot\u001b[0m\u001b[0;34m(\u001b[0m\u001b[0;34m*\u001b[0m\u001b[0margs\u001b[0m\u001b[0;34m,\u001b[0m \u001b[0;34m**\u001b[0m\u001b[0mkwargs\u001b[0m\u001b[0;34m)\u001b[0m\u001b[0;34m\u001b[0m\u001b[0m\n\u001b[0m\u001b[1;32m    923\u001b[0m     \u001b[0mbbox\u001b[0m \u001b[0;34m=\u001b[0m \u001b[0ma\u001b[0m\u001b[0;34m.\u001b[0m\u001b[0mbbox\u001b[0m\u001b[0;34m\u001b[0m\u001b[0m\n\u001b[1;32m    924\u001b[0m     \u001b[0mbyebye\u001b[0m \u001b[0;34m=\u001b[0m \u001b[0;34m[\u001b[0m\u001b[0;34m]\u001b[0m\u001b[0;34m\u001b[0m\u001b[0m\n",
      "\u001b[0;32m/Users/Stan/anaconda/lib/python2.7/site-packages/matplotlib/figure.pyc\u001b[0m in \u001b[0;36madd_subplot\u001b[0;34m(self, *args, **kwargs)\u001b[0m\n\u001b[1;32m    956\u001b[0m                     \u001b[0mself\u001b[0m\u001b[0;34m.\u001b[0m\u001b[0m_axstack\u001b[0m\u001b[0;34m.\u001b[0m\u001b[0mremove\u001b[0m\u001b[0;34m(\u001b[0m\u001b[0max\u001b[0m\u001b[0;34m)\u001b[0m\u001b[0;34m\u001b[0m\u001b[0m\n\u001b[1;32m    957\u001b[0m \u001b[0;34m\u001b[0m\u001b[0m\n\u001b[0;32m--> 958\u001b[0;31m             \u001b[0ma\u001b[0m \u001b[0;34m=\u001b[0m \u001b[0msubplot_class_factory\u001b[0m\u001b[0;34m(\u001b[0m\u001b[0mprojection_class\u001b[0m\u001b[0;34m)\u001b[0m\u001b[0;34m(\u001b[0m\u001b[0mself\u001b[0m\u001b[0;34m,\u001b[0m \u001b[0;34m*\u001b[0m\u001b[0margs\u001b[0m\u001b[0;34m,\u001b[0m \u001b[0;34m**\u001b[0m\u001b[0mkwargs\u001b[0m\u001b[0;34m)\u001b[0m\u001b[0;34m\u001b[0m\u001b[0m\n\u001b[0m\u001b[1;32m    959\u001b[0m \u001b[0;34m\u001b[0m\u001b[0m\n\u001b[1;32m    960\u001b[0m         \u001b[0mself\u001b[0m\u001b[0;34m.\u001b[0m\u001b[0m_axstack\u001b[0m\u001b[0;34m.\u001b[0m\u001b[0madd\u001b[0m\u001b[0;34m(\u001b[0m\u001b[0mkey\u001b[0m\u001b[0;34m,\u001b[0m \u001b[0ma\u001b[0m\u001b[0;34m)\u001b[0m\u001b[0;34m\u001b[0m\u001b[0m\n",
      "\u001b[0;32m/Users/Stan/anaconda/lib/python2.7/site-packages/matplotlib/axes/_subplots.pyc\u001b[0m in \u001b[0;36m__init__\u001b[0;34m(self, fig, *args, **kwargs)\u001b[0m\n\u001b[1;32m     76\u001b[0m \u001b[0;34m\u001b[0m\u001b[0m\n\u001b[1;32m     77\u001b[0m         \u001b[0;31m# _axes_class is set in the subplot_class_factory\u001b[0m\u001b[0;34m\u001b[0m\u001b[0;34m\u001b[0m\u001b[0m\n\u001b[0;32m---> 78\u001b[0;31m         \u001b[0mself\u001b[0m\u001b[0;34m.\u001b[0m\u001b[0m_axes_class\u001b[0m\u001b[0;34m.\u001b[0m\u001b[0m__init__\u001b[0m\u001b[0;34m(\u001b[0m\u001b[0mself\u001b[0m\u001b[0;34m,\u001b[0m \u001b[0mfig\u001b[0m\u001b[0;34m,\u001b[0m \u001b[0mself\u001b[0m\u001b[0;34m.\u001b[0m\u001b[0mfigbox\u001b[0m\u001b[0;34m,\u001b[0m \u001b[0;34m**\u001b[0m\u001b[0mkwargs\u001b[0m\u001b[0;34m)\u001b[0m\u001b[0;34m\u001b[0m\u001b[0m\n\u001b[0m\u001b[1;32m     79\u001b[0m \u001b[0;34m\u001b[0m\u001b[0m\n\u001b[1;32m     80\u001b[0m     \u001b[0;32mdef\u001b[0m \u001b[0m__reduce__\u001b[0m\u001b[0;34m(\u001b[0m\u001b[0mself\u001b[0m\u001b[0;34m)\u001b[0m\u001b[0;34m:\u001b[0m\u001b[0;34m\u001b[0m\u001b[0m\n",
      "\u001b[0;32m/Users/Stan/anaconda/lib/python2.7/site-packages/matplotlib/axes/_base.pyc\u001b[0m in \u001b[0;36m__init__\u001b[0;34m(self, fig, rect, axisbg, frameon, sharex, sharey, label, xscale, yscale, **kwargs)\u001b[0m\n\u001b[1;32m    422\u001b[0m \u001b[0;34m\u001b[0m\u001b[0m\n\u001b[1;32m    423\u001b[0m         \u001b[0;31m# this call may differ for non-sep axes, eg polar\u001b[0m\u001b[0;34m\u001b[0m\u001b[0;34m\u001b[0m\u001b[0m\n\u001b[0;32m--> 424\u001b[0;31m         \u001b[0mself\u001b[0m\u001b[0;34m.\u001b[0m\u001b[0m_init_axis\u001b[0m\u001b[0;34m(\u001b[0m\u001b[0;34m)\u001b[0m\u001b[0;34m\u001b[0m\u001b[0m\n\u001b[0m\u001b[1;32m    425\u001b[0m \u001b[0;34m\u001b[0m\u001b[0m\n\u001b[1;32m    426\u001b[0m         \u001b[0;32mif\u001b[0m \u001b[0maxisbg\u001b[0m \u001b[0;32mis\u001b[0m \u001b[0mNone\u001b[0m\u001b[0;34m:\u001b[0m\u001b[0;34m\u001b[0m\u001b[0m\n",
      "\u001b[0;32m/Users/Stan/anaconda/lib/python2.7/site-packages/matplotlib/axes/_base.pyc\u001b[0m in \u001b[0;36m_init_axis\u001b[0;34m(self)\u001b[0m\n\u001b[1;32m    480\u001b[0m         \u001b[0;34m\"move this out of __init__ because non-separable axes don't use it\"\u001b[0m\u001b[0;34m\u001b[0m\u001b[0m\n\u001b[1;32m    481\u001b[0m         \u001b[0mself\u001b[0m\u001b[0;34m.\u001b[0m\u001b[0mxaxis\u001b[0m \u001b[0;34m=\u001b[0m \u001b[0mmaxis\u001b[0m\u001b[0;34m.\u001b[0m\u001b[0mXAxis\u001b[0m\u001b[0;34m(\u001b[0m\u001b[0mself\u001b[0m\u001b[0;34m)\u001b[0m\u001b[0;34m\u001b[0m\u001b[0m\n\u001b[0;32m--> 482\u001b[0;31m         \u001b[0mself\u001b[0m\u001b[0;34m.\u001b[0m\u001b[0mspines\u001b[0m\u001b[0;34m[\u001b[0m\u001b[0;34m'bottom'\u001b[0m\u001b[0;34m]\u001b[0m\u001b[0;34m.\u001b[0m\u001b[0mregister_axis\u001b[0m\u001b[0;34m(\u001b[0m\u001b[0mself\u001b[0m\u001b[0;34m.\u001b[0m\u001b[0mxaxis\u001b[0m\u001b[0;34m)\u001b[0m\u001b[0;34m\u001b[0m\u001b[0m\n\u001b[0m\u001b[1;32m    483\u001b[0m         \u001b[0mself\u001b[0m\u001b[0;34m.\u001b[0m\u001b[0mspines\u001b[0m\u001b[0;34m[\u001b[0m\u001b[0;34m'top'\u001b[0m\u001b[0;34m]\u001b[0m\u001b[0;34m.\u001b[0m\u001b[0mregister_axis\u001b[0m\u001b[0;34m(\u001b[0m\u001b[0mself\u001b[0m\u001b[0;34m.\u001b[0m\u001b[0mxaxis\u001b[0m\u001b[0;34m)\u001b[0m\u001b[0;34m\u001b[0m\u001b[0m\n\u001b[1;32m    484\u001b[0m         \u001b[0mself\u001b[0m\u001b[0;34m.\u001b[0m\u001b[0myaxis\u001b[0m \u001b[0;34m=\u001b[0m \u001b[0mmaxis\u001b[0m\u001b[0;34m.\u001b[0m\u001b[0mYAxis\u001b[0m\u001b[0;34m(\u001b[0m\u001b[0mself\u001b[0m\u001b[0;34m)\u001b[0m\u001b[0;34m\u001b[0m\u001b[0m\n",
      "\u001b[0;32m/Users/Stan/anaconda/lib/python2.7/site-packages/matplotlib/spines.pyc\u001b[0m in \u001b[0;36mregister_axis\u001b[0;34m(self, axis)\u001b[0m\n\u001b[1;32m    155\u001b[0m         \u001b[0mself\u001b[0m\u001b[0;34m.\u001b[0m\u001b[0maxis\u001b[0m \u001b[0;34m=\u001b[0m \u001b[0maxis\u001b[0m\u001b[0;34m\u001b[0m\u001b[0m\n\u001b[1;32m    156\u001b[0m         \u001b[0;32mif\u001b[0m \u001b[0mself\u001b[0m\u001b[0;34m.\u001b[0m\u001b[0maxis\u001b[0m \u001b[0;32mis\u001b[0m \u001b[0;32mnot\u001b[0m \u001b[0mNone\u001b[0m\u001b[0;34m:\u001b[0m\u001b[0;34m\u001b[0m\u001b[0m\n\u001b[0;32m--> 157\u001b[0;31m             \u001b[0mself\u001b[0m\u001b[0;34m.\u001b[0m\u001b[0maxis\u001b[0m\u001b[0;34m.\u001b[0m\u001b[0mcla\u001b[0m\u001b[0;34m(\u001b[0m\u001b[0;34m)\u001b[0m\u001b[0;34m\u001b[0m\u001b[0m\n\u001b[0m\u001b[1;32m    158\u001b[0m \u001b[0;34m\u001b[0m\u001b[0m\n\u001b[1;32m    159\u001b[0m     \u001b[0;32mdef\u001b[0m \u001b[0mcla\u001b[0m\u001b[0;34m(\u001b[0m\u001b[0mself\u001b[0m\u001b[0;34m)\u001b[0m\u001b[0;34m:\u001b[0m\u001b[0;34m\u001b[0m\u001b[0m\n",
      "\u001b[0;32m/Users/Stan/anaconda/lib/python2.7/site-packages/matplotlib/axis.pyc\u001b[0m in \u001b[0;36mcla\u001b[0;34m(self)\u001b[0m\n\u001b[1;32m    752\u001b[0m         \u001b[0mself\u001b[0m\u001b[0;34m.\u001b[0m\u001b[0m_set_artist_props\u001b[0m\u001b[0;34m(\u001b[0m\u001b[0mself\u001b[0m\u001b[0;34m.\u001b[0m\u001b[0mlabel\u001b[0m\u001b[0;34m)\u001b[0m\u001b[0;34m\u001b[0m\u001b[0m\n\u001b[1;32m    753\u001b[0m \u001b[0;34m\u001b[0m\u001b[0m\n\u001b[0;32m--> 754\u001b[0;31m         \u001b[0mself\u001b[0m\u001b[0;34m.\u001b[0m\u001b[0mreset_ticks\u001b[0m\u001b[0;34m(\u001b[0m\u001b[0;34m)\u001b[0m\u001b[0;34m\u001b[0m\u001b[0m\n\u001b[0m\u001b[1;32m    755\u001b[0m \u001b[0;34m\u001b[0m\u001b[0m\n\u001b[1;32m    756\u001b[0m         \u001b[0mself\u001b[0m\u001b[0;34m.\u001b[0m\u001b[0mconverter\u001b[0m \u001b[0;34m=\u001b[0m \u001b[0mNone\u001b[0m\u001b[0;34m\u001b[0m\u001b[0m\n",
      "\u001b[0;32m/Users/Stan/anaconda/lib/python2.7/site-packages/matplotlib/axis.pyc\u001b[0m in \u001b[0;36mreset_ticks\u001b[0;34m(self)\u001b[0m\n\u001b[1;32m    766\u001b[0m \u001b[0;34m\u001b[0m\u001b[0m\n\u001b[1;32m    767\u001b[0m         \u001b[0mself\u001b[0m\u001b[0;34m.\u001b[0m\u001b[0mmajorTicks\u001b[0m\u001b[0;34m.\u001b[0m\u001b[0mextend\u001b[0m\u001b[0;34m(\u001b[0m\u001b[0;34m[\u001b[0m\u001b[0mself\u001b[0m\u001b[0;34m.\u001b[0m\u001b[0m_get_tick\u001b[0m\u001b[0;34m(\u001b[0m\u001b[0mmajor\u001b[0m\u001b[0;34m=\u001b[0m\u001b[0mTrue\u001b[0m\u001b[0;34m)\u001b[0m\u001b[0;34m]\u001b[0m\u001b[0;34m)\u001b[0m\u001b[0;34m\u001b[0m\u001b[0m\n\u001b[0;32m--> 768\u001b[0;31m         \u001b[0mself\u001b[0m\u001b[0;34m.\u001b[0m\u001b[0mminorTicks\u001b[0m\u001b[0;34m.\u001b[0m\u001b[0mextend\u001b[0m\u001b[0;34m(\u001b[0m\u001b[0;34m[\u001b[0m\u001b[0mself\u001b[0m\u001b[0;34m.\u001b[0m\u001b[0m_get_tick\u001b[0m\u001b[0;34m(\u001b[0m\u001b[0mmajor\u001b[0m\u001b[0;34m=\u001b[0m\u001b[0mFalse\u001b[0m\u001b[0;34m)\u001b[0m\u001b[0;34m]\u001b[0m\u001b[0;34m)\u001b[0m\u001b[0;34m\u001b[0m\u001b[0m\n\u001b[0m\u001b[1;32m    769\u001b[0m         \u001b[0mself\u001b[0m\u001b[0;34m.\u001b[0m\u001b[0m_lastNumMajorTicks\u001b[0m \u001b[0;34m=\u001b[0m \u001b[0;36m1\u001b[0m\u001b[0;34m\u001b[0m\u001b[0m\n\u001b[1;32m    770\u001b[0m         \u001b[0mself\u001b[0m\u001b[0;34m.\u001b[0m\u001b[0m_lastNumMinorTicks\u001b[0m \u001b[0;34m=\u001b[0m \u001b[0;36m1\u001b[0m\u001b[0;34m\u001b[0m\u001b[0m\n",
      "\u001b[0;32m/Users/Stan/anaconda/lib/python2.7/site-packages/matplotlib/axis.pyc\u001b[0m in \u001b[0;36m_get_tick\u001b[0;34m(self, major)\u001b[0m\n\u001b[1;32m   1660\u001b[0m         \u001b[0;32melse\u001b[0m\u001b[0;34m:\u001b[0m\u001b[0;34m\u001b[0m\u001b[0m\n\u001b[1;32m   1661\u001b[0m             \u001b[0mtick_kw\u001b[0m \u001b[0;34m=\u001b[0m \u001b[0mself\u001b[0m\u001b[0;34m.\u001b[0m\u001b[0m_minor_tick_kw\u001b[0m\u001b[0;34m\u001b[0m\u001b[0m\n\u001b[0;32m-> 1662\u001b[0;31m         \u001b[0;32mreturn\u001b[0m \u001b[0mXTick\u001b[0m\u001b[0;34m(\u001b[0m\u001b[0mself\u001b[0m\u001b[0;34m.\u001b[0m\u001b[0maxes\u001b[0m\u001b[0;34m,\u001b[0m \u001b[0;36m0\u001b[0m\u001b[0;34m,\u001b[0m \u001b[0;34m''\u001b[0m\u001b[0;34m,\u001b[0m \u001b[0mmajor\u001b[0m\u001b[0;34m=\u001b[0m\u001b[0mmajor\u001b[0m\u001b[0;34m,\u001b[0m \u001b[0;34m**\u001b[0m\u001b[0mtick_kw\u001b[0m\u001b[0;34m)\u001b[0m\u001b[0;34m\u001b[0m\u001b[0m\n\u001b[0m\u001b[1;32m   1663\u001b[0m \u001b[0;34m\u001b[0m\u001b[0m\n\u001b[1;32m   1664\u001b[0m     \u001b[0;32mdef\u001b[0m \u001b[0m_get_label\u001b[0m\u001b[0;34m(\u001b[0m\u001b[0mself\u001b[0m\u001b[0;34m)\u001b[0m\u001b[0;34m:\u001b[0m\u001b[0;34m\u001b[0m\u001b[0m\n",
      "\u001b[0;32m/Users/Stan/anaconda/lib/python2.7/site-packages/matplotlib/axis.pyc\u001b[0m in \u001b[0;36m__init__\u001b[0;34m(self, axes, loc, label, size, width, color, tickdir, pad, labelsize, labelcolor, zorder, gridOn, tick1On, tick2On, label1On, label2On, major)\u001b[0m\n\u001b[1;32m    150\u001b[0m         \u001b[0mself\u001b[0m\u001b[0;34m.\u001b[0m\u001b[0mgridline\u001b[0m \u001b[0;34m=\u001b[0m \u001b[0mself\u001b[0m\u001b[0;34m.\u001b[0m\u001b[0m_get_gridline\u001b[0m\u001b[0;34m(\u001b[0m\u001b[0;34m)\u001b[0m\u001b[0;34m\u001b[0m\u001b[0m\n\u001b[1;32m    151\u001b[0m \u001b[0;34m\u001b[0m\u001b[0m\n\u001b[0;32m--> 152\u001b[0;31m         \u001b[0mself\u001b[0m\u001b[0;34m.\u001b[0m\u001b[0mlabel1\u001b[0m \u001b[0;34m=\u001b[0m \u001b[0mself\u001b[0m\u001b[0;34m.\u001b[0m\u001b[0m_get_text1\u001b[0m\u001b[0;34m(\u001b[0m\u001b[0;34m)\u001b[0m\u001b[0;34m\u001b[0m\u001b[0m\n\u001b[0m\u001b[1;32m    153\u001b[0m         \u001b[0mself\u001b[0m\u001b[0;34m.\u001b[0m\u001b[0mlabel\u001b[0m \u001b[0;34m=\u001b[0m \u001b[0mself\u001b[0m\u001b[0;34m.\u001b[0m\u001b[0mlabel1\u001b[0m  \u001b[0;31m# legacy name\u001b[0m\u001b[0;34m\u001b[0m\u001b[0m\n\u001b[1;32m    154\u001b[0m         \u001b[0mself\u001b[0m\u001b[0;34m.\u001b[0m\u001b[0mlabel2\u001b[0m \u001b[0;34m=\u001b[0m \u001b[0mself\u001b[0m\u001b[0;34m.\u001b[0m\u001b[0m_get_text2\u001b[0m\u001b[0;34m(\u001b[0m\u001b[0;34m)\u001b[0m\u001b[0;34m\u001b[0m\u001b[0m\n",
      "\u001b[0;32m/Users/Stan/anaconda/lib/python2.7/site-packages/matplotlib/axis.pyc\u001b[0m in \u001b[0;36m_get_text1\u001b[0;34m(self)\u001b[0m\n\u001b[1;32m    361\u001b[0m         t = mtext.Text(\n\u001b[1;32m    362\u001b[0m             \u001b[0mx\u001b[0m\u001b[0;34m=\u001b[0m\u001b[0;36m0\u001b[0m\u001b[0;34m,\u001b[0m \u001b[0my\u001b[0m\u001b[0;34m=\u001b[0m\u001b[0;36m0\u001b[0m\u001b[0;34m,\u001b[0m\u001b[0;34m\u001b[0m\u001b[0m\n\u001b[0;32m--> 363\u001b[0;31m             \u001b[0mfontproperties\u001b[0m\u001b[0;34m=\u001b[0m\u001b[0mfont_manager\u001b[0m\u001b[0;34m.\u001b[0m\u001b[0mFontProperties\u001b[0m\u001b[0;34m(\u001b[0m\u001b[0msize\u001b[0m\u001b[0;34m=\u001b[0m\u001b[0mself\u001b[0m\u001b[0;34m.\u001b[0m\u001b[0m_labelsize\u001b[0m\u001b[0;34m)\u001b[0m\u001b[0;34m,\u001b[0m\u001b[0;34m\u001b[0m\u001b[0m\n\u001b[0m\u001b[1;32m    364\u001b[0m             \u001b[0mcolor\u001b[0m\u001b[0;34m=\u001b[0m\u001b[0mself\u001b[0m\u001b[0;34m.\u001b[0m\u001b[0m_labelcolor\u001b[0m\u001b[0;34m,\u001b[0m\u001b[0;34m\u001b[0m\u001b[0m\n\u001b[1;32m    365\u001b[0m             \u001b[0mverticalalignment\u001b[0m\u001b[0;34m=\u001b[0m\u001b[0mvert\u001b[0m\u001b[0;34m,\u001b[0m\u001b[0;34m\u001b[0m\u001b[0m\n",
      "\u001b[0;32m/Users/Stan/anaconda/lib/python2.7/site-packages/matplotlib/font_manager.pyc\u001b[0m in \u001b[0;36m__init__\u001b[0;34m(self, family, style, variant, weight, stretch, size, fname, _init)\u001b[0m\n\u001b[1;32m    690\u001b[0m         \u001b[0mself\u001b[0m\u001b[0;34m.\u001b[0m\u001b[0mset_style\u001b[0m\u001b[0;34m(\u001b[0m\u001b[0mstyle\u001b[0m\u001b[0;34m)\u001b[0m\u001b[0;34m\u001b[0m\u001b[0m\n\u001b[1;32m    691\u001b[0m         \u001b[0mself\u001b[0m\u001b[0;34m.\u001b[0m\u001b[0mset_variant\u001b[0m\u001b[0;34m(\u001b[0m\u001b[0mvariant\u001b[0m\u001b[0;34m)\u001b[0m\u001b[0;34m\u001b[0m\u001b[0m\n\u001b[0;32m--> 692\u001b[0;31m         \u001b[0mself\u001b[0m\u001b[0;34m.\u001b[0m\u001b[0mset_weight\u001b[0m\u001b[0;34m(\u001b[0m\u001b[0mweight\u001b[0m\u001b[0;34m)\u001b[0m\u001b[0;34m\u001b[0m\u001b[0m\n\u001b[0m\u001b[1;32m    693\u001b[0m         \u001b[0mself\u001b[0m\u001b[0;34m.\u001b[0m\u001b[0mset_stretch\u001b[0m\u001b[0;34m(\u001b[0m\u001b[0mstretch\u001b[0m\u001b[0;34m)\u001b[0m\u001b[0;34m\u001b[0m\u001b[0m\n\u001b[1;32m    694\u001b[0m         \u001b[0mself\u001b[0m\u001b[0;34m.\u001b[0m\u001b[0mset_file\u001b[0m\u001b[0;34m(\u001b[0m\u001b[0mfname\u001b[0m\u001b[0;34m)\u001b[0m\u001b[0;34m\u001b[0m\u001b[0m\n",
      "\u001b[0;32m/Users/Stan/anaconda/lib/python2.7/site-packages/matplotlib/font_manager.pyc\u001b[0m in \u001b[0;36mset_weight\u001b[0;34m(self, weight)\u001b[0m\n\u001b[1;32m    859\u001b[0m             \u001b[0mweight\u001b[0m \u001b[0;34m=\u001b[0m \u001b[0mrcParams\u001b[0m\u001b[0;34m[\u001b[0m\u001b[0;34m'font.weight'\u001b[0m\u001b[0;34m]\u001b[0m\u001b[0;34m\u001b[0m\u001b[0m\n\u001b[1;32m    860\u001b[0m         \u001b[0;32mtry\u001b[0m\u001b[0;34m:\u001b[0m\u001b[0;34m\u001b[0m\u001b[0m\n\u001b[0;32m--> 861\u001b[0;31m             \u001b[0mweight\u001b[0m \u001b[0;34m=\u001b[0m \u001b[0mint\u001b[0m\u001b[0;34m(\u001b[0m\u001b[0mweight\u001b[0m\u001b[0;34m)\u001b[0m\u001b[0;34m\u001b[0m\u001b[0m\n\u001b[0m\u001b[1;32m    862\u001b[0m             \u001b[0;32mif\u001b[0m \u001b[0mweight\u001b[0m \u001b[0;34m<\u001b[0m \u001b[0;36m0\u001b[0m \u001b[0;32mor\u001b[0m \u001b[0mweight\u001b[0m \u001b[0;34m>\u001b[0m \u001b[0;36m1000\u001b[0m\u001b[0;34m:\u001b[0m\u001b[0;34m\u001b[0m\u001b[0m\n\u001b[1;32m    863\u001b[0m                 \u001b[0;32mraise\u001b[0m \u001b[0mValueError\u001b[0m\u001b[0;34m(\u001b[0m\u001b[0;34m)\u001b[0m\u001b[0;34m\u001b[0m\u001b[0m\n",
      "\u001b[0;31mKeyboardInterrupt\u001b[0m: "
     ]
    },
    {
     "data": {
      "image/png": "[encoded data removed]",
      "text/plain": [
       "<matplotlib.figure.Figure at 0x1edf54b10>"
      ]
     },
     "metadata": {},
     "output_type": "display_data"
    }
   ],
   "source": [
    "import spUtils\n",
    "\n",
    "cell = np.random.permutation(strongCells)[0]\n",
    "cell = 148\n",
    "print cell\n",
    "\n",
    "trialIDX =13\n",
    "\n",
    "#Specify dimensions and location of zoom window around cell mask\n",
    "halfRad = 25\n",
    "yi = coords[cell][1]-halfRad\n",
    "yf = coords[cell][1]+halfRad\n",
    "xi = coords[cell][0]-halfRad\n",
    "xf = coords[cell][0]+halfRad\n",
    "\n",
    "#process mask overlay\n",
    "overlay = np.ma.MaskedArray(mask.astype(bool), np.invert(mask.astype(bool)).astype(bool))\n",
    "\n",
    "import matplotlib.gridspec as gridspec\n",
    "#from spUtils import xticksInSec\n",
    "\n",
    "for frame in range(vidframes)[:]:\n",
    "    #set display range for zoom window to correspond to that of entire FOV\n",
    "    colormin = stack[...,frame].min()\n",
    "    colormax = stack[...,frame].max()\n",
    "    \n",
    "    plt.figure(figsize=(16, 9))\n",
    "    G = gridspec.GridSpec(4, 2)\n",
    "    axes_1 = plt.subplot(G[:3, :1])\n",
    "    axes_2 = plt.subplot(G[3:, :])\n",
    "    axes_3 = plt.subplot(G[:3, 1:])\n",
    "\n",
    "    \n",
    "    axes_1.imshow(stack[yi:yf,xi:xf,frame], cmap = 'Greys_r',  aspect = 'auto', vmin = colormin, vmax = colormax)\n",
    "    axes_1.imshow(overlay[yi:yf,xi:xf,], cmap = 'Reds', alpha = 0.15)\n",
    "    axes_1.add_patch(plt.Circle((halfRad,halfRad),.5, alpha = 1))\n",
    "    axes_1.set_ylabel('df/Fa')\n",
    "\n",
    "    axes_3.imshow(stack[...,frame], cmap = 'Greys_r',  aspect = 'auto')\n",
    "    axes_3.imshow(overlay, cmap = 'Reds', alpha = 0.15)\n",
    "    axes_3.add_patch(plt.Circle(coords[cell],5, alpha = 1))\n",
    "    \n",
    "\n",
    "    axes_2 = plt.subplot(G[3:, :])\n",
    "    axes_2.set_title('Cell {0} Trial {1}'.format(cell,trial))\n",
    "    axes_2.plot(normed_traces[:,cell, trialIDX], linewidth = 0.8)\n",
    "    axes_2.axvline(range(0,normed_traces.shape[0],subsampleFact)[frame], linewidth = 1)\n",
    "    axes_2.xticks = spUtils.xticksInSec(framerate = 7.55, secInterval = 30, plotLengthInFrames = normed_traces.shape[0])\n",
    "    axes_2.set_ylim((-.2,3))\n",
    "    axes_2.set_xlabel('sec')\n",
    "    plt.savefig('/Users/Stan/Desktop/cool/pic_{}.png'.format(frame))\n",
    "    plt.close()\n",
    "from moviepy.editor import *\n",
    "files=glob('/Users/Stan/Desktop/cool/'+'*.png')\n",
    "files = sorted(files, key = lambda fname: int(fname.split('_')[-1].split('.png')[0]))\n",
    "clip = ImageSequenceClip(files, fps=1)\n",
    "# #ipython_display(clip)\n",
    "clip.write_videofile(\"/Users/Stan/Desktop/cool/Cell_{0}_Trial_{1}.mp4\".format(cell,trialIDX) ,fps=1, codec='mpeg4')"
   ]
  },
  {
   "cell_type": "markdown",
   "metadata": {},
   "source": [
    "# Extra"
   ]
  },
  {
   "cell_type": "code",
   "execution_count": null,
   "metadata": {
    "collapsed": true
   },
   "outputs": [],
   "source": [
    "from scipy.stats.mstats import mquantiles\n",
    "\n",
    "for trial in range(normed_traces.shape[2]):\n",
    "    min_, max_ = mquantiles(normed_traces[...,trial].flatten(),  prob=[0.001, .999])\n",
    "    plt.figure(figsize = (20,5))\n",
    "    plt.imshow(normed_traces[...,trial].T, aspect = 'auto', vmin = min_, vmax = max_)\n",
    "    plt.title('trial_{}'.format(trial+1))\n",
    "    plt.colorbar()\n",
    "\n",
    "# plt.figure(figsize = (20,5))\n",
    "# plt.imshow(traces[...,trial].T, aspect = 'auto')\n",
    "# plt.colorbar()\n",
    "\n",
    "# plt.figure(figsize = (20,5))\n",
    "# plt.imshow(normed_traces[...,trial].T, aspect = 'auto')\n",
    "# plt.colorbar()"
   ]
  },
  {
   "cell_type": "code",
   "execution_count": null,
   "metadata": {
    "collapsed": true
   },
   "outputs": [],
   "source": []
  },
  {
   "cell_type": "code",
   "execution_count": null,
   "metadata": {
    "collapsed": true
   },
   "outputs": [],
   "source": [
    "#Inspect responder output.\n",
    "\n",
    "trial = 3\n",
    "interval = odor_info[trial]['pre_odor_post_interval'][odor+1]\n",
    "plt.plot(normed_traces[interval[0]:interval[1], cell,trial])\n",
    "plt.axvline(113)\n",
    "plt.axvline(128)"
   ]
  },
  {
   "cell_type": "code",
   "execution_count": null,
   "metadata": {
    "collapsed": false
   },
   "outputs": [],
   "source": [
    "fig = plt.figure(figsize = (20,10))\n",
    "plt.imshow(traces[:,:,1].T, aspect = 'auto')"
   ]
  },
  {
   "cell_type": "code",
   "execution_count": null,
   "metadata": {
    "collapsed": false
   },
   "outputs": [],
   "source": [
    "df = epoch.loc[1]['0'].unstack()"
   ]
  },
  {
   "cell_type": "code",
   "execution_count": null,
   "metadata": {
    "collapsed": true
   },
   "outputs": [],
   "source": [
    "import plotly\n",
    "from plotly.graph_objs import *\n",
    "from plotly.offline import download_plotlyjs, init_notebook_mode, iplot\n",
    "init_notebook_mode() # run at the start of every ipython notebook to use plotly.offline\n",
    "                     # this injects the plotly.js source files into the notebook\n",
    "    #combine all with seaborn and pandas. \n",
    "import cufflinks as cf\n",
    "cf.go_offline()"
   ]
  },
  {
   "cell_type": "code",
   "execution_count": null,
   "metadata": {
    "collapsed": false,
    "scrolled": false
   },
   "outputs": [],
   "source": [
    "df.T.iplot(kind='heatmap', colorscale='greys', dimensions=(800, 1000))"
   ]
  },
  {
   "cell_type": "code",
   "execution_count": null,
   "metadata": {
    "collapsed": true
   },
   "outputs": [],
   "source": []
  },
  {
   "cell_type": "code",
   "execution_count": null,
   "metadata": {
    "collapsed": true
   },
   "outputs": [],
   "source": []
  }
 ],
 "metadata": {
  "kernelspec": {
   "display_name": "Python 2",
   "language": "python",
   "name": "python2"
  },
  "language_info": {
   "codemirror_mode": {
    "name": "ipython",
    "version": 2
   },
   "file_extension": ".py",
   "mimetype": "text/x-python",
   "name": "python",
   "nbconvert_exporter": "python",
   "pygments_lexer": "ipython2",
   "version": "2.7.11"
  }
 },
 "nbformat": 4,
 "nbformat_minor": 0
}
