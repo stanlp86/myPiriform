{
 "cells": [
  {
   "cell_type": "markdown",
   "metadata": {},
   "source": [
    "<a id = 'top'></a>\n",
    "\n",
    "[Configure Notebook](#configure)  \n",
    "***\n",
    "\n",
    "# Cross-trial aligment checks by cell  \n",
    "###### For each ROI Plot average displacement normalized to roi radius as mask.\n",
    "\n",
    "We find a trial where we know each cell is well represented by its mask. We then assume that any FOV displacement will cause the local neighborhood around the mask to shift uniformly. If the cell doesn’t move under the mask, then we should be able to reliably identify it in the local neighborhood across the experiment. To quantify displacement, we can cross correlate the small representative mask to its larger neighborhood across time.  Periods where the displacement between correlation peaks is greater than half the mask diameter can be isolated and excluded.\n",
    "\n",
    " \n",
    ">[Calculate displacement for each ROI](#calculate)  \n",
    ">[Plot](#plot)  \n",
    ">[FNCC functions](#functions)  \n",
    "\n"
   ]
  },
  {
   "cell_type": "markdown",
   "metadata": {},
   "source": [
    "##### Set Paths"
   ]
  },
  {
   "cell_type": "code",
   "execution_count": 2,
   "metadata": {
    "collapsed": true
   },
   "outputs": [],
   "source": [
    "qcGitDir = '/Users/Stan/Documents/myPiriform/notebooks/qc/sp041216a/'\n",
    "experiment = 'sp041216a'\n",
    "odorPath = '/Users/Stan/Desktop/sp041216a/odorInfo.dat'\n",
    "maskPath = '/Users/Stan/Desktop/sp041216a/segmentation/maskThirdRound.dat'\n",
    "\n",
    "sframePath = '/Users/Stan/Desktop/sp041216a/tracesDFfromTrial/sframe_processed'\n",
    "rawTraces_e2_Path = '/Users/Stan/Desktop/sp041216a/e2_traces_dict.dat'\n",
    "rawTraces_e3_Path = '/Users/Stan/Desktop/sp041216a/e3_traces_dict.dat'\n",
    "workflowDict_e2_Path = '/Users/Stan/Desktop/sp041216a/workflow_dict_e2.dat'\n",
    "workflowDict_e3_Path = '/Users/Stan/Desktop/sp041216a/workflow_dict_e3.dat'\n",
    "h5FnamesDir = '/Users/Stan/Desktop/sp041216a/h5/red/'\n"
   ]
  },
  {
   "cell_type": "markdown",
   "metadata": {},
   "source": [
    "##### Load mask and odor info"
   ]
  },
  {
   "cell_type": "code",
   "execution_count": 6,
   "metadata": {
    "collapsed": false
   },
   "outputs": [],
   "source": [
    "sframe = gl.SFrame(sframePath)\n",
    "fname = '/Users/Stan/Desktop/sp041216a/h5/red/_e2_010_concatenated.h5'\n",
    "mask = pickle.load(open(maskPath)).astype(int)\n",
    "\n",
    "odorInfo = pickle.load(open(odorPath))\n",
    "\n",
    "fnames = glob(h5FnamesDir + '*.h5')\n",
    "targetfname = fnames[0]"
   ]
  },
  {
   "cell_type": "code",
   "execution_count": 7,
   "metadata": {
    "collapsed": false
   },
   "outputs": [
    {
     "data": {
      "text/plain": [
       "'/Users/Stan/Desktop/sp041216a/h5/red/_e2_010_concatenated.h5'"
      ]
     },
     "execution_count": 7,
     "metadata": {},
     "output_type": "execute_result"
    }
   ],
   "source": [
    "targetfname"
   ]
  },
  {
   "cell_type": "code",
   "execution_count": 8,
   "metadata": {
    "collapsed": false
   },
   "outputs": [
    {
     "data": {
      "text/plain": [
       "['/Users/Stan/Desktop/sp041216a/h5/red/_e2_010_concatenated.h5',\n",
       " '/Users/Stan/Desktop/sp041216a/h5/red/_e2_011_concatenated.h5',\n",
       " '/Users/Stan/Desktop/sp041216a/h5/red/_e2_012_concatenated.h5',\n",
       " '/Users/Stan/Desktop/sp041216a/h5/red/_e2_013_concatenated.h5',\n",
       " '/Users/Stan/Desktop/sp041216a/h5/red/_e2_014_concatenated.h5',\n",
       " '/Users/Stan/Desktop/sp041216a/h5/red/_e2_015_concatenated.h5',\n",
       " '/Users/Stan/Desktop/sp041216a/h5/red/_e2_016_concatenated.h5',\n",
       " '/Users/Stan/Desktop/sp041216a/h5/red/_e2_017_concatenated.h5',\n",
       " '/Users/Stan/Desktop/sp041216a/h5/red/_e2_018_concatenated.h5',\n",
       " '/Users/Stan/Desktop/sp041216a/h5/red/_e2_019_concatenated.h5',\n",
       " '/Users/Stan/Desktop/sp041216a/h5/red/_e2_020_concatenated.h5',\n",
       " '/Users/Stan/Desktop/sp041216a/h5/red/_e3_003_concatenated.h5',\n",
       " '/Users/Stan/Desktop/sp041216a/h5/red/_e3_004_concatenated.h5',\n",
       " '/Users/Stan/Desktop/sp041216a/h5/red/_e3_005_concatenated.h5',\n",
       " '/Users/Stan/Desktop/sp041216a/h5/red/_e3_007_concatenated.h5',\n",
       " '/Users/Stan/Desktop/sp041216a/h5/red/_e3_008_concatenated.h5',\n",
       " '/Users/Stan/Desktop/sp041216a/h5/red/_e3_009_concatenated.h5',\n",
       " '/Users/Stan/Desktop/sp041216a/h5/red/_e3_010_concatenated.h5',\n",
       " '/Users/Stan/Desktop/sp041216a/h5/red/_e3_011_concatenated.h5',\n",
       " '/Users/Stan/Desktop/sp041216a/h5/red/_e3_012_concatenated.h5',\n",
       " '/Users/Stan/Desktop/sp041216a/h5/red/_e3_013_concatenated.h5',\n",
       " '/Users/Stan/Desktop/sp041216a/h5/red/_e3_014_concatenated.h5',\n",
       " '/Users/Stan/Desktop/sp041216a/h5/red/_e3_015_concatenated.h5',\n",
       " '/Users/Stan/Desktop/sp041216a/h5/red/_e3_016_concatenated.h5',\n",
       " '/Users/Stan/Desktop/sp041216a/h5/red/_e3_017_concatenated.h5',\n",
       " '/Users/Stan/Desktop/sp041216a/h5/red/_e3_018_concatenated.h5',\n",
       " '/Users/Stan/Desktop/sp041216a/h5/red/_e3_019_concatenated.h5',\n",
       " '/Users/Stan/Desktop/sp041216a/h5/red/_e3_020_concatenated.h5',\n",
       " '/Users/Stan/Desktop/sp041216a/h5/red/_e3_021_concatenated.h5',\n",
       " '/Users/Stan/Desktop/sp041216a/h5/red/_e3_022_concatenated.h5',\n",
       " '/Users/Stan/Desktop/sp041216a/h5/red/_e3_023_concatenated.h5',\n",
       " '/Users/Stan/Desktop/sp041216a/h5/red/_e3_024_concatenated.h5']"
      ]
     },
     "execution_count": 8,
     "metadata": {},
     "output_type": "execute_result"
    }
   ],
   "source": [
    "fnames"
   ]
  },
  {
   "cell_type": "markdown",
   "metadata": {},
   "source": [
    "<a id = 'calculate'></a>\n",
    "##### Calculate cross-trial displacement\n",
    "[back to top](#top)"
   ]
  },
  {
   "cell_type": "code",
   "execution_count": 9,
   "metadata": {
    "collapsed": true
   },
   "outputs": [],
   "source": [
    "mask = mask.astype(int)"
   ]
  },
  {
   "cell_type": "code",
   "execution_count": 13,
   "metadata": {
    "collapsed": false
   },
   "outputs": [
    {
     "name": "stdout",
     "output_type": "stream",
     "text": [
      "Exception: cell 39, -7  neighborhood outside image\n",
      "Exception: cell 40, -17  neighborhood outside image\n",
      "Exception: cell 71, -6  neighborhood outside image\n",
      "Exception: cell 171, -8  neighborhood outside image\n",
      "Exception: cell 200, -4  neighborhood outside image\n",
      "Exception: cell 212, -9  neighborhood outside image\n",
      "Exception: cell 214, -3  neighborhood outside image\n",
      "Exception: cell 215, -3  neighborhood outside image\n",
      "Exception: cell 217, -1  neighborhood outside image\n",
      "Exception: cell 303, 520  neighborhood outside image\n",
      "Exception: cell 343, 515  neighborhood outside image\n",
      "Exception: cell 380, 523  neighborhood outside image\n",
      "Exception: cell 403, 514  neighborhood outside image\n",
      "Exception: cell 404, 521  neighborhood outside image\n",
      "Exception: cell 405, 514  neighborhood outside image\n",
      "Exception: cell 407, 524  neighborhood outside image\n",
      "Exception: cell 411, 518  neighborhood outside image\n",
      "Exception: cell 415, 524  neighborhood outside image\n",
      "Exception: cell 416, 514  neighborhood outside image\n",
      "Exception: cell 468, -9  neighborhood outside image\n",
      "Exception: cell 519, 524  neighborhood outside image\n",
      "Exception: cell 520, 513  neighborhood outside image\n",
      "Exception: cell 521, 522  neighborhood outside image\n",
      "Exception: cell 530, 520  neighborhood outside image\n",
      "Exception: cell 535, 518  neighborhood outside image\n",
      "Exception: cell 545, 522  neighborhood outside image\n",
      "Exception: cell 559, -6  neighborhood outside image\n",
      "Exception: cell 562, -8  neighborhood outside image\n",
      "Exception: cell 580, -15  neighborhood outside image\n",
      "Exception: cell 591, 514  neighborhood outside image\n",
      "Exception: cell 592, 523  neighborhood outside image\n",
      "Exception: cell 593, 524  neighborhood outside image\n",
      "Exception: cell 609, 517  neighborhood outside image\n",
      "Exception: cell 615, 514  neighborhood outside image\n",
      "Exception: cell 616, 515  neighborhood outside image\n",
      "Exception: cell 39, -7  neighborhood outside image\n",
      "Exception: cell 40, -17  neighborhood outside image\n",
      "Exception: cell 71, -6  neighborhood outside image\n",
      "Exception: cell 171, -8  neighborhood outside image\n",
      "Exception: cell 200, -4  neighborhood outside image\n",
      "Exception: cell 212, -9  neighborhood outside image\n",
      "Exception: cell 214, -3  neighborhood outside image\n",
      "Exception: cell 215, -3  neighborhood outside image\n",
      "Exception: cell 217, -1  neighborhood outside image\n",
      "Exception: cell 303, 520  neighborhood outside image\n",
      "Exception: cell 343, 515  neighborhood outside image\n",
      "Exception: cell 380, 523  neighborhood outside image\n",
      "Exception: cell 403, 514  neighborhood outside image\n",
      "Exception: cell 404, 521  neighborhood outside image\n",
      "Exception: cell 405, 514  neighborhood outside image\n",
      "Exception: cell 407, 524  neighborhood outside image\n",
      "Exception: cell 411, 518  neighborhood outside image\n",
      "Exception: cell 415, 524  neighborhood outside image\n",
      "Exception: cell 416, 514  neighborhood outside image\n",
      "Exception: cell 468, -9  neighborhood outside image\n",
      "Exception: cell 519, 524  neighborhood outside image\n",
      "Exception: cell 520, 513  neighborhood outside image\n",
      "Exception: cell 521, 522  neighborhood outside image\n",
      "Exception: cell 530, 520  neighborhood outside image\n",
      "Exception: cell 535, 518  neighborhood outside image\n",
      "Exception: cell 545, 522  neighborhood outside image\n",
      "Exception: cell 559, -6  neighborhood outside image\n",
      "Exception: cell 562, -8  neighborhood outside image\n",
      "Exception: cell 580, -15  neighborhood outside image\n",
      "Exception: cell 591, 514  neighborhood outside image\n",
      "Exception: cell 592, 523  neighborhood outside image\n",
      "Exception: cell 593, 524  neighborhood outside image\n",
      "Exception: cell 609, 517  neighborhood outside image\n",
      "Exception: cell 615, 514  neighborhood outside image\n",
      "Exception: cell 616, 515  neighborhood outside image\n"
     ]
    }
   ],
   "source": [
    "from scipy.ndimage.measurements import center_of_mass as get_coords\n",
    "\n",
    "odor=3\n",
    "numCells = mask.max()\n",
    "\n",
    "#get cell coords\n",
    "coords = scipy.ndimage.measurements.center_of_mass(mask, mask, range(0,int(mask.max())+1))\n",
    "coords[0]=(100,100)\n",
    "coords[1]=(100,100)\n",
    "coords = [(t[1],t[0]) for t in coords]\n",
    "\n",
    "# #Make 2 dfs for aligned and unaligned versions. \n",
    "# #get area, radius, roi coords, \n",
    "# #get FNCC results\n",
    "dfs = []\n",
    "for alignmentStatus, key in {0:'current_statestep1/corrected',1:'current_statestep2/corrected'}.items():\n",
    "    resultsDict  = {}   \n",
    "    for cell in range(numCells)[:]:\n",
    "        scores, argmax_coords, EucDist, AveEucDisplacement = runFNCC(mask, odor=3, cell=cell, \n",
    "                                                                     fnames=fnames, targetFname=targetfname,\n",
    "                                                                     key = key)\n",
    "        \n",
    "        area = len(mask[mask==cell])\n",
    "        radius = (np.power(area/np.pi,0.5))\n",
    "        \n",
    "        resultsDict[cell] = dict(scores = scores,\n",
    "                                argmax_coords = argmax_coords,\n",
    "                                EucDist = EucDist,\n",
    "                                AveEucDisplacement = AveEucDisplacement,\n",
    "                                Coords = coords[cell],\n",
    "                                area = area,\n",
    "                                radius = radius)\n",
    "    \n",
    "    df = pd.DataFrame(resultsDict).T\n",
    "    df['aligned'] = alignmentStatus\n",
    "    df['odor'] = odor\n",
    "    dfs.append(df)\n",
    "df = pd.concat(dfs) \n",
    "\n",
    "df.index.rename('cellID', inplace=True)\n",
    "df.reset_index(inplace=True)\n",
    "df = df.replace('exclude', np.nan)    \n",
    "\n",
    "\n",
    "df['AveEucDisplacementNormed'] = df.apply(lambda x: x.AveEucDisplacement/x.radius, axis = 1)"
   ]
  },
  {
   "cell_type": "markdown",
   "metadata": {},
   "source": [
    "<a id = 'plot'></a>\n",
    "##### Superimpose average ROI displacement on mask\n",
    "[back to top](#top)"
   ]
  },
  {
   "cell_type": "code",
   "execution_count": 19,
   "metadata": {
    "collapsed": false,
    "scrolled": true
   },
   "outputs": [
    {
     "data": {
      "image/png": "[encoded data removed]",
      "text/plain": [
       "<matplotlib.figure.Figure at 0x1061676d0>"
      ]
     },
     "metadata": {},
     "output_type": "display_data"
    }
   ],
   "source": [
    "\n",
    "#get cells where there are non NANs\n",
    "GoodCells = df.cellID[df.AveEucDisplacementNormed.apply(np.isfinite)].unique()\n",
    "\n",
    "#Format Figure\n",
    "f,(ax1,ax2) = plt.subplots(1,2, figsize = (12,5))\n",
    "f.suptitle('Average ROI Displacement Across \\n Experiment', fontsize=24, x=0.5, y=1.2)\n",
    "\n",
    "\n",
    "for alignmentStatus, ax, title in [(0,ax1,'Unaligned'), (1,ax2, 'Aligned')]:\n",
    "    #Make mask to plot\n",
    "    masktoPlot = np.zeros_like(mask).astype(float)\n",
    "    for cell in GoodCells:\n",
    "        fracofRad = df[df.cellID==cell][df.aligned==alignmentStatus].AveEucDisplacementNormed.values[0]\n",
    "        masktoPlot[mask==cell]=float(fracofRad)\n",
    "        \n",
    "    #plot and format each plot\n",
    "    image = ax.imshow(masktoPlot, vmax = 1)\n",
    "    image.axes.get_xaxis().set_visible(False)\n",
    "    image.axes.get_yaxis().set_visible(False)\n",
    "    ax.set_title(title, fontsize = 16, y = 1.1)\n",
    "    if title =='Unaligned':\n",
    "        cbar = plt.colorbar(image)\n",
    "        cbar.set_label('fraction of ROI radius', fontsize = 16)\n",
    "    plt.tight_layout()\n",
    "plt.savefig(qcGitDir + 'alignmentMaskBeforeAfter.png',bbox_inches='tight', pad_inches=0.5 )"
   ]
  },
  {
   "cell_type": "markdown",
   "metadata": {},
   "source": [
    "<a id = 'functions'></a>\n",
    "##### Define FNCC Functions\n",
    "[back to top](#top)"
   ]
  },
  {
   "cell_type": "code",
   "execution_count": 11,
   "metadata": {
    "collapsed": false
   },
   "outputs": [],
   "source": [
    "e2Trials = [10, 11, 12, 13, 14, 15, 16, 17, 18, 19, 20]\n",
    "e3Trials = [3, 4, 5, 7, 8, 9, 10, 11, 12, 13, 14, 15, 16, 17, 18, 19, 20, 21, 22, 23, 24]"
   ]
  },
  {
   "cell_type": "code",
   "execution_count": 12,
   "metadata": {
    "collapsed": false
   },
   "outputs": [],
   "source": [
    "\n",
    "def runFNCC(mask, odor, cell, fnames, targetFname, key = 'current_statestep2/corrected',\n",
    "            awakeTrials = e2Trials,anesthetizedTrials = e3Trials,\n",
    "            awakeEpoch = 2,anesthetizedEpoch = 3 ):\n",
    "    from skimage.feature import match_template\n",
    "    \"\"\"\n",
    "    We load the preprocessed red channel neighborhood for a cell-odor pair for all trials. We then calculate \n",
    "    the displacement of the peak from a reference trial across all other trials. \n",
    "    \"\"\"\n",
    "    \n",
    "    odor = odor\n",
    "    cell = cell\n",
    "\n",
    "    coords = scipy.ndimage.measurements.center_of_mass(mask, mask, range(0,int(mask.max())+1))\n",
    "    coords[0]=(100,100)\n",
    "    coords[1]=(100,100)\n",
    "    coords = [(int(t[1]),int(t[0])) for t in coords]\n",
    "\n",
    "    #Specify dimensions  of local neighborhood\n",
    "    halfRad = 25\n",
    "    yi = coords[cell][1]-halfRad\n",
    "    yf = coords[cell][1]+halfRad\n",
    "    xi = coords[cell][0]-halfRad\n",
    "    xf = coords[cell][0]+halfRad\n",
    "    \n",
    "    #Edge Exception. Return's None for cells on the edge. \n",
    "    for _ in [yi, yf, xi,xf]:\n",
    "        if _<0 or _>512:\n",
    "            print 'Exception: ' 'cell {},'.format(cell), _, \" neighborhood outside image\"\n",
    "            return 'exclude', 'exclude', 'exclude', 'exclude' \n",
    "    #Specify dimensions of target \n",
    "    xstart = 10\n",
    "    ystart = 10\n",
    "    targetW = 30\n",
    "    targetH = 30\n",
    "    \n",
    "    #load target \n",
    "    epoch,trialID = [int(_) for _ in re.split('_e|_con|_',targetfname)[-3:-1]]\n",
    "    \n",
    "    odorFrames_i, odorFrames_f = odorInfo['epoch{}'.format(epoch)][trialID-1]['pre_odor_post_interval'][odor]\n",
    "    with h5py.File(targetFname, 'r+') as f:    \n",
    "        target = f[key][yi:yf,xi:xf, odorFrames_i:odorFrames_f]  \n",
    "        \n",
    "    #Make actual target\n",
    "    actualTarget = target[xstart:xstart+targetW, ystart:ystart+targetH]\n",
    "    actualTarget = actualTarget.mean(2)\n",
    "\n",
    "\n",
    "    #Make Mask Overlay\n",
    "    overlay = np.ma.MaskedArray(mask.astype(bool), np.invert(mask.astype(bool)).astype(bool))\n",
    "\n",
    "    #Run target search on all trials\n",
    "    scores = []\n",
    "    argmax_coords = []\n",
    "    EucDist = []    \n",
    "    for fname in fnames:\n",
    "        epoch,trialID = [int(_) for _ in re.split('_e|_con|_',fname)[-3:-1]]\n",
    "        if (epoch == awakeEpoch) & (trialID not in awakeTrials) | (epoch == anesthetizedEpoch) & (trialID not in anesthetizedTrials):\n",
    "            continue\n",
    "        \n",
    "        #get odor Info\n",
    "        odorFrames_i, odorFrames_f = [odorInfo['epoch{}'.format(epoch)][_] for _ in range(len(odorInfo['epoch{}'.format(epoch)]))\n",
    "        if odorInfo['epoch{}'.format(epoch)][_]['trialID']==trialID][0]['pre_odor_post_interval'][odor]\n",
    "        #Load trial neighborhood\n",
    "        with h5py.File(fname, 'r+') as f:    \n",
    "            trial = f[key][yi:yf,xi:xf, odorFrames_i:odorFrames_f].mean(2)\n",
    "\n",
    "        #Execute Fast normalized cross-correlation\n",
    "        result = match_template(trial, actualTarget)\n",
    "\n",
    "\n",
    "        #Obtain correlation values\n",
    "        i,j = np.unravel_index(np.argmax(result),result.shape)\n",
    "        scores.append(result[i,j])\n",
    "        argmax_coords.append((i,j))\n",
    "\n",
    "        #Obtain average Euclidian distance\n",
    "        from scipy.spatial import distance\n",
    "        EucDist.append(distance.pdist(np.array([(10,10),(i,j)]),'euclidean'))\n",
    "    AveEucDisplacement = np.vstack(EucDist).mean()\n",
    "    return scores, argmax_coords, EucDist, AveEucDisplacement\n",
    "\n",
    "\n",
    "def runFNCConCorr(mask, odor, cell, fnames, targetFname, key = 'current_statestep2/corrected' ):\n",
    "    from skimage.feature import match_template\n",
    "    from sklearn.preprocessing import scale\n",
    "    \"\"\"\n",
    "    We load the preprocessed red channel neighborhood for a cell-odor pair for all trials. We then calculate \n",
    "    the displacement of the peak from a reference trial across all other trials. \n",
    "    \"\"\"\n",
    "    \n",
    "    odor = odor\n",
    "    cell = cell\n",
    "\n",
    "    coords = scipy.ndimage.measurements.center_of_mass(mask, mask, range(0,int(mask.max())+1))\n",
    "    coords[0]=(0.0,0.0)\n",
    "    coords = [(int(t[1]),int(t[0])) for t in coords]\n",
    "\n",
    "    #Specify dimensions  of local neighborhood\n",
    "    halfRad = 25\n",
    "    yi = coords[cell][1]-halfRad\n",
    "    yf = coords[cell][1]+halfRad\n",
    "    xi = coords[cell][0]-halfRad\n",
    "    xf = coords[cell][0]+halfRad\n",
    "    \n",
    "    #Edge Exception. Return's None for cells on the edge. \n",
    "    for _ in [yi, yf, xi,xf]:\n",
    "        if _<0 or _>512:\n",
    "            print 'Exception: ' 'cell {},'.format(cell), _, \" neighborhood outside image\"\n",
    "            return 'exclude', 'exclude', 'exclude', 'exclude' \n",
    "    #Specify dimensions of target \n",
    "    xstart = 10\n",
    "    ystart = 10\n",
    "    targetW = 30\n",
    "    targetH = 30\n",
    "    \n",
    "    #load target \n",
    "    epoch,trialID = [int(_) for _ in re.split('_e|_con|_',targetfname)[-3:-1]]\n",
    "    odorFrames_i, odorFrames_f = odorInfo['epoch{}'.format(epoch)][trialID-1]['pre_odor_post_interval'][odor]\n",
    "    with h5py.File(targetFname, 'r+') as f:    \n",
    "        target = f[key][yi:yf,xi:xf, odorFrames_i:odorFrames_f] \n",
    "    #Correlate\n",
    "    h,w,numFrames = target.shape\n",
    "    corrWin = 2\n",
    "    #scale each frame\n",
    "    scaled = np.empty((h,w,numFrames))\n",
    "    for i, frame in enumerate([scale(target[...,frame]) for frame in range(numFrames)]):\n",
    "        scaled[...,i] = frame\n",
    "    #Correlate    \n",
    "    targetCorr = np.empty((h,w))\n",
    "    for i in range(0,h):\n",
    "        for j in range(0,w):\n",
    "            targetCorr[i,j] = np.correlate(scaled[i,j,:],scaled[i-corrWin:i+corrWin, j-corrWin:j+corrWin,:].mean(0).mean(0))\n",
    "\n",
    "        \n",
    "    #Make actual target\n",
    "    actualTarget = targetCorr[xstart:xstart+targetW, ystart:ystart+targetH]\n",
    "    #actualTarget = actualTarget.mean(2)\n",
    "    \n",
    "\n",
    "    #Make Mask Overlay\n",
    "    overlay = np.ma.MaskedArray(mask.astype(bool), np.invert(mask.astype(bool)).astype(bool))\n",
    "\n",
    "    #Run target search on all trials\n",
    "    scores = []\n",
    "    argmax_coords = []\n",
    "    EucDist = []    \n",
    "    for ifname, fname in enumerate(fnames):\n",
    "        epoch,trialID = [int(_) for _ in re.split('_e|_con|_',fname)[-3:-1]]\n",
    "        #get odor Info\n",
    "        odorFrames_i, odorFrames_f = odorInfo['epoch{}'.format(epoch)][trialID-1]['pre_odor_post_interval'][odor]\n",
    "\n",
    "        #Load trial neighborhood\n",
    "        with h5py.File(fname, 'r+') as f:    \n",
    "            trial = f[key][yi:yf,xi:xf, odorFrames_i:odorFrames_f]\n",
    "        #Correlate\n",
    "        h,w,numFrames = trial.shape\n",
    "        corrWin = 2\n",
    "        #scale each frame\n",
    "        scaled = np.empty((h,w,numFrames))\n",
    "        for i, frame in enumerate([scale(trial[...,frame]) for frame in range(numFrames)]):\n",
    "            scaled[...,i] = frame\n",
    "        #Correlate    \n",
    "        trial = np.empty((h,w))\n",
    "        for i in range(0,h):\n",
    "            for j in range(0,w):\n",
    "                trial[i,j] = np.correlate(scaled[i,j,:],scaled[i-corrWin:i+corrWin, j-corrWin:j+corrWin,:].mean(0).mean(0))\n",
    "        #fix NAN values\n",
    "        trial=np.nan_to_num(trial)\n",
    "        trial[trial==0] = trial[corrWin:,corrWin].flatten().mean()\n",
    "        #Execute Fast normalized cross-correlation\n",
    "        result = match_template(trial, actualTarget)\n",
    "#         if ifname ==1:\n",
    "#             return trial, actualTarget\n",
    "\n",
    "        #Obtain correlation values\n",
    "        i,j = np.unravel_index(np.argmax(result),result.shape)\n",
    "        scores.append(result[i,j])\n",
    "        argmax_coords.append((i,j))\n",
    "        \n",
    "        #Obtain average Euclidian distance\n",
    "        from scipy.spatial import distance\n",
    "        EucDist.append(distance.pdist(np.array([(10,10),(i,j)]),'euclidean'))\n",
    "    AveEucDisplacement = np.vstack(EucDist).mean()\n",
    "    return scores, argmax_coords, EucDist, AveEucDisplacement"
   ]
  },
  {
   "cell_type": "markdown",
   "metadata": {},
   "source": [
    "<a id = 'configure'></a>\n",
    "##### Configure Notebook\n",
    "[back to top](#top)"
   ]
  },
  {
   "cell_type": "code",
   "execution_count": 1,
   "metadata": {
    "collapsed": false
   },
   "outputs": [
    {
     "name": "stderr",
     "output_type": "stream",
     "text": [
      "2016-05-08 17:20:07,710 [INFO] graphlab.cython.cy_server, 176: GraphLab Create v1.9 started. Logging: /tmp/graphlab_server_1462742406.log\n"
     ]
    },
    {
     "name": "stdout",
     "output_type": "stream",
     "text": [
      "This non-commercial license of GraphLab Create is assigned to stanlp86@gmail.com and will expire on October 28, 2016. For commercial licensing options, visit https://dato.com/buy/.\n"
     ]
    },
    {
     "data": {
      "text/html": [
       "<style>\n",
       "\n",
       "html {\n",
       "  font-size: 62.5% !important; }\n",
       "body {\n",
       "  font-size: 1.5em !important; /* currently ems cause chrome bug misinterpreting rems on body element */\n",
       "  line-height: 1.6 !important;\n",
       "  font-weight: 400 !important;\n",
       "  font-family: \"Raleway\", \"HelveticaNeue\", \"Helvetica Neue\", Helvetica, Arial, sans-serif !important;\n",
       "  color: #222 !important; }\n",
       "\n",
       "div{ border-radius: 0px !important;  }\n",
       "div.CodeMirror-sizer{ background: rgb(244, 244, 248) !important; }\n",
       "div.input_area{ background: rgb(244, 244, 248) !important; }\n",
       "\n",
       "div.out_prompt_overlay:hover{ background: rgb(244, 244, 248) !important; }\n",
       "div.input_prompt:hover{ background: rgb(244, 244, 248) !important; }\n",
       "\n",
       "h1, h2, h3, h4, h5, h6 {\n",
       "  color: #333 !important;\n",
       "  margin-top: 0 !important;\n",
       "  margin-bottom: 2rem !important;\n",
       "  font-weight: 300 !important; }\n",
       "h1 { font-size: 4.0rem !important; line-height: 1.2 !important;  letter-spacing: -.1rem !important;}\n",
       "h2 { font-size: 3.6rem !important; line-height: 1.25 !important; letter-spacing: -.1rem !important; }\n",
       "h3 { font-size: 3.0rem !important; line-height: 1.3 !important;  letter-spacing: -.1rem !important; }\n",
       "h4 { font-size: 2.4rem !important; line-height: 1.35 !important; letter-spacing: -.08rem !important; }\n",
       "h5 { font-size: 1.8rem !important; line-height: 1.5 !important;  letter-spacing: -.05rem !important; }\n",
       "h6 { font-size: 1.5rem !important; line-height: 1.6 !important;  letter-spacing: 0 !important; }\n",
       "\n",
       "@media (min-width: 550px) {\n",
       "  h1 { font-size: 5.0rem !important; }\n",
       "  h2 { font-size: 4.2rem !important; }\n",
       "  h3 { font-size: 3.6rem !important; }\n",
       "  h4 { font-size: 3.0rem !important; }\n",
       "  h5 { font-size: 2.4rem !important; }\n",
       "  h6 { font-size: 1.5rem !important; }\n",
       "}\n",
       "\n",
       "p {\n",
       "  margin-top: 0 !important; }\n",
       "  \n",
       "a {\n",
       "  color: #1EAEDB !important; }\n",
       "a:hover {\n",
       "  color: #0FA0CE !important; }\n",
       "  \n",
       "code {\n",
       "  padding: .2rem .5rem !important;\n",
       "  margin: 0 .2rem !important;\n",
       "  font-size: 90% !important;\n",
       "  white-space: nowrap !important;\n",
       "  background: #F1F1F1 !important;\n",
       "  border: 1px solid #E1E1E1 !important;\n",
       "  border-radius: 4px !important; }\n",
       "pre > code {\n",
       "  display: block !important;\n",
       "  padding: 1rem 1.5rem !important;\n",
       "  white-space: pre !important; }\n",
       "  \n",
       "button{ border-radius: 0px !important; }\n",
       ".navbar-inner{ background-image: none !important;  }\n",
       "select, textarea{ border-radius: 0px !important; }\n",
       "\n",
       "</style>"
      ],
      "text/plain": [
       "<IPython.core.display.HTML object>"
      ]
     },
     "execution_count": 1,
     "metadata": {},
     "output_type": "execute_result"
    }
   ],
   "source": [
    "\n",
    "import sys\n",
    "sys.path.append('/users/stan/documents/')\n",
    "import os\n",
    "from glob import glob\n",
    "import copy\n",
    "import numpy as np\n",
    "\n",
    "from d_code.imaging.io import tifffile\n",
    "import matplotlib.pylab as plt\n",
    "from joblib import Parallel, delayed\n",
    "from collections import defaultdict\n",
    "from scipy import signal\n",
    "from time import time\n",
    "import cPickle as pickle\n",
    "import spUtils\n",
    "import seaborn as sns\n",
    "import h5py\n",
    "import re\n",
    "import graphlab as gl\n",
    "gl.canvas.set_target('ipynb')\n",
    "import pandas as pd\n",
    "\n",
    "sns.set_palette(\"husl\")\n",
    "sns.set_style(\"white\")\n",
    "sns.set_context(\"poster\")\n",
    "\n",
    "\n",
    "%matplotlib inline\n",
    "\n",
    "import warnings\n",
    "warnings.filterwarnings('ignore')\n",
    "\n",
    "#style notebook\n",
    "from IPython.core.display import HTML\n",
    "import urllib2\n",
    "HTML(urllib2.urlopen('http://bit.ly/1Bf5Hft').read())"
   ]
  },
  {
   "cell_type": "code",
   "execution_count": null,
   "metadata": {
    "collapsed": true
   },
   "outputs": [],
   "source": []
  }
 ],
 "metadata": {
  "kernelspec": {
   "display_name": "Python 2",
   "language": "python",
   "name": "python2"
  },
  "language_info": {
   "codemirror_mode": {
    "name": "ipython",
    "version": 2
   },
   "file_extension": ".py",
   "mimetype": "text/x-python",
   "name": "python",
   "nbconvert_exporter": "python",
   "pygments_lexer": "ipython2",
   "version": "2.7.11"
  }
 },
 "nbformat": 4,
 "nbformat_minor": 0
}
