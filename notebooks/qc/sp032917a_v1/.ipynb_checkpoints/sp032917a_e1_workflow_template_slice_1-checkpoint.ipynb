{
 "cells": [
  {
   "cell_type": "code",
   "execution_count": 1,
   "metadata": {
    "collapsed": false
   },
   "outputs": [
    {
     "name": "stderr",
     "output_type": "stream",
     "text": [
      "/Users/Stan/anaconda/lib/python2.7/site-packages/pandas/computation/__init__.py:19: UserWarning: The installed version of numexpr 2.4.4 is not supported in pandas and will be not be used\n",
      "\n",
      "  UserWarning)\n",
      "[INFO] graphlab.cython.cy_server: GraphLab Create v2.1 started. Logging: /tmp/graphlab_server_1490918140.log\n"
     ]
    },
    {
     "name": "stdout",
     "output_type": "stream",
     "text": [
      "This non-commercial license of GraphLab Create for academic use is assigned to stanlp86@gmail.com and will expire on November 04, 2017.\n"
     ]
    },
    {
     "data": {
      "text/html": [
       "<style>\n",
       "\n",
       "html {\n",
       "  font-size: 62.5% !important; }\n",
       "body {\n",
       "  font-size: 1.5em !important; /* currently ems cause chrome bug misinterpreting rems on body element */\n",
       "  line-height: 1.6 !important;\n",
       "  font-weight: 400 !important;\n",
       "  font-family: \"Raleway\", \"HelveticaNeue\", \"Helvetica Neue\", Helvetica, Arial, sans-serif !important;\n",
       "  color: #222 !important; }\n",
       "\n",
       "div{ border-radius: 0px !important;  }\n",
       "div.CodeMirror-sizer{ background: rgb(244, 244, 248) !important; }\n",
       "div.input_area{ background: rgb(244, 244, 248) !important; }\n",
       "\n",
       "div.out_prompt_overlay:hover{ background: rgb(244, 244, 248) !important; }\n",
       "div.input_prompt:hover{ background: rgb(244, 244, 248) !important; }\n",
       "\n",
       "h1, h2, h3, h4, h5, h6 {\n",
       "  color: #333 !important;\n",
       "  margin-top: 0 !important;\n",
       "  margin-bottom: 2rem !important;\n",
       "  font-weight: 300 !important; }\n",
       "h1 { font-size: 4.0rem !important; line-height: 1.2 !important;  letter-spacing: -.1rem !important;}\n",
       "h2 { font-size: 3.6rem !important; line-height: 1.25 !important; letter-spacing: -.1rem !important; }\n",
       "h3 { font-size: 3.0rem !important; line-height: 1.3 !important;  letter-spacing: -.1rem !important; }\n",
       "h4 { font-size: 2.4rem !important; line-height: 1.35 !important; letter-spacing: -.08rem !important; }\n",
       "h5 { font-size: 1.8rem !important; line-height: 1.5 !important;  letter-spacing: -.05rem !important; }\n",
       "h6 { font-size: 1.5rem !important; line-height: 1.6 !important;  letter-spacing: 0 !important; }\n",
       "\n",
       "@media (min-width: 550px) {\n",
       "  h1 { font-size: 5.0rem !important; }\n",
       "  h2 { font-size: 4.2rem !important; }\n",
       "  h3 { font-size: 3.6rem !important; }\n",
       "  h4 { font-size: 3.0rem !important; }\n",
       "  h5 { font-size: 2.4rem !important; }\n",
       "  h6 { font-size: 1.5rem !important; }\n",
       "}\n",
       "\n",
       "p {\n",
       "  margin-top: 0 !important; }\n",
       "  \n",
       "a {\n",
       "  color: #1EAEDB !important; }\n",
       "a:hover {\n",
       "  color: #0FA0CE !important; }\n",
       "  \n",
       "code {\n",
       "  padding: .2rem .5rem !important;\n",
       "  margin: 0 .2rem !important;\n",
       "  font-size: 90% !important;\n",
       "  white-space: nowrap !important;\n",
       "  background: #F1F1F1 !important;\n",
       "  border: 1px solid #E1E1E1 !important;\n",
       "  border-radius: 4px !important; }\n",
       "pre > code {\n",
       "  display: block !important;\n",
       "  padding: 1rem 1.5rem !important;\n",
       "  white-space: pre !important; }\n",
       "  \n",
       "button{ border-radius: 0px !important; }\n",
       ".navbar-inner{ background-image: none !important;  }\n",
       "select, textarea{ border-radius: 0px !important; }\n",
       "\n",
       "</style>"
      ],
      "text/plain": [
       "<IPython.core.display.HTML object>"
      ]
     },
     "execution_count": 1,
     "metadata": {},
     "output_type": "execute_result"
    }
   ],
   "source": [
    "import sys\n",
    "sys.path.append('/users/stan/documents/')\n",
    "import os\n",
    "from glob import glob\n",
    "import copy\n",
    "import pandas\n",
    "import numpy as np\n",
    "\n",
    "from d_code.imaging.io import tifffile\n",
    "import matplotlib.pylab as plt\n",
    "from joblib import Parallel, delayed\n",
    "from collections import defaultdict\n",
    "from scipy import signal\n",
    "from time import time\n",
    "import cPickle as pickle\n",
    "import spUtils\n",
    "import seaborn as sns\n",
    "\n",
    "\n",
    "import graphlab as gl\n",
    "gl.canvas.set_target('ipynb')\n",
    "import pandas as pd\n",
    "\n",
    "sns.set_palette(\"husl\")\n",
    "sns.set_style(\"white\")\n",
    "sns.set_context(\"poster\")\n",
    "\n",
    "\n",
    "%matplotlib inline\n",
    "#style notebook\n",
    "from IPython.core.display import HTML\n",
    "import urllib2\n",
    "HTML(urllib2.urlopen('http://bit.ly/1Bf5Hft').read())\n"
   ]
  },
  {
   "cell_type": "markdown",
   "metadata": {},
   "source": [
    "# Paths \n"
   ]
  },
  {
   "cell_type": "code",
   "execution_count": 52,
   "metadata": {
    "collapsed": false
   },
   "outputs": [],
   "source": [
    "basedir = '/Users/Stan/Desktop/' #'/Volumes/G-DRIVE PRO Thunderbolt/2017/'\n",
    "\n",
    "slice_ = 1\n",
    "epoch_ = 1\n",
    "experiment = 'sp032917a'\n",
    "qcGitDir = '/Users/Stan/Documents/myPiriform/notebooks/qc/{0}/'.format(experiment)\n",
    "sframePath = basedir + '{0}/sframe_slice_{1}_processed'.format(experiment, slice_)\n",
    "tifPath = basedir + '{0}/aligned/green/slice_{1}/'.format(experiment, slice_)\n",
    "workflowDictPath = basedir + '{0}/workflow_dict_e1_slice{1}.dat'.format(experiment, slice_)\n",
    "odorInfoPath = basedir + '{0}/odorInfo_e1.dat'.format(experiment)\n",
    "metadataPath = basedir + '{0}/metadata/slice_{1}/{0}_e1_002_015_slice_{1}_channel_0.dat'.format(experiment, slice_)\n",
    "\n",
    "#maskPath = '/Users/Stan/Desktop/{0}/segmentation/{0}_slice_{1}_maskSoFar.dat'.format(experiment, slice_)\n"
   ]
  },
  {
   "cell_type": "markdown",
   "metadata": {},
   "source": [
    " # save/load"
   ]
  },
  {
   "cell_type": "code",
   "execution_count": 3,
   "metadata": {
    "collapsed": false
   },
   "outputs": [],
   "source": [
    "#workflow_dict = pickle.load(open(workflowDictPath))\n",
    "#rawTraces = pickle.load(open(rawTracesPath))['rois']['reshaped']\n",
    "def save_dict():\n",
    "    pickle.dump(workflow_dict, open(workflowDictPath, 'wb'))"
   ]
  },
  {
   "cell_type": "code",
   "execution_count": 4,
   "metadata": {
    "collapsed": false
   },
   "outputs": [],
   "source": [
    "epochID = 1\n",
    "sliceID = slice_\n",
    "sframe = gl.SFrame(sframePath)\n",
    "good_trials = [3,4,5,6,7,8,9,10,11,13,14]\n",
    "\n",
    "sframe['slice'] = sliceID\n",
    "df = sframe[(sframe['epoch']==epochID) &(sframe['slice']==sliceID)&(sframe['cellProbBinary']==1)]['Frame', 'RoiSignal', 'cellID','redLabel', 'trial', 'odorPos', 'odorID', 'odorOn', 'odorOff', 'normed_traces', 'normed_stds', 'baselined1_traces', 'slice'].to_dataframe()\n",
    "df = df.loc[df.trial.isin(good_trials)]\n",
    "#inh neurons only\n",
    "#df = df.loc[df.redLabel==1]\n",
    "epoch = df.groupby(['trial', 'cellID']).apply(lambda x: x.reset_index(drop = True))\n",
    "\n",
    "# get dimensions \n",
    "#frames, cells, trials = [epoch.loc[(10,1)]['RoiSignal'].size] + [epoch[_].unique().shape[0] for _ in ['cellID','trial']]\n",
    "numOdors = 23\n",
    "\n",
    "epoch = epoch.loc[epoch.Frame<233]\n",
    "\n",
    "trialSet = epoch.trial.unique()\n",
    "cells = epoch.index.get_level_values('cellID').unique().shape[0]\n",
    "frames =  epoch.Frame.unique().shape[0]*numOdors\n",
    "trials = len(good_trials)"
   ]
  },
  {
   "cell_type": "code",
   "execution_count": 5,
   "metadata": {
    "collapsed": false
   },
   "outputs": [],
   "source": [
    "# sns.set_style('whitegrid')\n",
    "# fig, ax = plt.subplots(1,3, figsize = (20,3))\n",
    "# for i, odor in enumerate([8,9,10]):\n",
    "#     for trial in [4]:\n",
    "#         toplot2 = toplot.loc[[trial],'normed_traces'].unstack('cellID')\n",
    "#         odortoplot = toplot2.loc[trial,odor].values\n",
    "#         #plt.figure()\n",
    "#         ax[i].imshow(odortoplot.T, aspect = 'auto')#, vmin = 0, vmax = 3)\n",
    "#         ax[i].axvline(109)\n",
    "#         ax[i].axvline(125)\n",
    "# fig, ax = plt.subplots(1,3, figsize = (20,3))\n",
    "# for i, odor in enumerate([2,3,4]):\n",
    "#     for trial in [4]:\n",
    "#         toplot2 = toplot.loc[[trial],'normed_traces'].unstack('cellID')\n",
    "#         odortoplot = toplot2.loc[trial,odor].values\n",
    "#         #plt.figure()\n",
    "#         ax[i].imshow(odortoplot.T, aspect = 'auto')#, vmin = 0, vmax = 3)\n",
    "#         ax[i].axvline(109)\n",
    "#         ax[i].axvline(125)"
   ]
  },
  {
   "cell_type": "markdown",
   "metadata": {},
   "source": [
    " ## Make sure ordering is correct for traces. "
   ]
  },
  {
   "cell_type": "code",
   "execution_count": 6,
   "metadata": {
    "collapsed": false
   },
   "outputs": [],
   "source": [
    "# cell = 10\n",
    "# trialID = 6\n",
    "# trialIdx = next(_ for _ in range(trials) if trialSet[_] == trialID)\n",
    "# epochID = 2\n",
    "# sframeTrace = sframe[(sframe['epoch']==epochID)&(sframe['trial']==trialID)&(sframe['cellID']==cell)]['RoiSignal']\n",
    "\n",
    "# plt.subplots(2,2, figsize = (15,5))\n",
    "# plt.subplot(2,2,1),plt.plot(df[df.trial==trialID][df.cellID==cell].RoiSignal.values), plt.xlim(0,236)\n",
    "# plt.title('df from sframe')\n",
    "# plt.subplot(2,2,2), plt.plot(rawTraces[:,cell,trialIdx]), plt.xlim(0,236)\n",
    "# plt.title('recombined traces from orchestra')\n",
    "\n",
    "# plt.subplot(2,2,3), plt.plot(sframeTrace), plt.xlim(0,236)\n",
    "# plt.title('locally recombined traces using sframe')"
   ]
  },
  {
   "cell_type": "markdown",
   "metadata": {},
   "source": [
    "## Initialize dict"
   ]
  },
  {
   "cell_type": "code",
   "execution_count": 7,
   "metadata": {
    "collapsed": true
   },
   "outputs": [],
   "source": [
    "workflow_dict = defaultdict(dict)\n"
   ]
  },
  {
   "cell_type": "markdown",
   "metadata": {},
   "source": [
    "Get trialNames from traces dataframe and make sure it corresponds with odor_info"
   ]
  },
  {
   "cell_type": "markdown",
   "metadata": {},
   "source": [
    "# Load odor info\n"
   ]
  },
  {
   "cell_type": "code",
   "execution_count": 8,
   "metadata": {
    "collapsed": true
   },
   "outputs": [],
   "source": [
    "classes = dict(furans = [1,2,3,4],\n",
    "                esters = [5,6,7],\n",
    "                aldehydes = [8,9,10,11],\n",
    "                ketones = [12,13,14],\n",
    "                sulfurs = [15,16,17,18],\n",
    "                acids = [19,20,21,22])"
   ]
  },
  {
   "cell_type": "code",
   "execution_count": 9,
   "metadata": {
    "collapsed": true
   },
   "outputs": [],
   "source": [
    "odor_info = pickle.load(open(odorInfoPath))['epoch1']"
   ]
  },
  {
   "cell_type": "code",
   "execution_count": 10,
   "metadata": {
    "collapsed": true
   },
   "outputs": [],
   "source": [
    "trialIDList = []\n",
    "for trial in odor_info:\n",
    "    trialIDList.append(trial['trialID'])"
   ]
  },
  {
   "cell_type": "code",
   "execution_count": 11,
   "metadata": {
    "collapsed": true
   },
   "outputs": [],
   "source": [
    "odor_info = pickle.load(open(odorInfoPath))['epoch1']\n",
    "\n",
    "trialIDList = []\n",
    "for trial in odor_info:\n",
    "    trialIDList.append(trial['trialID'])"
   ]
  },
  {
   "cell_type": "code",
   "execution_count": 12,
   "metadata": {
    "collapsed": false
   },
   "outputs": [
    {
     "data": {
      "text/plain": [
       "True"
      ]
     },
     "execution_count": 12,
     "metadata": {},
     "output_type": "execute_result"
    }
   ],
   "source": [
    "#Correspondence Check\n",
    "list(epoch.trial.unique()) == trialIDList"
   ]
  },
  {
   "cell_type": "code",
   "execution_count": 13,
   "metadata": {
    "collapsed": false
   },
   "outputs": [
    {
     "data": {
      "text/plain": [
       "[3, 4, 5, 6, 7, 8, 9, 10, 11, 13, 14]"
      ]
     },
     "execution_count": 13,
     "metadata": {},
     "output_type": "execute_result"
    }
   ],
   "source": [
    "trialIDList"
   ]
  },
  {
   "cell_type": "code",
   "execution_count": 14,
   "metadata": {
    "collapsed": true
   },
   "outputs": [],
   "source": [
    "trialIndexingHelper = zip(range(len(trialIDList)),trialIDList)"
   ]
  },
  {
   "cell_type": "code",
   "execution_count": 15,
   "metadata": {
    "collapsed": false
   },
   "outputs": [
    {
     "data": {
      "text/plain": [
       "[(0, 3),\n",
       " (1, 4),\n",
       " (2, 5),\n",
       " (3, 6),\n",
       " (4, 7),\n",
       " (5, 8),\n",
       " (6, 9),\n",
       " (7, 10),\n",
       " (8, 11),\n",
       " (9, 13),\n",
       " (10, 14)]"
      ]
     },
     "execution_count": 15,
     "metadata": {},
     "output_type": "execute_result"
    }
   ],
   "source": [
    "trialIndexingHelper"
   ]
  },
  {
   "cell_type": "code",
   "execution_count": 16,
   "metadata": {
    "collapsed": false
   },
   "outputs": [],
   "source": [
    "    \n",
    "workflow_dict['odor_info']= odor_info"
   ]
  },
  {
   "cell_type": "markdown",
   "metadata": {},
   "source": [
    "## populate raw traces"
   ]
  },
  {
   "cell_type": "code",
   "execution_count": 39,
   "metadata": {
    "collapsed": false
   },
   "outputs": [],
   "source": [
    "cbad = epoch.index.get_level_values(-2).unique()"
   ]
  },
  {
   "cell_type": "code",
   "execution_count": 41,
   "metadata": {
    "collapsed": false
   },
   "outputs": [
    {
     "data": {
      "text/plain": [
       "2"
      ]
     },
     "execution_count": 41,
     "metadata": {},
     "output_type": "execute_result"
    }
   ],
   "source": [
    "[cbad[0]][0]"
   ]
  },
  {
   "cell_type": "code",
   "execution_count": 51,
   "metadata": {
    "collapsed": false
   },
   "outputs": [
    {
     "data": {
      "text/html": [
       "<div>\n",
       "<table border=\"1\" class=\"dataframe\">\n",
       "  <thead>\n",
       "    <tr style=\"text-align: right;\">\n",
       "      <th></th>\n",
       "      <th></th>\n",
       "      <th></th>\n",
       "      <th>Frame</th>\n",
       "      <th>RoiSignal</th>\n",
       "      <th>cellID</th>\n",
       "      <th>redLabel</th>\n",
       "      <th>trial</th>\n",
       "      <th>odorPos</th>\n",
       "      <th>odorID</th>\n",
       "      <th>odorOn</th>\n",
       "      <th>odorOff</th>\n",
       "      <th>normed_traces</th>\n",
       "      <th>normed_stds</th>\n",
       "      <th>baselined1_traces</th>\n",
       "      <th>slice</th>\n",
       "    </tr>\n",
       "    <tr>\n",
       "      <th>trial</th>\n",
       "      <th>cellID</th>\n",
       "      <th></th>\n",
       "      <th></th>\n",
       "      <th></th>\n",
       "      <th></th>\n",
       "      <th></th>\n",
       "      <th></th>\n",
       "      <th></th>\n",
       "      <th></th>\n",
       "      <th></th>\n",
       "      <th></th>\n",
       "      <th></th>\n",
       "      <th></th>\n",
       "      <th></th>\n",
       "      <th></th>\n",
       "    </tr>\n",
       "  </thead>\n",
       "  <tbody>\n",
       "    <tr>\n",
       "      <th rowspan=\"3\" valign=\"top\">14</th>\n",
       "      <th rowspan=\"3\" valign=\"top\">2</th>\n",
       "      <th>5148</th>\n",
       "      <td>0</td>\n",
       "      <td>17341.458984</td>\n",
       "      <td>2</td>\n",
       "      <td>0</td>\n",
       "      <td>14</td>\n",
       "      <td>23</td>\n",
       "      <td>20</td>\n",
       "      <td>110</td>\n",
       "      <td>124</td>\n",
       "      <td>-0.010844</td>\n",
       "      <td>0.009</td>\n",
       "      <td>223.323633</td>\n",
       "      <td>1</td>\n",
       "    </tr>\n",
       "    <tr>\n",
       "      <th>5149</th>\n",
       "      <td>1</td>\n",
       "      <td>17665.777344</td>\n",
       "      <td>2</td>\n",
       "      <td>0</td>\n",
       "      <td>14</td>\n",
       "      <td>23</td>\n",
       "      <td>20</td>\n",
       "      <td>110</td>\n",
       "      <td>124</td>\n",
       "      <td>0.007655</td>\n",
       "      <td>0.009</td>\n",
       "      <td>547.641992</td>\n",
       "      <td>1</td>\n",
       "    </tr>\n",
       "    <tr>\n",
       "      <th>5150</th>\n",
       "      <td>2</td>\n",
       "      <td>17464.957031</td>\n",
       "      <td>2</td>\n",
       "      <td>0</td>\n",
       "      <td>14</td>\n",
       "      <td>23</td>\n",
       "      <td>20</td>\n",
       "      <td>110</td>\n",
       "      <td>124</td>\n",
       "      <td>-0.003799</td>\n",
       "      <td>0.009</td>\n",
       "      <td>346.821680</td>\n",
       "      <td>1</td>\n",
       "    </tr>\n",
       "  </tbody>\n",
       "</table>\n",
       "</div>"
      ],
      "text/plain": [
       "                   Frame     RoiSignal  cellID  redLabel  trial  odorPos  \\\n",
       "trial cellID                                                               \n",
       "14    2      5148      0  17341.458984       2         0     14       23   \n",
       "             5149      1  17665.777344       2         0     14       23   \n",
       "             5150      2  17464.957031       2         0     14       23   \n",
       "\n",
       "                   odorID  odorOn  odorOff  normed_traces  normed_stds  \\\n",
       "trial cellID                                                             \n",
       "14    2      5148      20     110      124      -0.010844        0.009   \n",
       "             5149      20     110      124       0.007655        0.009   \n",
       "             5150      20     110      124      -0.003799        0.009   \n",
       "\n",
       "                   baselined1_traces  slice  \n",
       "trial cellID                                 \n",
       "14    2      5148         223.323633      1  \n",
       "             5149         547.641992      1  \n",
       "             5150         346.821680      1  "
      ]
     },
     "execution_count": 51,
     "metadata": {},
     "output_type": "execute_result"
    }
   ],
   "source": [
    "epoch.loc[(epoch.trial==14) &(epoch.cellID==2)& (epoch.odorID == 20)]"
   ]
  },
  {
   "cell_type": "code",
   "execution_count": 50,
   "metadata": {
    "collapsed": false
   },
   "outputs": [
    {
     "data": {
      "text/plain": [
       "[(233,),\n",
       " (233,),\n",
       " (233,),\n",
       " (233,),\n",
       " (233,),\n",
       " (233,),\n",
       " (233,),\n",
       " (233,),\n",
       " (233,),\n",
       " (233,),\n",
       " (233,),\n",
       " (233,),\n",
       " (233,),\n",
       " (233,),\n",
       " (233,),\n",
       " (233,),\n",
       " (233,),\n",
       " (233,),\n",
       " (233,),\n",
       " (3,),\n",
       " (233,),\n",
       " (233,),\n",
       " (233,)]"
      ]
     },
     "execution_count": 50,
     "metadata": {},
     "output_type": "execute_result"
    }
   ],
   "source": [
    "[epoch.loc[(epoch.trial==14) &(epoch.cellID==2)& (epoch.odorID == odor),'Frame'].shape for odor in range(1,24)]"
   ]
  },
  {
   "cell_type": "code",
   "execution_count": 25,
   "metadata": {
    "collapsed": false
   },
   "outputs": [
    {
     "data": {
      "text/html": [
       "<div>\n",
       "<table border=\"1\" class=\"dataframe\">\n",
       "  <thead>\n",
       "    <tr style=\"text-align: right;\">\n",
       "      <th></th>\n",
       "      <th>0</th>\n",
       "      <th>1</th>\n",
       "      <th>2</th>\n",
       "      <th>3</th>\n",
       "      <th>4</th>\n",
       "      <th>5</th>\n",
       "      <th>6</th>\n",
       "      <th>7</th>\n",
       "      <th>8</th>\n",
       "      <th>9</th>\n",
       "      <th>...</th>\n",
       "      <th>5371</th>\n",
       "      <th>5372</th>\n",
       "      <th>5373</th>\n",
       "      <th>5374</th>\n",
       "      <th>5375</th>\n",
       "      <th>5376</th>\n",
       "      <th>5377</th>\n",
       "      <th>5378</th>\n",
       "      <th>5379</th>\n",
       "      <th>5380</th>\n",
       "    </tr>\n",
       "    <tr>\n",
       "      <th>cellID</th>\n",
       "      <th></th>\n",
       "      <th></th>\n",
       "      <th></th>\n",
       "      <th></th>\n",
       "      <th></th>\n",
       "      <th></th>\n",
       "      <th></th>\n",
       "      <th></th>\n",
       "      <th></th>\n",
       "      <th></th>\n",
       "      <th></th>\n",
       "      <th></th>\n",
       "      <th></th>\n",
       "      <th></th>\n",
       "      <th></th>\n",
       "      <th></th>\n",
       "      <th></th>\n",
       "      <th></th>\n",
       "      <th></th>\n",
       "      <th></th>\n",
       "      <th></th>\n",
       "    </tr>\n",
       "  </thead>\n",
       "  <tbody>\n",
       "    <tr>\n",
       "      <th>2</th>\n",
       "      <td>16857.601562</td>\n",
       "      <td>17104.820312</td>\n",
       "      <td>17120.091797</td>\n",
       "      <td>17070.093750</td>\n",
       "      <td>17080.455078</td>\n",
       "      <td>16741.500000</td>\n",
       "      <td>16818.470703</td>\n",
       "      <td>16973.873047</td>\n",
       "      <td>16792.935547</td>\n",
       "      <td>17029.027344</td>\n",
       "      <td>...</td>\n",
       "      <td>17472.134766</td>\n",
       "      <td>17449.613281</td>\n",
       "      <td>17300.326172</td>\n",
       "      <td>17131.875000</td>\n",
       "      <td>17275.898438</td>\n",
       "      <td>17224.878906</td>\n",
       "      <td>17461.367188</td>\n",
       "      <td>17613.779297</td>\n",
       "      <td>17655.839844</td>\n",
       "      <td>16712.382812</td>\n",
       "    </tr>\n",
       "    <tr>\n",
       "      <th>3</th>\n",
       "      <td>15599.491211</td>\n",
       "      <td>15805.813477</td>\n",
       "      <td>15662.357422</td>\n",
       "      <td>15286.163086</td>\n",
       "      <td>15619.789062</td>\n",
       "      <td>15537.751953</td>\n",
       "      <td>15377.682617</td>\n",
       "      <td>15758.224609</td>\n",
       "      <td>15934.871094</td>\n",
       "      <td>15463.239258</td>\n",
       "      <td>...</td>\n",
       "      <td>15551.779297</td>\n",
       "      <td>15018.689453</td>\n",
       "      <td>15162.700195</td>\n",
       "      <td>15550.821289</td>\n",
       "      <td>15292.533203</td>\n",
       "      <td>15384.690430</td>\n",
       "      <td>15131.143555</td>\n",
       "      <td>15590.846680</td>\n",
       "      <td>15217.204102</td>\n",
       "      <td>15467.633789</td>\n",
       "    </tr>\n",
       "    <tr>\n",
       "      <th>4</th>\n",
       "      <td>20971.753906</td>\n",
       "      <td>21771.080078</td>\n",
       "      <td>21415.351562</td>\n",
       "      <td>21583.355469</td>\n",
       "      <td>20951.378906</td>\n",
       "      <td>21419.250000</td>\n",
       "      <td>21050.728516</td>\n",
       "      <td>21316.099609</td>\n",
       "      <td>21127.140625</td>\n",
       "      <td>20951.607422</td>\n",
       "      <td>...</td>\n",
       "      <td>21254.269531</td>\n",
       "      <td>21441.625000</td>\n",
       "      <td>21123.326172</td>\n",
       "      <td>21376.458984</td>\n",
       "      <td>21215.871094</td>\n",
       "      <td>20710.937500</td>\n",
       "      <td>21208.025391</td>\n",
       "      <td>21089.505859</td>\n",
       "      <td>21450.935547</td>\n",
       "      <td>21303.453125</td>\n",
       "    </tr>\n",
       "    <tr>\n",
       "      <th>5</th>\n",
       "      <td>21047.837891</td>\n",
       "      <td>20691.113281</td>\n",
       "      <td>20809.703125</td>\n",
       "      <td>20261.035156</td>\n",
       "      <td>19921.404297</td>\n",
       "      <td>20123.830078</td>\n",
       "      <td>20763.197266</td>\n",
       "      <td>20377.697266</td>\n",
       "      <td>20025.310547</td>\n",
       "      <td>20420.550781</td>\n",
       "      <td>...</td>\n",
       "      <td>19607.085938</td>\n",
       "      <td>19809.486328</td>\n",
       "      <td>19464.625000</td>\n",
       "      <td>20111.222656</td>\n",
       "      <td>19896.423828</td>\n",
       "      <td>20015.539062</td>\n",
       "      <td>20466.156250</td>\n",
       "      <td>19702.892578</td>\n",
       "      <td>20223.562500</td>\n",
       "      <td>19284.736328</td>\n",
       "    </tr>\n",
       "    <tr>\n",
       "      <th>6</th>\n",
       "      <td>17057.273438</td>\n",
       "      <td>17073.441406</td>\n",
       "      <td>16700.486328</td>\n",
       "      <td>16801.570312</td>\n",
       "      <td>17345.296875</td>\n",
       "      <td>16753.082031</td>\n",
       "      <td>17038.697266</td>\n",
       "      <td>17147.566406</td>\n",
       "      <td>16841.279297</td>\n",
       "      <td>17025.488281</td>\n",
       "      <td>...</td>\n",
       "      <td>16571.060547</td>\n",
       "      <td>16761.882812</td>\n",
       "      <td>16001.525391</td>\n",
       "      <td>17451.080078</td>\n",
       "      <td>16685.835938</td>\n",
       "      <td>16734.263672</td>\n",
       "      <td>16160.143555</td>\n",
       "      <td>15994.986328</td>\n",
       "      <td>16531.283203</td>\n",
       "      <td>17313.484375</td>\n",
       "    </tr>\n",
       "    <tr>\n",
       "      <th>7</th>\n",
       "      <td>19270.296875</td>\n",
       "      <td>19564.935547</td>\n",
       "      <td>19626.400391</td>\n",
       "      <td>19549.912109</td>\n",
       "      <td>19027.285156</td>\n",
       "      <td>19009.578125</td>\n",
       "      <td>18651.708984</td>\n",
       "      <td>19683.898438</td>\n",
       "      <td>18996.074219</td>\n",
       "      <td>18957.039062</td>\n",
       "      <td>...</td>\n",
       "      <td>19218.935547</td>\n",
       "      <td>18942.626953</td>\n",
       "      <td>18984.996094</td>\n",
       "      <td>19315.271484</td>\n",
       "      <td>19040.673828</td>\n",
       "      <td>18904.199219</td>\n",
       "      <td>19359.123047</td>\n",
       "      <td>19107.257812</td>\n",
       "      <td>19024.562500</td>\n",
       "      <td>18664.472656</td>\n",
       "    </tr>\n",
       "    <tr>\n",
       "      <th>8</th>\n",
       "      <td>20469.910156</td>\n",
       "      <td>20630.550781</td>\n",
       "      <td>20427.810547</td>\n",
       "      <td>20628.277344</td>\n",
       "      <td>20463.880859</td>\n",
       "      <td>20833.906250</td>\n",
       "      <td>20162.384766</td>\n",
       "      <td>20612.601562</td>\n",
       "      <td>20570.410156</td>\n",
       "      <td>20551.117188</td>\n",
       "      <td>...</td>\n",
       "      <td>20003.042969</td>\n",
       "      <td>20264.287109</td>\n",
       "      <td>20337.791016</td>\n",
       "      <td>20078.619141</td>\n",
       "      <td>20027.992188</td>\n",
       "      <td>20113.634766</td>\n",
       "      <td>20191.939453</td>\n",
       "      <td>20165.414062</td>\n",
       "      <td>19862.431641</td>\n",
       "      <td>20290.691406</td>\n",
       "    </tr>\n",
       "    <tr>\n",
       "      <th>9</th>\n",
       "      <td>18318.498047</td>\n",
       "      <td>18407.013672</td>\n",
       "      <td>18653.234375</td>\n",
       "      <td>19023.480469</td>\n",
       "      <td>18426.472656</td>\n",
       "      <td>19110.796875</td>\n",
       "      <td>18200.171875</td>\n",
       "      <td>18680.947266</td>\n",
       "      <td>18369.314453</td>\n",
       "      <td>18406.498047</td>\n",
       "      <td>...</td>\n",
       "      <td>18619.390625</td>\n",
       "      <td>18731.578125</td>\n",
       "      <td>18801.976562</td>\n",
       "      <td>18699.199219</td>\n",
       "      <td>18968.982422</td>\n",
       "      <td>18052.511719</td>\n",
       "      <td>18060.935547</td>\n",
       "      <td>18466.523438</td>\n",
       "      <td>18296.050781</td>\n",
       "      <td>18892.607422</td>\n",
       "    </tr>\n",
       "    <tr>\n",
       "      <th>10</th>\n",
       "      <td>26600.703125</td>\n",
       "      <td>26578.652344</td>\n",
       "      <td>25616.958984</td>\n",
       "      <td>26083.576172</td>\n",
       "      <td>25278.189453</td>\n",
       "      <td>25446.261719</td>\n",
       "      <td>26119.660156</td>\n",
       "      <td>26390.824219</td>\n",
       "      <td>25354.992188</td>\n",
       "      <td>25374.333984</td>\n",
       "      <td>...</td>\n",
       "      <td>23144.003906</td>\n",
       "      <td>22916.035156</td>\n",
       "      <td>23333.404297</td>\n",
       "      <td>22693.515625</td>\n",
       "      <td>23162.275391</td>\n",
       "      <td>23036.275391</td>\n",
       "      <td>22726.992188</td>\n",
       "      <td>23114.900391</td>\n",
       "      <td>22584.246094</td>\n",
       "      <td>22945.468750</td>\n",
       "    </tr>\n",
       "    <tr>\n",
       "      <th>11</th>\n",
       "      <td>18759.205078</td>\n",
       "      <td>18330.882812</td>\n",
       "      <td>19128.226562</td>\n",
       "      <td>18622.630859</td>\n",
       "      <td>18864.949219</td>\n",
       "      <td>18139.708984</td>\n",
       "      <td>18706.318359</td>\n",
       "      <td>19105.558594</td>\n",
       "      <td>18388.261719</td>\n",
       "      <td>18409.035156</td>\n",
       "      <td>...</td>\n",
       "      <td>19898.970703</td>\n",
       "      <td>19795.566406</td>\n",
       "      <td>19422.994141</td>\n",
       "      <td>19401.060547</td>\n",
       "      <td>18919.359375</td>\n",
       "      <td>19271.242188</td>\n",
       "      <td>19874.197266</td>\n",
       "      <td>19164.857422</td>\n",
       "      <td>18821.308594</td>\n",
       "      <td>18597.310547</td>\n",
       "    </tr>\n",
       "    <tr>\n",
       "      <th>12</th>\n",
       "      <td>25189.933594</td>\n",
       "      <td>25340.457031</td>\n",
       "      <td>25535.242188</td>\n",
       "      <td>25002.208984</td>\n",
       "      <td>25430.128906</td>\n",
       "      <td>25856.212891</td>\n",
       "      <td>25917.566406</td>\n",
       "      <td>25807.931641</td>\n",
       "      <td>25759.554688</td>\n",
       "      <td>25814.580078</td>\n",
       "      <td>...</td>\n",
       "      <td>24542.333984</td>\n",
       "      <td>24469.712891</td>\n",
       "      <td>25452.625000</td>\n",
       "      <td>25102.839844</td>\n",
       "      <td>24830.302734</td>\n",
       "      <td>24473.718750</td>\n",
       "      <td>24686.966797</td>\n",
       "      <td>24649.865234</td>\n",
       "      <td>24205.886719</td>\n",
       "      <td>23993.687500</td>\n",
       "    </tr>\n",
       "    <tr>\n",
       "      <th>13</th>\n",
       "      <td>26664.234375</td>\n",
       "      <td>27577.914062</td>\n",
       "      <td>27734.376953</td>\n",
       "      <td>28104.003906</td>\n",
       "      <td>28709.000000</td>\n",
       "      <td>28394.052734</td>\n",
       "      <td>27810.511719</td>\n",
       "      <td>27680.240234</td>\n",
       "      <td>27386.429688</td>\n",
       "      <td>27845.644531</td>\n",
       "      <td>...</td>\n",
       "      <td>27831.611328</td>\n",
       "      <td>27811.968750</td>\n",
       "      <td>28501.841797</td>\n",
       "      <td>29875.748047</td>\n",
       "      <td>29313.527344</td>\n",
       "      <td>29288.607422</td>\n",
       "      <td>29024.792969</td>\n",
       "      <td>28811.587891</td>\n",
       "      <td>27786.601562</td>\n",
       "      <td>27250.373047</td>\n",
       "    </tr>\n",
       "    <tr>\n",
       "      <th>14</th>\n",
       "      <td>21000.585938</td>\n",
       "      <td>20651.761719</td>\n",
       "      <td>20931.154297</td>\n",
       "      <td>20734.388672</td>\n",
       "      <td>20095.748047</td>\n",
       "      <td>20313.671875</td>\n",
       "      <td>20125.373047</td>\n",
       "      <td>20547.074219</td>\n",
       "      <td>20437.335938</td>\n",
       "      <td>20028.347656</td>\n",
       "      <td>...</td>\n",
       "      <td>19822.681641</td>\n",
       "      <td>20047.412109</td>\n",
       "      <td>20269.839844</td>\n",
       "      <td>20076.097656</td>\n",
       "      <td>19354.617188</td>\n",
       "      <td>20163.566406</td>\n",
       "      <td>20061.054688</td>\n",
       "      <td>19461.482422</td>\n",
       "      <td>20027.384766</td>\n",
       "      <td>19120.384766</td>\n",
       "    </tr>\n",
       "    <tr>\n",
       "      <th>15</th>\n",
       "      <td>21792.675781</td>\n",
       "      <td>21491.320312</td>\n",
       "      <td>21702.701172</td>\n",
       "      <td>21579.951172</td>\n",
       "      <td>21831.916016</td>\n",
       "      <td>21892.644531</td>\n",
       "      <td>21785.880859</td>\n",
       "      <td>22928.238281</td>\n",
       "      <td>22610.808594</td>\n",
       "      <td>23023.062500</td>\n",
       "      <td>...</td>\n",
       "      <td>21023.574219</td>\n",
       "      <td>21024.660156</td>\n",
       "      <td>21741.572266</td>\n",
       "      <td>20723.716797</td>\n",
       "      <td>21115.605469</td>\n",
       "      <td>21946.929688</td>\n",
       "      <td>20697.582031</td>\n",
       "      <td>21241.357422</td>\n",
       "      <td>21894.921875</td>\n",
       "      <td>21184.105469</td>\n",
       "    </tr>\n",
       "    <tr>\n",
       "      <th>16</th>\n",
       "      <td>19947.720703</td>\n",
       "      <td>20126.517578</td>\n",
       "      <td>20082.544922</td>\n",
       "      <td>20147.138672</td>\n",
       "      <td>20371.166016</td>\n",
       "      <td>20245.556641</td>\n",
       "      <td>20306.726562</td>\n",
       "      <td>20371.005859</td>\n",
       "      <td>20313.201172</td>\n",
       "      <td>20202.892578</td>\n",
       "      <td>...</td>\n",
       "      <td>20154.664062</td>\n",
       "      <td>20222.417969</td>\n",
       "      <td>20154.580078</td>\n",
       "      <td>20296.310547</td>\n",
       "      <td>20292.011719</td>\n",
       "      <td>20180.308594</td>\n",
       "      <td>20057.005859</td>\n",
       "      <td>20126.597656</td>\n",
       "      <td>20148.410156</td>\n",
       "      <td>20649.378906</td>\n",
       "    </tr>\n",
       "    <tr>\n",
       "      <th>17</th>\n",
       "      <td>24986.728516</td>\n",
       "      <td>25326.523438</td>\n",
       "      <td>24924.816406</td>\n",
       "      <td>25305.365234</td>\n",
       "      <td>25409.562500</td>\n",
       "      <td>24846.736328</td>\n",
       "      <td>24494.542969</td>\n",
       "      <td>26142.001953</td>\n",
       "      <td>24510.884766</td>\n",
       "      <td>25523.740234</td>\n",
       "      <td>...</td>\n",
       "      <td>23576.882812</td>\n",
       "      <td>23592.607422</td>\n",
       "      <td>23587.314453</td>\n",
       "      <td>23681.429688</td>\n",
       "      <td>23854.814453</td>\n",
       "      <td>23472.500000</td>\n",
       "      <td>23599.232422</td>\n",
       "      <td>22870.718750</td>\n",
       "      <td>23669.734375</td>\n",
       "      <td>23824.570312</td>\n",
       "    </tr>\n",
       "    <tr>\n",
       "      <th>18</th>\n",
       "      <td>32766.589844</td>\n",
       "      <td>32405.123047</td>\n",
       "      <td>31608.240234</td>\n",
       "      <td>31833.771484</td>\n",
       "      <td>32498.298828</td>\n",
       "      <td>33251.449219</td>\n",
       "      <td>32762.085938</td>\n",
       "      <td>33289.621094</td>\n",
       "      <td>31980.871094</td>\n",
       "      <td>31958.974609</td>\n",
       "      <td>...</td>\n",
       "      <td>32143.667969</td>\n",
       "      <td>32058.937500</td>\n",
       "      <td>33257.667969</td>\n",
       "      <td>32066.287109</td>\n",
       "      <td>31315.009766</td>\n",
       "      <td>31845.091797</td>\n",
       "      <td>31063.087891</td>\n",
       "      <td>31431.261719</td>\n",
       "      <td>31375.093750</td>\n",
       "      <td>31141.437500</td>\n",
       "    </tr>\n",
       "    <tr>\n",
       "      <th>19</th>\n",
       "      <td>39703.402344</td>\n",
       "      <td>40206.242188</td>\n",
       "      <td>39536.421875</td>\n",
       "      <td>39007.886719</td>\n",
       "      <td>40639.921875</td>\n",
       "      <td>39821.058594</td>\n",
       "      <td>39086.468750</td>\n",
       "      <td>40804.218750</td>\n",
       "      <td>39349.527344</td>\n",
       "      <td>39575.898438</td>\n",
       "      <td>...</td>\n",
       "      <td>39231.367188</td>\n",
       "      <td>39117.195312</td>\n",
       "      <td>38926.035156</td>\n",
       "      <td>39437.894531</td>\n",
       "      <td>40028.347656</td>\n",
       "      <td>38086.000000</td>\n",
       "      <td>38607.675781</td>\n",
       "      <td>42312.234375</td>\n",
       "      <td>44129.226562</td>\n",
       "      <td>43780.492188</td>\n",
       "    </tr>\n",
       "    <tr>\n",
       "      <th>20</th>\n",
       "      <td>23735.695312</td>\n",
       "      <td>23342.617188</td>\n",
       "      <td>22571.140625</td>\n",
       "      <td>22856.689453</td>\n",
       "      <td>23010.021484</td>\n",
       "      <td>23043.562500</td>\n",
       "      <td>23222.474609</td>\n",
       "      <td>22488.476562</td>\n",
       "      <td>22761.017578</td>\n",
       "      <td>22689.371094</td>\n",
       "      <td>...</td>\n",
       "      <td>22843.753906</td>\n",
       "      <td>22944.048828</td>\n",
       "      <td>23049.076172</td>\n",
       "      <td>23349.753906</td>\n",
       "      <td>23216.570312</td>\n",
       "      <td>22787.679688</td>\n",
       "      <td>23061.367188</td>\n",
       "      <td>23916.460938</td>\n",
       "      <td>22632.216797</td>\n",
       "      <td>22801.380859</td>\n",
       "    </tr>\n",
       "    <tr>\n",
       "      <th>21</th>\n",
       "      <td>43534.500000</td>\n",
       "      <td>43287.812500</td>\n",
       "      <td>41016.160156</td>\n",
       "      <td>40790.875000</td>\n",
       "      <td>42136.773438</td>\n",
       "      <td>43627.066406</td>\n",
       "      <td>42149.062500</td>\n",
       "      <td>43594.386719</td>\n",
       "      <td>43738.050781</td>\n",
       "      <td>42010.218750</td>\n",
       "      <td>...</td>\n",
       "      <td>39418.117188</td>\n",
       "      <td>40674.097656</td>\n",
       "      <td>40603.000000</td>\n",
       "      <td>40090.957031</td>\n",
       "      <td>39287.835938</td>\n",
       "      <td>40109.242188</td>\n",
       "      <td>40393.011719</td>\n",
       "      <td>39645.191406</td>\n",
       "      <td>40888.632812</td>\n",
       "      <td>39709.687500</td>\n",
       "    </tr>\n",
       "    <tr>\n",
       "      <th>22</th>\n",
       "      <td>28453.644531</td>\n",
       "      <td>28538.908203</td>\n",
       "      <td>28565.351562</td>\n",
       "      <td>27591.648438</td>\n",
       "      <td>28454.787109</td>\n",
       "      <td>27993.779297</td>\n",
       "      <td>28740.201172</td>\n",
       "      <td>29457.265625</td>\n",
       "      <td>29044.291016</td>\n",
       "      <td>28264.267578</td>\n",
       "      <td>...</td>\n",
       "      <td>28319.238281</td>\n",
       "      <td>28811.820312</td>\n",
       "      <td>29072.105469</td>\n",
       "      <td>29012.353516</td>\n",
       "      <td>29066.138672</td>\n",
       "      <td>27655.984375</td>\n",
       "      <td>28856.671875</td>\n",
       "      <td>28185.275391</td>\n",
       "      <td>28664.259766</td>\n",
       "      <td>28483.341797</td>\n",
       "    </tr>\n",
       "    <tr>\n",
       "      <th>23</th>\n",
       "      <td>27805.021484</td>\n",
       "      <td>27054.919922</td>\n",
       "      <td>27692.611328</td>\n",
       "      <td>27891.257812</td>\n",
       "      <td>27694.001953</td>\n",
       "      <td>28069.808594</td>\n",
       "      <td>27427.814453</td>\n",
       "      <td>27480.968750</td>\n",
       "      <td>26874.916016</td>\n",
       "      <td>27108.261719</td>\n",
       "      <td>...</td>\n",
       "      <td>26558.078125</td>\n",
       "      <td>26640.335938</td>\n",
       "      <td>26873.822266</td>\n",
       "      <td>27462.613281</td>\n",
       "      <td>26866.703125</td>\n",
       "      <td>26935.773438</td>\n",
       "      <td>27134.318359</td>\n",
       "      <td>26747.566406</td>\n",
       "      <td>26840.005859</td>\n",
       "      <td>25861.296875</td>\n",
       "    </tr>\n",
       "    <tr>\n",
       "      <th>24</th>\n",
       "      <td>17188.232422</td>\n",
       "      <td>17257.970703</td>\n",
       "      <td>17475.269531</td>\n",
       "      <td>17128.068359</td>\n",
       "      <td>17044.037109</td>\n",
       "      <td>17647.689453</td>\n",
       "      <td>17825.736328</td>\n",
       "      <td>17241.650391</td>\n",
       "      <td>17809.986328</td>\n",
       "      <td>17067.775391</td>\n",
       "      <td>...</td>\n",
       "      <td>18037.539062</td>\n",
       "      <td>18130.921875</td>\n",
       "      <td>17731.707031</td>\n",
       "      <td>17734.189453</td>\n",
       "      <td>17708.865234</td>\n",
       "      <td>17590.119141</td>\n",
       "      <td>18570.880859</td>\n",
       "      <td>17948.332031</td>\n",
       "      <td>17837.240234</td>\n",
       "      <td>17374.664062</td>\n",
       "    </tr>\n",
       "    <tr>\n",
       "      <th>25</th>\n",
       "      <td>21856.242188</td>\n",
       "      <td>21400.347656</td>\n",
       "      <td>21068.931641</td>\n",
       "      <td>21550.121094</td>\n",
       "      <td>21697.921875</td>\n",
       "      <td>21298.277344</td>\n",
       "      <td>22042.308594</td>\n",
       "      <td>21537.707031</td>\n",
       "      <td>21729.703125</td>\n",
       "      <td>21665.125000</td>\n",
       "      <td>...</td>\n",
       "      <td>21584.162109</td>\n",
       "      <td>21332.978516</td>\n",
       "      <td>21444.585938</td>\n",
       "      <td>21664.027344</td>\n",
       "      <td>21472.669922</td>\n",
       "      <td>21915.757812</td>\n",
       "      <td>21463.871094</td>\n",
       "      <td>21789.169922</td>\n",
       "      <td>21932.736328</td>\n",
       "      <td>21267.474609</td>\n",
       "    </tr>\n",
       "    <tr>\n",
       "      <th>26</th>\n",
       "      <td>26204.044922</td>\n",
       "      <td>26377.542969</td>\n",
       "      <td>25435.375000</td>\n",
       "      <td>25221.591797</td>\n",
       "      <td>25211.093750</td>\n",
       "      <td>26125.195312</td>\n",
       "      <td>25303.792969</td>\n",
       "      <td>26462.111328</td>\n",
       "      <td>26249.414062</td>\n",
       "      <td>26435.652344</td>\n",
       "      <td>...</td>\n",
       "      <td>32333.115234</td>\n",
       "      <td>32792.695312</td>\n",
       "      <td>30492.138672</td>\n",
       "      <td>31619.199219</td>\n",
       "      <td>32315.646484</td>\n",
       "      <td>30830.841797</td>\n",
       "      <td>30804.585938</td>\n",
       "      <td>28903.003906</td>\n",
       "      <td>30666.990234</td>\n",
       "      <td>29850.845703</td>\n",
       "    </tr>\n",
       "    <tr>\n",
       "      <th>27</th>\n",
       "      <td>22471.035156</td>\n",
       "      <td>22025.958984</td>\n",
       "      <td>23569.539062</td>\n",
       "      <td>23302.091797</td>\n",
       "      <td>23734.814453</td>\n",
       "      <td>23766.548828</td>\n",
       "      <td>23379.585938</td>\n",
       "      <td>23155.880859</td>\n",
       "      <td>22865.910156</td>\n",
       "      <td>22812.068359</td>\n",
       "      <td>...</td>\n",
       "      <td>21097.169922</td>\n",
       "      <td>21366.205078</td>\n",
       "      <td>21870.498047</td>\n",
       "      <td>21118.875000</td>\n",
       "      <td>21680.736328</td>\n",
       "      <td>20788.634766</td>\n",
       "      <td>21174.902344</td>\n",
       "      <td>21185.992188</td>\n",
       "      <td>20800.507812</td>\n",
       "      <td>20826.835938</td>\n",
       "    </tr>\n",
       "    <tr>\n",
       "      <th>28</th>\n",
       "      <td>34981.230469</td>\n",
       "      <td>35038.441406</td>\n",
       "      <td>34431.429688</td>\n",
       "      <td>35010.089844</td>\n",
       "      <td>34251.429688</td>\n",
       "      <td>34909.917969</td>\n",
       "      <td>36087.722656</td>\n",
       "      <td>35132.546875</td>\n",
       "      <td>34845.253906</td>\n",
       "      <td>35176.242188</td>\n",
       "      <td>...</td>\n",
       "      <td>34189.734375</td>\n",
       "      <td>32390.236328</td>\n",
       "      <td>33200.914062</td>\n",
       "      <td>33079.539062</td>\n",
       "      <td>34266.898438</td>\n",
       "      <td>33245.214844</td>\n",
       "      <td>33155.195312</td>\n",
       "      <td>32916.753906</td>\n",
       "      <td>34192.855469</td>\n",
       "      <td>33706.800781</td>\n",
       "    </tr>\n",
       "    <tr>\n",
       "      <th>29</th>\n",
       "      <td>26603.818359</td>\n",
       "      <td>26082.851562</td>\n",
       "      <td>26490.386719</td>\n",
       "      <td>27110.367188</td>\n",
       "      <td>27191.062500</td>\n",
       "      <td>26783.310547</td>\n",
       "      <td>27049.453125</td>\n",
       "      <td>26697.111328</td>\n",
       "      <td>27198.662109</td>\n",
       "      <td>27111.050781</td>\n",
       "      <td>...</td>\n",
       "      <td>26911.058594</td>\n",
       "      <td>27449.812500</td>\n",
       "      <td>28240.060547</td>\n",
       "      <td>27139.654297</td>\n",
       "      <td>26737.572266</td>\n",
       "      <td>27316.970703</td>\n",
       "      <td>26495.958984</td>\n",
       "      <td>26459.603516</td>\n",
       "      <td>27834.537109</td>\n",
       "      <td>25891.513672</td>\n",
       "    </tr>\n",
       "    <tr>\n",
       "      <th>30</th>\n",
       "      <td>36302.035156</td>\n",
       "      <td>34485.917969</td>\n",
       "      <td>34812.957031</td>\n",
       "      <td>34604.671875</td>\n",
       "      <td>35882.726562</td>\n",
       "      <td>35154.812500</td>\n",
       "      <td>34987.273438</td>\n",
       "      <td>34970.925781</td>\n",
       "      <td>34899.945312</td>\n",
       "      <td>34650.562500</td>\n",
       "      <td>...</td>\n",
       "      <td>36216.917969</td>\n",
       "      <td>35615.675781</td>\n",
       "      <td>34731.269531</td>\n",
       "      <td>35888.816406</td>\n",
       "      <td>36661.230469</td>\n",
       "      <td>38212.519531</td>\n",
       "      <td>39457.691406</td>\n",
       "      <td>37519.730469</td>\n",
       "      <td>38840.683594</td>\n",
       "      <td>38086.992188</td>\n",
       "    </tr>\n",
       "    <tr>\n",
       "      <th>31</th>\n",
       "      <td>17998.425781</td>\n",
       "      <td>17263.816406</td>\n",
       "      <td>17653.419922</td>\n",
       "      <td>17728.150391</td>\n",
       "      <td>18049.816406</td>\n",
       "      <td>17453.867188</td>\n",
       "      <td>17939.828125</td>\n",
       "      <td>17496.263672</td>\n",
       "      <td>17428.917969</td>\n",
       "      <td>17821.753906</td>\n",
       "      <td>...</td>\n",
       "      <td>17855.199219</td>\n",
       "      <td>17046.375000</td>\n",
       "      <td>17580.207031</td>\n",
       "      <td>18201.892578</td>\n",
       "      <td>17576.443359</td>\n",
       "      <td>19080.808594</td>\n",
       "      <td>18392.892578</td>\n",
       "      <td>18752.728516</td>\n",
       "      <td>18991.330078</td>\n",
       "      <td>18120.626953</td>\n",
       "    </tr>\n",
       "    <tr>\n",
       "      <th>...</th>\n",
       "      <td>...</td>\n",
       "      <td>...</td>\n",
       "      <td>...</td>\n",
       "      <td>...</td>\n",
       "      <td>...</td>\n",
       "      <td>...</td>\n",
       "      <td>...</td>\n",
       "      <td>...</td>\n",
       "      <td>...</td>\n",
       "      <td>...</td>\n",
       "      <td>...</td>\n",
       "      <td>...</td>\n",
       "      <td>...</td>\n",
       "      <td>...</td>\n",
       "      <td>...</td>\n",
       "      <td>...</td>\n",
       "      <td>...</td>\n",
       "      <td>...</td>\n",
       "      <td>...</td>\n",
       "      <td>...</td>\n",
       "      <td>...</td>\n",
       "    </tr>\n",
       "    <tr>\n",
       "      <th>192</th>\n",
       "      <td>25211.636719</td>\n",
       "      <td>25444.166016</td>\n",
       "      <td>26160.242188</td>\n",
       "      <td>26039.779297</td>\n",
       "      <td>26029.896484</td>\n",
       "      <td>26443.371094</td>\n",
       "      <td>25678.703125</td>\n",
       "      <td>26594.695312</td>\n",
       "      <td>25067.191406</td>\n",
       "      <td>25903.421875</td>\n",
       "      <td>...</td>\n",
       "      <td>28429.115234</td>\n",
       "      <td>28189.572266</td>\n",
       "      <td>28485.884766</td>\n",
       "      <td>27779.716797</td>\n",
       "      <td>28944.882812</td>\n",
       "      <td>27142.384766</td>\n",
       "      <td>27754.462891</td>\n",
       "      <td>27731.722656</td>\n",
       "      <td>27569.251953</td>\n",
       "      <td>27657.669922</td>\n",
       "    </tr>\n",
       "    <tr>\n",
       "      <th>193</th>\n",
       "      <td>20045.212891</td>\n",
       "      <td>19315.193359</td>\n",
       "      <td>19418.361328</td>\n",
       "      <td>19628.285156</td>\n",
       "      <td>19973.335938</td>\n",
       "      <td>20348.029297</td>\n",
       "      <td>19764.203125</td>\n",
       "      <td>19481.140625</td>\n",
       "      <td>19775.449219</td>\n",
       "      <td>19301.017578</td>\n",
       "      <td>...</td>\n",
       "      <td>18746.123047</td>\n",
       "      <td>19687.416016</td>\n",
       "      <td>18800.853516</td>\n",
       "      <td>18616.445312</td>\n",
       "      <td>18577.886719</td>\n",
       "      <td>18711.957031</td>\n",
       "      <td>19284.570312</td>\n",
       "      <td>19987.021484</td>\n",
       "      <td>19097.583984</td>\n",
       "      <td>19440.214844</td>\n",
       "    </tr>\n",
       "    <tr>\n",
       "      <th>194</th>\n",
       "      <td>20900.894531</td>\n",
       "      <td>20460.351562</td>\n",
       "      <td>20363.693359</td>\n",
       "      <td>20509.259766</td>\n",
       "      <td>20616.589844</td>\n",
       "      <td>20726.412109</td>\n",
       "      <td>20826.394531</td>\n",
       "      <td>20578.304688</td>\n",
       "      <td>20353.283203</td>\n",
       "      <td>20387.814453</td>\n",
       "      <td>...</td>\n",
       "      <td>17986.166016</td>\n",
       "      <td>18396.072266</td>\n",
       "      <td>18483.371094</td>\n",
       "      <td>18426.802734</td>\n",
       "      <td>18421.986328</td>\n",
       "      <td>18478.966797</td>\n",
       "      <td>18528.572266</td>\n",
       "      <td>18485.626953</td>\n",
       "      <td>18271.554688</td>\n",
       "      <td>17753.003906</td>\n",
       "    </tr>\n",
       "    <tr>\n",
       "      <th>195</th>\n",
       "      <td>15854.122070</td>\n",
       "      <td>15623.425781</td>\n",
       "      <td>15804.273438</td>\n",
       "      <td>16463.916016</td>\n",
       "      <td>16048.637695</td>\n",
       "      <td>15747.554688</td>\n",
       "      <td>16028.842773</td>\n",
       "      <td>15453.444336</td>\n",
       "      <td>15676.819336</td>\n",
       "      <td>15818.940430</td>\n",
       "      <td>...</td>\n",
       "      <td>15399.692383</td>\n",
       "      <td>14774.335938</td>\n",
       "      <td>14951.791992</td>\n",
       "      <td>15103.193359</td>\n",
       "      <td>15323.781250</td>\n",
       "      <td>15546.022461</td>\n",
       "      <td>15729.626953</td>\n",
       "      <td>15321.509766</td>\n",
       "      <td>15599.938477</td>\n",
       "      <td>15749.507812</td>\n",
       "    </tr>\n",
       "    <tr>\n",
       "      <th>196</th>\n",
       "      <td>16982.107422</td>\n",
       "      <td>17136.197266</td>\n",
       "      <td>17376.027344</td>\n",
       "      <td>16924.558594</td>\n",
       "      <td>16812.125000</td>\n",
       "      <td>16877.898438</td>\n",
       "      <td>16981.449219</td>\n",
       "      <td>17041.947266</td>\n",
       "      <td>16878.341797</td>\n",
       "      <td>17274.957031</td>\n",
       "      <td>...</td>\n",
       "      <td>17187.582031</td>\n",
       "      <td>16544.046875</td>\n",
       "      <td>17393.919922</td>\n",
       "      <td>16646.052734</td>\n",
       "      <td>16803.468750</td>\n",
       "      <td>16576.201172</td>\n",
       "      <td>17158.244141</td>\n",
       "      <td>16404.822266</td>\n",
       "      <td>17216.226562</td>\n",
       "      <td>16299.113281</td>\n",
       "    </tr>\n",
       "    <tr>\n",
       "      <th>199</th>\n",
       "      <td>20801.705078</td>\n",
       "      <td>21218.234375</td>\n",
       "      <td>21133.144531</td>\n",
       "      <td>20523.726562</td>\n",
       "      <td>20725.886719</td>\n",
       "      <td>20452.308594</td>\n",
       "      <td>21201.173828</td>\n",
       "      <td>21614.939453</td>\n",
       "      <td>21511.968750</td>\n",
       "      <td>21592.544922</td>\n",
       "      <td>...</td>\n",
       "      <td>20365.992188</td>\n",
       "      <td>20388.818359</td>\n",
       "      <td>19978.160156</td>\n",
       "      <td>20525.003906</td>\n",
       "      <td>20476.964844</td>\n",
       "      <td>20302.921875</td>\n",
       "      <td>20333.496094</td>\n",
       "      <td>20606.203125</td>\n",
       "      <td>20046.763672</td>\n",
       "      <td>20099.275391</td>\n",
       "    </tr>\n",
       "    <tr>\n",
       "      <th>200</th>\n",
       "      <td>18479.478516</td>\n",
       "      <td>18542.238281</td>\n",
       "      <td>18303.074219</td>\n",
       "      <td>18088.205078</td>\n",
       "      <td>18432.060547</td>\n",
       "      <td>18377.554688</td>\n",
       "      <td>18368.267578</td>\n",
       "      <td>18319.199219</td>\n",
       "      <td>17865.080078</td>\n",
       "      <td>17855.250000</td>\n",
       "      <td>...</td>\n",
       "      <td>18429.431641</td>\n",
       "      <td>17981.373047</td>\n",
       "      <td>18118.505859</td>\n",
       "      <td>18156.417969</td>\n",
       "      <td>17763.986328</td>\n",
       "      <td>18344.267578</td>\n",
       "      <td>18105.662109</td>\n",
       "      <td>18376.123047</td>\n",
       "      <td>18062.107422</td>\n",
       "      <td>18022.849609</td>\n",
       "    </tr>\n",
       "    <tr>\n",
       "      <th>201</th>\n",
       "      <td>16285.697266</td>\n",
       "      <td>16402.611328</td>\n",
       "      <td>16232.820312</td>\n",
       "      <td>16409.460938</td>\n",
       "      <td>16513.611328</td>\n",
       "      <td>16282.195312</td>\n",
       "      <td>16306.271484</td>\n",
       "      <td>16848.060547</td>\n",
       "      <td>16680.287109</td>\n",
       "      <td>16914.230469</td>\n",
       "      <td>...</td>\n",
       "      <td>16385.085938</td>\n",
       "      <td>16401.082031</td>\n",
       "      <td>16054.818359</td>\n",
       "      <td>15944.713867</td>\n",
       "      <td>15986.222656</td>\n",
       "      <td>15829.841797</td>\n",
       "      <td>15810.400391</td>\n",
       "      <td>16475.162109</td>\n",
       "      <td>15836.408203</td>\n",
       "      <td>15766.555664</td>\n",
       "    </tr>\n",
       "    <tr>\n",
       "      <th>202</th>\n",
       "      <td>18681.750000</td>\n",
       "      <td>18394.765625</td>\n",
       "      <td>18202.310547</td>\n",
       "      <td>18041.722656</td>\n",
       "      <td>17938.724609</td>\n",
       "      <td>18615.203125</td>\n",
       "      <td>18419.998047</td>\n",
       "      <td>18650.134766</td>\n",
       "      <td>18608.054688</td>\n",
       "      <td>18820.142578</td>\n",
       "      <td>...</td>\n",
       "      <td>19137.589844</td>\n",
       "      <td>19076.835938</td>\n",
       "      <td>19677.769531</td>\n",
       "      <td>19546.091797</td>\n",
       "      <td>19327.705078</td>\n",
       "      <td>19172.501953</td>\n",
       "      <td>18832.158203</td>\n",
       "      <td>18761.292969</td>\n",
       "      <td>18943.953125</td>\n",
       "      <td>18525.496094</td>\n",
       "    </tr>\n",
       "    <tr>\n",
       "      <th>203</th>\n",
       "      <td>18972.712891</td>\n",
       "      <td>19220.142578</td>\n",
       "      <td>19517.271484</td>\n",
       "      <td>19686.412109</td>\n",
       "      <td>19069.042969</td>\n",
       "      <td>18966.150391</td>\n",
       "      <td>19323.851562</td>\n",
       "      <td>19423.306641</td>\n",
       "      <td>18582.738281</td>\n",
       "      <td>18997.169922</td>\n",
       "      <td>...</td>\n",
       "      <td>19703.833984</td>\n",
       "      <td>20324.013672</td>\n",
       "      <td>19518.337891</td>\n",
       "      <td>20007.031250</td>\n",
       "      <td>19202.492188</td>\n",
       "      <td>18752.800781</td>\n",
       "      <td>18945.550781</td>\n",
       "      <td>19356.294922</td>\n",
       "      <td>18624.177734</td>\n",
       "      <td>19436.496094</td>\n",
       "    </tr>\n",
       "    <tr>\n",
       "      <th>204</th>\n",
       "      <td>16149.452148</td>\n",
       "      <td>15906.239258</td>\n",
       "      <td>16202.916016</td>\n",
       "      <td>15523.382812</td>\n",
       "      <td>16116.158203</td>\n",
       "      <td>15853.785156</td>\n",
       "      <td>15743.852539</td>\n",
       "      <td>15984.627930</td>\n",
       "      <td>15852.485352</td>\n",
       "      <td>15867.023438</td>\n",
       "      <td>...</td>\n",
       "      <td>15527.172852</td>\n",
       "      <td>15276.841797</td>\n",
       "      <td>15689.241211</td>\n",
       "      <td>14980.580078</td>\n",
       "      <td>14948.467773</td>\n",
       "      <td>15668.145508</td>\n",
       "      <td>15238.348633</td>\n",
       "      <td>15787.683594</td>\n",
       "      <td>15057.863281</td>\n",
       "      <td>15339.249023</td>\n",
       "    </tr>\n",
       "    <tr>\n",
       "      <th>205</th>\n",
       "      <td>41572.304688</td>\n",
       "      <td>43238.714844</td>\n",
       "      <td>42097.949219</td>\n",
       "      <td>42437.953125</td>\n",
       "      <td>44496.925781</td>\n",
       "      <td>42922.140625</td>\n",
       "      <td>43536.917969</td>\n",
       "      <td>44608.992188</td>\n",
       "      <td>42415.429688</td>\n",
       "      <td>43064.671875</td>\n",
       "      <td>...</td>\n",
       "      <td>38396.066406</td>\n",
       "      <td>38805.609375</td>\n",
       "      <td>38724.964844</td>\n",
       "      <td>38555.363281</td>\n",
       "      <td>38992.847656</td>\n",
       "      <td>39400.621094</td>\n",
       "      <td>39089.062500</td>\n",
       "      <td>38272.636719</td>\n",
       "      <td>38658.175781</td>\n",
       "      <td>39762.375000</td>\n",
       "    </tr>\n",
       "    <tr>\n",
       "      <th>206</th>\n",
       "      <td>17146.925781</td>\n",
       "      <td>16310.605469</td>\n",
       "      <td>16941.794922</td>\n",
       "      <td>17466.535156</td>\n",
       "      <td>17506.212891</td>\n",
       "      <td>17160.853516</td>\n",
       "      <td>17381.435547</td>\n",
       "      <td>17524.390625</td>\n",
       "      <td>16306.695312</td>\n",
       "      <td>17084.144531</td>\n",
       "      <td>...</td>\n",
       "      <td>17134.718750</td>\n",
       "      <td>16055.963867</td>\n",
       "      <td>17347.007812</td>\n",
       "      <td>16895.833984</td>\n",
       "      <td>17151.445312</td>\n",
       "      <td>16894.169922</td>\n",
       "      <td>16896.380859</td>\n",
       "      <td>16678.996094</td>\n",
       "      <td>16739.691406</td>\n",
       "      <td>16623.408203</td>\n",
       "    </tr>\n",
       "    <tr>\n",
       "      <th>207</th>\n",
       "      <td>20499.255859</td>\n",
       "      <td>20703.414062</td>\n",
       "      <td>20122.857422</td>\n",
       "      <td>20025.498047</td>\n",
       "      <td>20369.218750</td>\n",
       "      <td>20601.019531</td>\n",
       "      <td>20490.478516</td>\n",
       "      <td>20804.253906</td>\n",
       "      <td>20389.933594</td>\n",
       "      <td>20653.218750</td>\n",
       "      <td>...</td>\n",
       "      <td>20552.105469</td>\n",
       "      <td>19911.757812</td>\n",
       "      <td>20220.365234</td>\n",
       "      <td>19958.947266</td>\n",
       "      <td>20254.181641</td>\n",
       "      <td>19884.226562</td>\n",
       "      <td>20656.023438</td>\n",
       "      <td>20183.974609</td>\n",
       "      <td>19629.761719</td>\n",
       "      <td>20172.707031</td>\n",
       "    </tr>\n",
       "    <tr>\n",
       "      <th>208</th>\n",
       "      <td>28384.480469</td>\n",
       "      <td>28445.287109</td>\n",
       "      <td>28268.060547</td>\n",
       "      <td>27913.791016</td>\n",
       "      <td>28264.052734</td>\n",
       "      <td>28757.650391</td>\n",
       "      <td>28513.041016</td>\n",
       "      <td>29285.521484</td>\n",
       "      <td>28010.458984</td>\n",
       "      <td>28349.210938</td>\n",
       "      <td>...</td>\n",
       "      <td>27231.027344</td>\n",
       "      <td>28639.843750</td>\n",
       "      <td>27261.654297</td>\n",
       "      <td>28739.580078</td>\n",
       "      <td>26581.328125</td>\n",
       "      <td>26915.287109</td>\n",
       "      <td>28208.671875</td>\n",
       "      <td>26650.607422</td>\n",
       "      <td>27902.361328</td>\n",
       "      <td>27952.783203</td>\n",
       "    </tr>\n",
       "    <tr>\n",
       "      <th>211</th>\n",
       "      <td>17656.609375</td>\n",
       "      <td>17663.953125</td>\n",
       "      <td>18024.650391</td>\n",
       "      <td>17806.041016</td>\n",
       "      <td>17972.505859</td>\n",
       "      <td>18041.808594</td>\n",
       "      <td>17840.521484</td>\n",
       "      <td>17960.890625</td>\n",
       "      <td>17959.023438</td>\n",
       "      <td>17399.707031</td>\n",
       "      <td>...</td>\n",
       "      <td>17968.853516</td>\n",
       "      <td>17910.128906</td>\n",
       "      <td>18164.259766</td>\n",
       "      <td>17959.039062</td>\n",
       "      <td>18082.685547</td>\n",
       "      <td>18375.974609</td>\n",
       "      <td>18171.017578</td>\n",
       "      <td>18229.193359</td>\n",
       "      <td>17774.302734</td>\n",
       "      <td>18491.261719</td>\n",
       "    </tr>\n",
       "    <tr>\n",
       "      <th>212</th>\n",
       "      <td>17103.013672</td>\n",
       "      <td>16831.628906</td>\n",
       "      <td>16948.466797</td>\n",
       "      <td>17040.039062</td>\n",
       "      <td>17114.417969</td>\n",
       "      <td>16995.863281</td>\n",
       "      <td>16886.447266</td>\n",
       "      <td>16803.777344</td>\n",
       "      <td>16843.582031</td>\n",
       "      <td>17030.416016</td>\n",
       "      <td>...</td>\n",
       "      <td>16732.847656</td>\n",
       "      <td>16869.064453</td>\n",
       "      <td>16468.666016</td>\n",
       "      <td>17189.236328</td>\n",
       "      <td>16398.552734</td>\n",
       "      <td>16360.726562</td>\n",
       "      <td>16626.660156</td>\n",
       "      <td>16344.781250</td>\n",
       "      <td>16617.150391</td>\n",
       "      <td>16763.312500</td>\n",
       "    </tr>\n",
       "    <tr>\n",
       "      <th>213</th>\n",
       "      <td>14631.211914</td>\n",
       "      <td>14669.806641</td>\n",
       "      <td>15039.880859</td>\n",
       "      <td>14653.612305</td>\n",
       "      <td>15005.595703</td>\n",
       "      <td>15186.047852</td>\n",
       "      <td>14660.626953</td>\n",
       "      <td>15239.849609</td>\n",
       "      <td>14973.676758</td>\n",
       "      <td>14930.216797</td>\n",
       "      <td>...</td>\n",
       "      <td>14359.429688</td>\n",
       "      <td>14881.000000</td>\n",
       "      <td>14726.962891</td>\n",
       "      <td>14570.600586</td>\n",
       "      <td>14869.761719</td>\n",
       "      <td>14583.161133</td>\n",
       "      <td>14432.681641</td>\n",
       "      <td>14312.281250</td>\n",
       "      <td>14220.468750</td>\n",
       "      <td>14176.518555</td>\n",
       "    </tr>\n",
       "    <tr>\n",
       "      <th>214</th>\n",
       "      <td>18749.105469</td>\n",
       "      <td>19364.619141</td>\n",
       "      <td>18822.130859</td>\n",
       "      <td>18345.716797</td>\n",
       "      <td>19452.777344</td>\n",
       "      <td>19514.542969</td>\n",
       "      <td>19616.839844</td>\n",
       "      <td>19192.394531</td>\n",
       "      <td>19269.187500</td>\n",
       "      <td>19234.037109</td>\n",
       "      <td>...</td>\n",
       "      <td>20860.880859</td>\n",
       "      <td>20374.154297</td>\n",
       "      <td>20015.802734</td>\n",
       "      <td>20415.847656</td>\n",
       "      <td>20474.255859</td>\n",
       "      <td>19611.402344</td>\n",
       "      <td>19638.708984</td>\n",
       "      <td>19352.371094</td>\n",
       "      <td>19740.410156</td>\n",
       "      <td>19969.736328</td>\n",
       "    </tr>\n",
       "    <tr>\n",
       "      <th>215</th>\n",
       "      <td>51242.273438</td>\n",
       "      <td>51659.203125</td>\n",
       "      <td>52821.273438</td>\n",
       "      <td>51572.093750</td>\n",
       "      <td>51501.332031</td>\n",
       "      <td>52601.554688</td>\n",
       "      <td>52112.347656</td>\n",
       "      <td>54506.550781</td>\n",
       "      <td>51566.125000</td>\n",
       "      <td>50003.312500</td>\n",
       "      <td>...</td>\n",
       "      <td>51423.367188</td>\n",
       "      <td>51949.199219</td>\n",
       "      <td>52133.953125</td>\n",
       "      <td>53167.562500</td>\n",
       "      <td>52724.824219</td>\n",
       "      <td>51976.597656</td>\n",
       "      <td>52901.441406</td>\n",
       "      <td>53165.093750</td>\n",
       "      <td>53694.578125</td>\n",
       "      <td>53972.113281</td>\n",
       "    </tr>\n",
       "    <tr>\n",
       "      <th>217</th>\n",
       "      <td>24559.228516</td>\n",
       "      <td>24507.089844</td>\n",
       "      <td>24746.208984</td>\n",
       "      <td>25364.582031</td>\n",
       "      <td>25310.939453</td>\n",
       "      <td>24595.480469</td>\n",
       "      <td>25911.173828</td>\n",
       "      <td>24464.302734</td>\n",
       "      <td>25325.710938</td>\n",
       "      <td>25064.550781</td>\n",
       "      <td>...</td>\n",
       "      <td>24093.988281</td>\n",
       "      <td>25347.361328</td>\n",
       "      <td>24426.490234</td>\n",
       "      <td>24710.164062</td>\n",
       "      <td>25397.376953</td>\n",
       "      <td>25065.958984</td>\n",
       "      <td>24582.972656</td>\n",
       "      <td>25039.468750</td>\n",
       "      <td>24900.330078</td>\n",
       "      <td>25596.677734</td>\n",
       "    </tr>\n",
       "    <tr>\n",
       "      <th>218</th>\n",
       "      <td>24795.375000</td>\n",
       "      <td>25070.654297</td>\n",
       "      <td>24460.667969</td>\n",
       "      <td>24095.185547</td>\n",
       "      <td>24693.451172</td>\n",
       "      <td>24988.890625</td>\n",
       "      <td>25113.189453</td>\n",
       "      <td>24618.996094</td>\n",
       "      <td>24485.662109</td>\n",
       "      <td>24775.544922</td>\n",
       "      <td>...</td>\n",
       "      <td>25770.363281</td>\n",
       "      <td>26419.640625</td>\n",
       "      <td>25095.363281</td>\n",
       "      <td>25952.699219</td>\n",
       "      <td>25690.154297</td>\n",
       "      <td>25378.687500</td>\n",
       "      <td>25684.894531</td>\n",
       "      <td>25811.234375</td>\n",
       "      <td>25045.287109</td>\n",
       "      <td>24919.353516</td>\n",
       "    </tr>\n",
       "    <tr>\n",
       "      <th>219</th>\n",
       "      <td>20376.589844</td>\n",
       "      <td>20543.748047</td>\n",
       "      <td>19971.572266</td>\n",
       "      <td>20288.783203</td>\n",
       "      <td>20379.072266</td>\n",
       "      <td>20478.582031</td>\n",
       "      <td>20002.857422</td>\n",
       "      <td>20662.068359</td>\n",
       "      <td>19329.660156</td>\n",
       "      <td>19772.060547</td>\n",
       "      <td>...</td>\n",
       "      <td>19402.371094</td>\n",
       "      <td>19625.382812</td>\n",
       "      <td>19719.771484</td>\n",
       "      <td>19660.208984</td>\n",
       "      <td>20065.900391</td>\n",
       "      <td>19624.404297</td>\n",
       "      <td>19865.148438</td>\n",
       "      <td>19377.642578</td>\n",
       "      <td>19475.851562</td>\n",
       "      <td>19058.214844</td>\n",
       "    </tr>\n",
       "    <tr>\n",
       "      <th>220</th>\n",
       "      <td>19744.572266</td>\n",
       "      <td>18934.330078</td>\n",
       "      <td>19690.074219</td>\n",
       "      <td>19339.140625</td>\n",
       "      <td>19551.175781</td>\n",
       "      <td>19549.390625</td>\n",
       "      <td>19139.261719</td>\n",
       "      <td>20527.681641</td>\n",
       "      <td>19003.349609</td>\n",
       "      <td>20192.220703</td>\n",
       "      <td>...</td>\n",
       "      <td>17560.882812</td>\n",
       "      <td>18553.003906</td>\n",
       "      <td>19004.677734</td>\n",
       "      <td>19323.968750</td>\n",
       "      <td>18717.427734</td>\n",
       "      <td>18826.998047</td>\n",
       "      <td>19478.214844</td>\n",
       "      <td>19008.591797</td>\n",
       "      <td>18447.023438</td>\n",
       "      <td>18012.093750</td>\n",
       "    </tr>\n",
       "    <tr>\n",
       "      <th>221</th>\n",
       "      <td>19403.406250</td>\n",
       "      <td>19096.253906</td>\n",
       "      <td>19338.699219</td>\n",
       "      <td>19819.603516</td>\n",
       "      <td>19813.406250</td>\n",
       "      <td>20102.933594</td>\n",
       "      <td>19452.138672</td>\n",
       "      <td>19162.734375</td>\n",
       "      <td>19441.873047</td>\n",
       "      <td>19197.417969</td>\n",
       "      <td>...</td>\n",
       "      <td>18624.357422</td>\n",
       "      <td>19357.861328</td>\n",
       "      <td>19446.611328</td>\n",
       "      <td>19063.617188</td>\n",
       "      <td>19368.800781</td>\n",
       "      <td>19122.220703</td>\n",
       "      <td>19598.121094</td>\n",
       "      <td>19112.144531</td>\n",
       "      <td>18977.791016</td>\n",
       "      <td>18559.306641</td>\n",
       "    </tr>\n",
       "    <tr>\n",
       "      <th>222</th>\n",
       "      <td>31513.578125</td>\n",
       "      <td>30971.337891</td>\n",
       "      <td>30487.679688</td>\n",
       "      <td>30531.212891</td>\n",
       "      <td>30840.134766</td>\n",
       "      <td>31102.496094</td>\n",
       "      <td>30049.867188</td>\n",
       "      <td>31564.996094</td>\n",
       "      <td>30270.183594</td>\n",
       "      <td>30720.054688</td>\n",
       "      <td>...</td>\n",
       "      <td>30181.660156</td>\n",
       "      <td>30328.091797</td>\n",
       "      <td>30432.089844</td>\n",
       "      <td>31004.091797</td>\n",
       "      <td>29953.890625</td>\n",
       "      <td>29459.890625</td>\n",
       "      <td>29656.416016</td>\n",
       "      <td>30276.232422</td>\n",
       "      <td>29556.318359</td>\n",
       "      <td>29071.914062</td>\n",
       "    </tr>\n",
       "    <tr>\n",
       "      <th>223</th>\n",
       "      <td>20782.898438</td>\n",
       "      <td>20900.464844</td>\n",
       "      <td>20942.855469</td>\n",
       "      <td>20992.292969</td>\n",
       "      <td>20368.259766</td>\n",
       "      <td>20957.517578</td>\n",
       "      <td>20332.437500</td>\n",
       "      <td>20903.453125</td>\n",
       "      <td>20647.621094</td>\n",
       "      <td>20851.126953</td>\n",
       "      <td>...</td>\n",
       "      <td>20264.804688</td>\n",
       "      <td>20647.810547</td>\n",
       "      <td>20248.628906</td>\n",
       "      <td>20560.013672</td>\n",
       "      <td>20374.160156</td>\n",
       "      <td>20323.542969</td>\n",
       "      <td>20101.935547</td>\n",
       "      <td>20202.611328</td>\n",
       "      <td>20223.746094</td>\n",
       "      <td>20299.125000</td>\n",
       "    </tr>\n",
       "    <tr>\n",
       "      <th>224</th>\n",
       "      <td>25881.953125</td>\n",
       "      <td>27587.787109</td>\n",
       "      <td>26072.156250</td>\n",
       "      <td>26895.392578</td>\n",
       "      <td>26607.980469</td>\n",
       "      <td>26292.761719</td>\n",
       "      <td>26701.335938</td>\n",
       "      <td>26001.707031</td>\n",
       "      <td>24858.966797</td>\n",
       "      <td>25424.453125</td>\n",
       "      <td>...</td>\n",
       "      <td>24252.630859</td>\n",
       "      <td>23840.103516</td>\n",
       "      <td>23964.910156</td>\n",
       "      <td>24325.638672</td>\n",
       "      <td>24767.828125</td>\n",
       "      <td>24072.382812</td>\n",
       "      <td>23804.642578</td>\n",
       "      <td>23902.201172</td>\n",
       "      <td>23977.175781</td>\n",
       "      <td>23994.326172</td>\n",
       "    </tr>\n",
       "    <tr>\n",
       "      <th>225</th>\n",
       "      <td>15838.798828</td>\n",
       "      <td>15855.557617</td>\n",
       "      <td>15508.954102</td>\n",
       "      <td>15535.656250</td>\n",
       "      <td>15596.541992</td>\n",
       "      <td>15497.088867</td>\n",
       "      <td>15531.091797</td>\n",
       "      <td>15797.094727</td>\n",
       "      <td>15446.848633</td>\n",
       "      <td>15459.904297</td>\n",
       "      <td>...</td>\n",
       "      <td>16017.826172</td>\n",
       "      <td>15883.485352</td>\n",
       "      <td>15962.271484</td>\n",
       "      <td>15886.916992</td>\n",
       "      <td>16082.125000</td>\n",
       "      <td>16030.743164</td>\n",
       "      <td>16183.229492</td>\n",
       "      <td>16006.544922</td>\n",
       "      <td>15938.400391</td>\n",
       "      <td>16521.927734</td>\n",
       "    </tr>\n",
       "    <tr>\n",
       "      <th>227</th>\n",
       "      <td>15755.602539</td>\n",
       "      <td>15748.370117</td>\n",
       "      <td>15641.621094</td>\n",
       "      <td>15869.445312</td>\n",
       "      <td>15886.257812</td>\n",
       "      <td>15987.505859</td>\n",
       "      <td>16115.943359</td>\n",
       "      <td>16223.062500</td>\n",
       "      <td>16097.637695</td>\n",
       "      <td>16121.613281</td>\n",
       "      <td>...</td>\n",
       "      <td>15823.291016</td>\n",
       "      <td>16173.955078</td>\n",
       "      <td>15769.920898</td>\n",
       "      <td>16071.741211</td>\n",
       "      <td>15760.687500</td>\n",
       "      <td>15815.192383</td>\n",
       "      <td>16076.550781</td>\n",
       "      <td>15859.452148</td>\n",
       "      <td>15630.537109</td>\n",
       "      <td>16347.005859</td>\n",
       "    </tr>\n",
       "  </tbody>\n",
       "</table>\n",
       "<p>199 rows × 5359 columns</p>\n",
       "</div>"
      ],
      "text/plain": [
       "                0             1             2             3             4     \\\n",
       "cellID                                                                         \n",
       "2       16857.601562  17104.820312  17120.091797  17070.093750  17080.455078   \n",
       "3       15599.491211  15805.813477  15662.357422  15286.163086  15619.789062   \n",
       "4       20971.753906  21771.080078  21415.351562  21583.355469  20951.378906   \n",
       "5       21047.837891  20691.113281  20809.703125  20261.035156  19921.404297   \n",
       "6       17057.273438  17073.441406  16700.486328  16801.570312  17345.296875   \n",
       "7       19270.296875  19564.935547  19626.400391  19549.912109  19027.285156   \n",
       "8       20469.910156  20630.550781  20427.810547  20628.277344  20463.880859   \n",
       "9       18318.498047  18407.013672  18653.234375  19023.480469  18426.472656   \n",
       "10      26600.703125  26578.652344  25616.958984  26083.576172  25278.189453   \n",
       "11      18759.205078  18330.882812  19128.226562  18622.630859  18864.949219   \n",
       "12      25189.933594  25340.457031  25535.242188  25002.208984  25430.128906   \n",
       "13      26664.234375  27577.914062  27734.376953  28104.003906  28709.000000   \n",
       "14      21000.585938  20651.761719  20931.154297  20734.388672  20095.748047   \n",
       "15      21792.675781  21491.320312  21702.701172  21579.951172  21831.916016   \n",
       "16      19947.720703  20126.517578  20082.544922  20147.138672  20371.166016   \n",
       "17      24986.728516  25326.523438  24924.816406  25305.365234  25409.562500   \n",
       "18      32766.589844  32405.123047  31608.240234  31833.771484  32498.298828   \n",
       "19      39703.402344  40206.242188  39536.421875  39007.886719  40639.921875   \n",
       "20      23735.695312  23342.617188  22571.140625  22856.689453  23010.021484   \n",
       "21      43534.500000  43287.812500  41016.160156  40790.875000  42136.773438   \n",
       "22      28453.644531  28538.908203  28565.351562  27591.648438  28454.787109   \n",
       "23      27805.021484  27054.919922  27692.611328  27891.257812  27694.001953   \n",
       "24      17188.232422  17257.970703  17475.269531  17128.068359  17044.037109   \n",
       "25      21856.242188  21400.347656  21068.931641  21550.121094  21697.921875   \n",
       "26      26204.044922  26377.542969  25435.375000  25221.591797  25211.093750   \n",
       "27      22471.035156  22025.958984  23569.539062  23302.091797  23734.814453   \n",
       "28      34981.230469  35038.441406  34431.429688  35010.089844  34251.429688   \n",
       "29      26603.818359  26082.851562  26490.386719  27110.367188  27191.062500   \n",
       "30      36302.035156  34485.917969  34812.957031  34604.671875  35882.726562   \n",
       "31      17998.425781  17263.816406  17653.419922  17728.150391  18049.816406   \n",
       "...              ...           ...           ...           ...           ...   \n",
       "192     25211.636719  25444.166016  26160.242188  26039.779297  26029.896484   \n",
       "193     20045.212891  19315.193359  19418.361328  19628.285156  19973.335938   \n",
       "194     20900.894531  20460.351562  20363.693359  20509.259766  20616.589844   \n",
       "195     15854.122070  15623.425781  15804.273438  16463.916016  16048.637695   \n",
       "196     16982.107422  17136.197266  17376.027344  16924.558594  16812.125000   \n",
       "199     20801.705078  21218.234375  21133.144531  20523.726562  20725.886719   \n",
       "200     18479.478516  18542.238281  18303.074219  18088.205078  18432.060547   \n",
       "201     16285.697266  16402.611328  16232.820312  16409.460938  16513.611328   \n",
       "202     18681.750000  18394.765625  18202.310547  18041.722656  17938.724609   \n",
       "203     18972.712891  19220.142578  19517.271484  19686.412109  19069.042969   \n",
       "204     16149.452148  15906.239258  16202.916016  15523.382812  16116.158203   \n",
       "205     41572.304688  43238.714844  42097.949219  42437.953125  44496.925781   \n",
       "206     17146.925781  16310.605469  16941.794922  17466.535156  17506.212891   \n",
       "207     20499.255859  20703.414062  20122.857422  20025.498047  20369.218750   \n",
       "208     28384.480469  28445.287109  28268.060547  27913.791016  28264.052734   \n",
       "211     17656.609375  17663.953125  18024.650391  17806.041016  17972.505859   \n",
       "212     17103.013672  16831.628906  16948.466797  17040.039062  17114.417969   \n",
       "213     14631.211914  14669.806641  15039.880859  14653.612305  15005.595703   \n",
       "214     18749.105469  19364.619141  18822.130859  18345.716797  19452.777344   \n",
       "215     51242.273438  51659.203125  52821.273438  51572.093750  51501.332031   \n",
       "217     24559.228516  24507.089844  24746.208984  25364.582031  25310.939453   \n",
       "218     24795.375000  25070.654297  24460.667969  24095.185547  24693.451172   \n",
       "219     20376.589844  20543.748047  19971.572266  20288.783203  20379.072266   \n",
       "220     19744.572266  18934.330078  19690.074219  19339.140625  19551.175781   \n",
       "221     19403.406250  19096.253906  19338.699219  19819.603516  19813.406250   \n",
       "222     31513.578125  30971.337891  30487.679688  30531.212891  30840.134766   \n",
       "223     20782.898438  20900.464844  20942.855469  20992.292969  20368.259766   \n",
       "224     25881.953125  27587.787109  26072.156250  26895.392578  26607.980469   \n",
       "225     15838.798828  15855.557617  15508.954102  15535.656250  15596.541992   \n",
       "227     15755.602539  15748.370117  15641.621094  15869.445312  15886.257812   \n",
       "\n",
       "                5             6             7             8             9     \\\n",
       "cellID                                                                         \n",
       "2       16741.500000  16818.470703  16973.873047  16792.935547  17029.027344   \n",
       "3       15537.751953  15377.682617  15758.224609  15934.871094  15463.239258   \n",
       "4       21419.250000  21050.728516  21316.099609  21127.140625  20951.607422   \n",
       "5       20123.830078  20763.197266  20377.697266  20025.310547  20420.550781   \n",
       "6       16753.082031  17038.697266  17147.566406  16841.279297  17025.488281   \n",
       "7       19009.578125  18651.708984  19683.898438  18996.074219  18957.039062   \n",
       "8       20833.906250  20162.384766  20612.601562  20570.410156  20551.117188   \n",
       "9       19110.796875  18200.171875  18680.947266  18369.314453  18406.498047   \n",
       "10      25446.261719  26119.660156  26390.824219  25354.992188  25374.333984   \n",
       "11      18139.708984  18706.318359  19105.558594  18388.261719  18409.035156   \n",
       "12      25856.212891  25917.566406  25807.931641  25759.554688  25814.580078   \n",
       "13      28394.052734  27810.511719  27680.240234  27386.429688  27845.644531   \n",
       "14      20313.671875  20125.373047  20547.074219  20437.335938  20028.347656   \n",
       "15      21892.644531  21785.880859  22928.238281  22610.808594  23023.062500   \n",
       "16      20245.556641  20306.726562  20371.005859  20313.201172  20202.892578   \n",
       "17      24846.736328  24494.542969  26142.001953  24510.884766  25523.740234   \n",
       "18      33251.449219  32762.085938  33289.621094  31980.871094  31958.974609   \n",
       "19      39821.058594  39086.468750  40804.218750  39349.527344  39575.898438   \n",
       "20      23043.562500  23222.474609  22488.476562  22761.017578  22689.371094   \n",
       "21      43627.066406  42149.062500  43594.386719  43738.050781  42010.218750   \n",
       "22      27993.779297  28740.201172  29457.265625  29044.291016  28264.267578   \n",
       "23      28069.808594  27427.814453  27480.968750  26874.916016  27108.261719   \n",
       "24      17647.689453  17825.736328  17241.650391  17809.986328  17067.775391   \n",
       "25      21298.277344  22042.308594  21537.707031  21729.703125  21665.125000   \n",
       "26      26125.195312  25303.792969  26462.111328  26249.414062  26435.652344   \n",
       "27      23766.548828  23379.585938  23155.880859  22865.910156  22812.068359   \n",
       "28      34909.917969  36087.722656  35132.546875  34845.253906  35176.242188   \n",
       "29      26783.310547  27049.453125  26697.111328  27198.662109  27111.050781   \n",
       "30      35154.812500  34987.273438  34970.925781  34899.945312  34650.562500   \n",
       "31      17453.867188  17939.828125  17496.263672  17428.917969  17821.753906   \n",
       "...              ...           ...           ...           ...           ...   \n",
       "192     26443.371094  25678.703125  26594.695312  25067.191406  25903.421875   \n",
       "193     20348.029297  19764.203125  19481.140625  19775.449219  19301.017578   \n",
       "194     20726.412109  20826.394531  20578.304688  20353.283203  20387.814453   \n",
       "195     15747.554688  16028.842773  15453.444336  15676.819336  15818.940430   \n",
       "196     16877.898438  16981.449219  17041.947266  16878.341797  17274.957031   \n",
       "199     20452.308594  21201.173828  21614.939453  21511.968750  21592.544922   \n",
       "200     18377.554688  18368.267578  18319.199219  17865.080078  17855.250000   \n",
       "201     16282.195312  16306.271484  16848.060547  16680.287109  16914.230469   \n",
       "202     18615.203125  18419.998047  18650.134766  18608.054688  18820.142578   \n",
       "203     18966.150391  19323.851562  19423.306641  18582.738281  18997.169922   \n",
       "204     15853.785156  15743.852539  15984.627930  15852.485352  15867.023438   \n",
       "205     42922.140625  43536.917969  44608.992188  42415.429688  43064.671875   \n",
       "206     17160.853516  17381.435547  17524.390625  16306.695312  17084.144531   \n",
       "207     20601.019531  20490.478516  20804.253906  20389.933594  20653.218750   \n",
       "208     28757.650391  28513.041016  29285.521484  28010.458984  28349.210938   \n",
       "211     18041.808594  17840.521484  17960.890625  17959.023438  17399.707031   \n",
       "212     16995.863281  16886.447266  16803.777344  16843.582031  17030.416016   \n",
       "213     15186.047852  14660.626953  15239.849609  14973.676758  14930.216797   \n",
       "214     19514.542969  19616.839844  19192.394531  19269.187500  19234.037109   \n",
       "215     52601.554688  52112.347656  54506.550781  51566.125000  50003.312500   \n",
       "217     24595.480469  25911.173828  24464.302734  25325.710938  25064.550781   \n",
       "218     24988.890625  25113.189453  24618.996094  24485.662109  24775.544922   \n",
       "219     20478.582031  20002.857422  20662.068359  19329.660156  19772.060547   \n",
       "220     19549.390625  19139.261719  20527.681641  19003.349609  20192.220703   \n",
       "221     20102.933594  19452.138672  19162.734375  19441.873047  19197.417969   \n",
       "222     31102.496094  30049.867188  31564.996094  30270.183594  30720.054688   \n",
       "223     20957.517578  20332.437500  20903.453125  20647.621094  20851.126953   \n",
       "224     26292.761719  26701.335938  26001.707031  24858.966797  25424.453125   \n",
       "225     15497.088867  15531.091797  15797.094727  15446.848633  15459.904297   \n",
       "227     15987.505859  16115.943359  16223.062500  16097.637695  16121.613281   \n",
       "\n",
       "            ...               5371          5372          5373          5374  \\\n",
       "cellID      ...                                                                \n",
       "2           ...       17472.134766  17449.613281  17300.326172  17131.875000   \n",
       "3           ...       15551.779297  15018.689453  15162.700195  15550.821289   \n",
       "4           ...       21254.269531  21441.625000  21123.326172  21376.458984   \n",
       "5           ...       19607.085938  19809.486328  19464.625000  20111.222656   \n",
       "6           ...       16571.060547  16761.882812  16001.525391  17451.080078   \n",
       "7           ...       19218.935547  18942.626953  18984.996094  19315.271484   \n",
       "8           ...       20003.042969  20264.287109  20337.791016  20078.619141   \n",
       "9           ...       18619.390625  18731.578125  18801.976562  18699.199219   \n",
       "10          ...       23144.003906  22916.035156  23333.404297  22693.515625   \n",
       "11          ...       19898.970703  19795.566406  19422.994141  19401.060547   \n",
       "12          ...       24542.333984  24469.712891  25452.625000  25102.839844   \n",
       "13          ...       27831.611328  27811.968750  28501.841797  29875.748047   \n",
       "14          ...       19822.681641  20047.412109  20269.839844  20076.097656   \n",
       "15          ...       21023.574219  21024.660156  21741.572266  20723.716797   \n",
       "16          ...       20154.664062  20222.417969  20154.580078  20296.310547   \n",
       "17          ...       23576.882812  23592.607422  23587.314453  23681.429688   \n",
       "18          ...       32143.667969  32058.937500  33257.667969  32066.287109   \n",
       "19          ...       39231.367188  39117.195312  38926.035156  39437.894531   \n",
       "20          ...       22843.753906  22944.048828  23049.076172  23349.753906   \n",
       "21          ...       39418.117188  40674.097656  40603.000000  40090.957031   \n",
       "22          ...       28319.238281  28811.820312  29072.105469  29012.353516   \n",
       "23          ...       26558.078125  26640.335938  26873.822266  27462.613281   \n",
       "24          ...       18037.539062  18130.921875  17731.707031  17734.189453   \n",
       "25          ...       21584.162109  21332.978516  21444.585938  21664.027344   \n",
       "26          ...       32333.115234  32792.695312  30492.138672  31619.199219   \n",
       "27          ...       21097.169922  21366.205078  21870.498047  21118.875000   \n",
       "28          ...       34189.734375  32390.236328  33200.914062  33079.539062   \n",
       "29          ...       26911.058594  27449.812500  28240.060547  27139.654297   \n",
       "30          ...       36216.917969  35615.675781  34731.269531  35888.816406   \n",
       "31          ...       17855.199219  17046.375000  17580.207031  18201.892578   \n",
       "...         ...                ...           ...           ...           ...   \n",
       "192         ...       28429.115234  28189.572266  28485.884766  27779.716797   \n",
       "193         ...       18746.123047  19687.416016  18800.853516  18616.445312   \n",
       "194         ...       17986.166016  18396.072266  18483.371094  18426.802734   \n",
       "195         ...       15399.692383  14774.335938  14951.791992  15103.193359   \n",
       "196         ...       17187.582031  16544.046875  17393.919922  16646.052734   \n",
       "199         ...       20365.992188  20388.818359  19978.160156  20525.003906   \n",
       "200         ...       18429.431641  17981.373047  18118.505859  18156.417969   \n",
       "201         ...       16385.085938  16401.082031  16054.818359  15944.713867   \n",
       "202         ...       19137.589844  19076.835938  19677.769531  19546.091797   \n",
       "203         ...       19703.833984  20324.013672  19518.337891  20007.031250   \n",
       "204         ...       15527.172852  15276.841797  15689.241211  14980.580078   \n",
       "205         ...       38396.066406  38805.609375  38724.964844  38555.363281   \n",
       "206         ...       17134.718750  16055.963867  17347.007812  16895.833984   \n",
       "207         ...       20552.105469  19911.757812  20220.365234  19958.947266   \n",
       "208         ...       27231.027344  28639.843750  27261.654297  28739.580078   \n",
       "211         ...       17968.853516  17910.128906  18164.259766  17959.039062   \n",
       "212         ...       16732.847656  16869.064453  16468.666016  17189.236328   \n",
       "213         ...       14359.429688  14881.000000  14726.962891  14570.600586   \n",
       "214         ...       20860.880859  20374.154297  20015.802734  20415.847656   \n",
       "215         ...       51423.367188  51949.199219  52133.953125  53167.562500   \n",
       "217         ...       24093.988281  25347.361328  24426.490234  24710.164062   \n",
       "218         ...       25770.363281  26419.640625  25095.363281  25952.699219   \n",
       "219         ...       19402.371094  19625.382812  19719.771484  19660.208984   \n",
       "220         ...       17560.882812  18553.003906  19004.677734  19323.968750   \n",
       "221         ...       18624.357422  19357.861328  19446.611328  19063.617188   \n",
       "222         ...       30181.660156  30328.091797  30432.089844  31004.091797   \n",
       "223         ...       20264.804688  20647.810547  20248.628906  20560.013672   \n",
       "224         ...       24252.630859  23840.103516  23964.910156  24325.638672   \n",
       "225         ...       16017.826172  15883.485352  15962.271484  15886.916992   \n",
       "227         ...       15823.291016  16173.955078  15769.920898  16071.741211   \n",
       "\n",
       "                5375          5376          5377          5378          5379  \\\n",
       "cellID                                                                         \n",
       "2       17275.898438  17224.878906  17461.367188  17613.779297  17655.839844   \n",
       "3       15292.533203  15384.690430  15131.143555  15590.846680  15217.204102   \n",
       "4       21215.871094  20710.937500  21208.025391  21089.505859  21450.935547   \n",
       "5       19896.423828  20015.539062  20466.156250  19702.892578  20223.562500   \n",
       "6       16685.835938  16734.263672  16160.143555  15994.986328  16531.283203   \n",
       "7       19040.673828  18904.199219  19359.123047  19107.257812  19024.562500   \n",
       "8       20027.992188  20113.634766  20191.939453  20165.414062  19862.431641   \n",
       "9       18968.982422  18052.511719  18060.935547  18466.523438  18296.050781   \n",
       "10      23162.275391  23036.275391  22726.992188  23114.900391  22584.246094   \n",
       "11      18919.359375  19271.242188  19874.197266  19164.857422  18821.308594   \n",
       "12      24830.302734  24473.718750  24686.966797  24649.865234  24205.886719   \n",
       "13      29313.527344  29288.607422  29024.792969  28811.587891  27786.601562   \n",
       "14      19354.617188  20163.566406  20061.054688  19461.482422  20027.384766   \n",
       "15      21115.605469  21946.929688  20697.582031  21241.357422  21894.921875   \n",
       "16      20292.011719  20180.308594  20057.005859  20126.597656  20148.410156   \n",
       "17      23854.814453  23472.500000  23599.232422  22870.718750  23669.734375   \n",
       "18      31315.009766  31845.091797  31063.087891  31431.261719  31375.093750   \n",
       "19      40028.347656  38086.000000  38607.675781  42312.234375  44129.226562   \n",
       "20      23216.570312  22787.679688  23061.367188  23916.460938  22632.216797   \n",
       "21      39287.835938  40109.242188  40393.011719  39645.191406  40888.632812   \n",
       "22      29066.138672  27655.984375  28856.671875  28185.275391  28664.259766   \n",
       "23      26866.703125  26935.773438  27134.318359  26747.566406  26840.005859   \n",
       "24      17708.865234  17590.119141  18570.880859  17948.332031  17837.240234   \n",
       "25      21472.669922  21915.757812  21463.871094  21789.169922  21932.736328   \n",
       "26      32315.646484  30830.841797  30804.585938  28903.003906  30666.990234   \n",
       "27      21680.736328  20788.634766  21174.902344  21185.992188  20800.507812   \n",
       "28      34266.898438  33245.214844  33155.195312  32916.753906  34192.855469   \n",
       "29      26737.572266  27316.970703  26495.958984  26459.603516  27834.537109   \n",
       "30      36661.230469  38212.519531  39457.691406  37519.730469  38840.683594   \n",
       "31      17576.443359  19080.808594  18392.892578  18752.728516  18991.330078   \n",
       "...              ...           ...           ...           ...           ...   \n",
       "192     28944.882812  27142.384766  27754.462891  27731.722656  27569.251953   \n",
       "193     18577.886719  18711.957031  19284.570312  19987.021484  19097.583984   \n",
       "194     18421.986328  18478.966797  18528.572266  18485.626953  18271.554688   \n",
       "195     15323.781250  15546.022461  15729.626953  15321.509766  15599.938477   \n",
       "196     16803.468750  16576.201172  17158.244141  16404.822266  17216.226562   \n",
       "199     20476.964844  20302.921875  20333.496094  20606.203125  20046.763672   \n",
       "200     17763.986328  18344.267578  18105.662109  18376.123047  18062.107422   \n",
       "201     15986.222656  15829.841797  15810.400391  16475.162109  15836.408203   \n",
       "202     19327.705078  19172.501953  18832.158203  18761.292969  18943.953125   \n",
       "203     19202.492188  18752.800781  18945.550781  19356.294922  18624.177734   \n",
       "204     14948.467773  15668.145508  15238.348633  15787.683594  15057.863281   \n",
       "205     38992.847656  39400.621094  39089.062500  38272.636719  38658.175781   \n",
       "206     17151.445312  16894.169922  16896.380859  16678.996094  16739.691406   \n",
       "207     20254.181641  19884.226562  20656.023438  20183.974609  19629.761719   \n",
       "208     26581.328125  26915.287109  28208.671875  26650.607422  27902.361328   \n",
       "211     18082.685547  18375.974609  18171.017578  18229.193359  17774.302734   \n",
       "212     16398.552734  16360.726562  16626.660156  16344.781250  16617.150391   \n",
       "213     14869.761719  14583.161133  14432.681641  14312.281250  14220.468750   \n",
       "214     20474.255859  19611.402344  19638.708984  19352.371094  19740.410156   \n",
       "215     52724.824219  51976.597656  52901.441406  53165.093750  53694.578125   \n",
       "217     25397.376953  25065.958984  24582.972656  25039.468750  24900.330078   \n",
       "218     25690.154297  25378.687500  25684.894531  25811.234375  25045.287109   \n",
       "219     20065.900391  19624.404297  19865.148438  19377.642578  19475.851562   \n",
       "220     18717.427734  18826.998047  19478.214844  19008.591797  18447.023438   \n",
       "221     19368.800781  19122.220703  19598.121094  19112.144531  18977.791016   \n",
       "222     29953.890625  29459.890625  29656.416016  30276.232422  29556.318359   \n",
       "223     20374.160156  20323.542969  20101.935547  20202.611328  20223.746094   \n",
       "224     24767.828125  24072.382812  23804.642578  23902.201172  23977.175781   \n",
       "225     16082.125000  16030.743164  16183.229492  16006.544922  15938.400391   \n",
       "227     15760.687500  15815.192383  16076.550781  15859.452148  15630.537109   \n",
       "\n",
       "                5380  \n",
       "cellID                \n",
       "2       16712.382812  \n",
       "3       15467.633789  \n",
       "4       21303.453125  \n",
       "5       19284.736328  \n",
       "6       17313.484375  \n",
       "7       18664.472656  \n",
       "8       20290.691406  \n",
       "9       18892.607422  \n",
       "10      22945.468750  \n",
       "11      18597.310547  \n",
       "12      23993.687500  \n",
       "13      27250.373047  \n",
       "14      19120.384766  \n",
       "15      21184.105469  \n",
       "16      20649.378906  \n",
       "17      23824.570312  \n",
       "18      31141.437500  \n",
       "19      43780.492188  \n",
       "20      22801.380859  \n",
       "21      39709.687500  \n",
       "22      28483.341797  \n",
       "23      25861.296875  \n",
       "24      17374.664062  \n",
       "25      21267.474609  \n",
       "26      29850.845703  \n",
       "27      20826.835938  \n",
       "28      33706.800781  \n",
       "29      25891.513672  \n",
       "30      38086.992188  \n",
       "31      18120.626953  \n",
       "...              ...  \n",
       "192     27657.669922  \n",
       "193     19440.214844  \n",
       "194     17753.003906  \n",
       "195     15749.507812  \n",
       "196     16299.113281  \n",
       "199     20099.275391  \n",
       "200     18022.849609  \n",
       "201     15766.555664  \n",
       "202     18525.496094  \n",
       "203     19436.496094  \n",
       "204     15339.249023  \n",
       "205     39762.375000  \n",
       "206     16623.408203  \n",
       "207     20172.707031  \n",
       "208     27952.783203  \n",
       "211     18491.261719  \n",
       "212     16763.312500  \n",
       "213     14176.518555  \n",
       "214     19969.736328  \n",
       "215     53972.113281  \n",
       "217     25596.677734  \n",
       "218     24919.353516  \n",
       "219     19058.214844  \n",
       "220     18012.093750  \n",
       "221     18559.306641  \n",
       "222     29071.914062  \n",
       "223     20299.125000  \n",
       "224     23994.326172  \n",
       "225     16521.927734  \n",
       "227     16347.005859  \n",
       "\n",
       "[199 rows x 5359 columns]"
      ]
     },
     "execution_count": 25,
     "metadata": {},
     "output_type": "execute_result"
    }
   ],
   "source": [
    "epoch.loc[13, 'RoiSignal'].unstack('cellID').T"
   ]
  },
  {
   "cell_type": "code",
   "execution_count": 17,
   "metadata": {
    "collapsed": false
   },
   "outputs": [
    {
     "ename": "ValueError",
     "evalue": "could not broadcast input array from shape (199,5129) into shape (199,5359)",
     "output_type": "error",
     "traceback": [
      "\u001b[0;31m---------------------------------------------------------------------------\u001b[0m",
      "\u001b[0;31mValueError\u001b[0m                                Traceback (most recent call last)",
      "\u001b[0;32m<ipython-input-17-e4f074bb44cd>\u001b[0m in \u001b[0;36m<module>\u001b[0;34m()\u001b[0m\n\u001b[1;32m      1\u001b[0m \u001b[0mtraces\u001b[0m \u001b[0;34m=\u001b[0m \u001b[0mnp\u001b[0m\u001b[0;34m.\u001b[0m\u001b[0mempty\u001b[0m\u001b[0;34m(\u001b[0m\u001b[0;34m(\u001b[0m\u001b[0mtrials\u001b[0m\u001b[0;34m,\u001b[0m\u001b[0mcells\u001b[0m\u001b[0;34m,\u001b[0m\u001b[0mframes\u001b[0m\u001b[0;34m)\u001b[0m\u001b[0;34m)\u001b[0m\u001b[0;34m\u001b[0m\u001b[0m\n\u001b[1;32m      2\u001b[0m \u001b[0;32mfor\u001b[0m \u001b[0mitrial\u001b[0m\u001b[0;34m,\u001b[0m \u001b[0mtrialID\u001b[0m \u001b[0;32min\u001b[0m \u001b[0menumerate\u001b[0m\u001b[0;34m(\u001b[0m\u001b[0mtrialIDList\u001b[0m\u001b[0;34m)\u001b[0m\u001b[0;34m:\u001b[0m\u001b[0;34m\u001b[0m\u001b[0m\n\u001b[0;32m----> 3\u001b[0;31m     \u001b[0mtraces\u001b[0m\u001b[0;34m[\u001b[0m\u001b[0mitrial\u001b[0m\u001b[0;34m,\u001b[0m\u001b[0;34m:\u001b[0m\u001b[0;34m,\u001b[0m\u001b[0;34m:\u001b[0m\u001b[0;34m]\u001b[0m \u001b[0;34m=\u001b[0m \u001b[0mepoch\u001b[0m\u001b[0;34m.\u001b[0m\u001b[0mloc\u001b[0m\u001b[0;34m[\u001b[0m\u001b[0mtrialID\u001b[0m\u001b[0;34m,\u001b[0m \u001b[0;34m'RoiSignal'\u001b[0m\u001b[0;34m]\u001b[0m\u001b[0;34m.\u001b[0m\u001b[0munstack\u001b[0m\u001b[0;34m(\u001b[0m\u001b[0;34m'cellID'\u001b[0m\u001b[0;34m)\u001b[0m\u001b[0;34m.\u001b[0m\u001b[0mT\u001b[0m\u001b[0;34m\u001b[0m\u001b[0m\n\u001b[0m\u001b[1;32m      4\u001b[0m \u001b[0mtraces\u001b[0m \u001b[0;34m=\u001b[0m \u001b[0mtraces\u001b[0m\u001b[0;34m.\u001b[0m\u001b[0mT\u001b[0m\u001b[0;34m\u001b[0m\u001b[0m\n\u001b[1;32m      5\u001b[0m \u001b[0mworkflow_dict\u001b[0m\u001b[0;34m[\u001b[0m\u001b[0;34m'raw_traces'\u001b[0m\u001b[0;34m]\u001b[0m \u001b[0;34m=\u001b[0m \u001b[0mtraces\u001b[0m\u001b[0;34m\u001b[0m\u001b[0m\n",
      "\u001b[0;31mValueError\u001b[0m: could not broadcast input array from shape (199,5129) into shape (199,5359)"
     ]
    }
   ],
   "source": [
    "traces = np.empty((trials,cells,frames))\n",
    "for itrial, trialID in enumerate(trialIDList):\n",
    "    traces[itrial,:,:] = epoch.loc[trialID, 'RoiSignal'].unstack('cellID').T\n",
    "traces = traces.T\n",
    "workflow_dict['raw_traces'] = traces\n"
   ]
  },
  {
   "cell_type": "markdown",
   "metadata": {},
   "source": [
    "## populate normed traces"
   ]
  },
  {
   "cell_type": "code",
   "execution_count": null,
   "metadata": {
    "collapsed": false
   },
   "outputs": [],
   "source": [
    "normed_traces = np.empty((trials, cells, frames))\n",
    "for itrial, trialID in enumerate(trialIDList):\n",
    "    normed_traces[itrial,:,:] =  epoch.loc[trialID, 'normed_traces'].unstack('cellID').T\n",
    "normed_traces = normed_traces.T\n",
    "workflow_dict['normed_traces']['corrected_rois'] = normed_traces"
   ]
  },
  {
   "cell_type": "markdown",
   "metadata": {},
   "source": [
    "## populate normed_stds"
   ]
  },
  {
   "cell_type": "code",
   "execution_count": null,
   "metadata": {
    "collapsed": false
   },
   "outputs": [],
   "source": [
    "normed_stds = np.empty((cells,trials))\n",
    "this = epoch.groupby(['trial', 'cellID']).apply(lambda x: x['normed_stds'].ix[0])\n",
    "for itrial, trialID in enumerate(trialIDList):\n",
    "    for icell, cell in enumerate(epoch['cellID'].unique()):\n",
    "        normed_stds[icell,itrial] = this.loc[trialID, cell]\n",
    "workflow_dict['normed_traces']['normed_stds'] = normed_stds"
   ]
  },
  {
   "cell_type": "markdown",
   "metadata": {},
   "source": [
    "## populate baselines1 for SNR"
   ]
  },
  {
   "cell_type": "code",
   "execution_count": null,
   "metadata": {
    "collapsed": false
   },
   "outputs": [],
   "source": [
    "baselines1 = np.empty((trials, cells, frames))\n",
    "for itrial, trialID in enumerate(trialIDList):\n",
    "        baselines1[itrial,:,:] = epoch.loc[trialID, 'baselined1_traces'].unstack('cellID').T\n",
    "baselines1 = baselines1.T\n",
    "workflow_dict['normed_traces']['baselines1'] = baselines1"
   ]
  },
  {
   "cell_type": "markdown",
   "metadata": {},
   "source": [
    "## populate other"
   ]
  },
  {
   "cell_type": "code",
   "execution_count": null,
   "metadata": {
    "collapsed": false
   },
   "outputs": [],
   "source": [
    "cells"
   ]
  },
  {
   "cell_type": "code",
   "execution_count": null,
   "metadata": {
    "collapsed": true
   },
   "outputs": [],
   "source": [
    "workflow_dict['numCells'] = cells\n",
    "workflow_dict['numTrials'] = trials\n",
    "workflow_dict['numOdors'] = 23"
   ]
  },
  {
   "cell_type": "markdown",
   "metadata": {},
   "source": [
    "# get responders"
   ]
  },
  {
   "cell_type": "code",
   "execution_count": null,
   "metadata": {
    "collapsed": false
   },
   "outputs": [],
   "source": [
    "workflow_dict['normed_traces']['corrected_rois'].shape\n"
   ]
  },
  {
   "cell_type": "code",
   "execution_count": null,
   "metadata": {
    "collapsed": false
   },
   "outputs": [],
   "source": [
    "from spUtils.FindSigResponses.sigTesting import getcellsBasic\n",
    "numOdors = workflow_dict['numOdors']\n",
    "numCells = workflow_dict['numCells']\n",
    "numTrials = workflow_dict['numTrials']\n",
    "normed_traces=workflow_dict['normed_traces']['corrected_rois']\n",
    "window = 16 #frames... 2 seconds. \n",
    "responseDict = defaultdict(dict)\n",
    "\n",
    "for cell in range(numCells):\n",
    "    for odor in range(numOdors):\n",
    "        \n",
    "       \n",
    "        responseDict[odor][cell] =  [trial for trial in getcellsBasic(workflow_dict, normed_traces, odor, cell, numTrials, window)]\n",
    "        "
   ]
  },
  {
   "cell_type": "code",
   "execution_count": null,
   "metadata": {
    "collapsed": false
   },
   "outputs": [],
   "source": [
    "#report number of trials (and identity) on which a response is detected. Typically 50% of trials for trial_thresh\n",
    "#tune to 10% population response on null. \n",
    "trial_thresh = 6\n",
    "def filterSigCells(responseDict, odor, trial_thresh = trial_thresh):\n",
    "    for cell, numTrials in responseDict[odor].items():\n",
    "        if len(numTrials)>=trial_thresh:\n",
    "            \n",
    "            yield cell, numTrials\n",
    "\n",
    "\n",
    "ResponsiveCellsbyOdor = {odor:{cell:numTrials for cell, numTrials in filterSigCells(responseDict, odor, trial_thresh)} for odor in range(numOdors)}# changwe range for new setup\n"
   ]
  },
  {
   "cell_type": "markdown",
   "metadata": {},
   "source": [
    "# Fraction of responsive population by odor"
   ]
  },
  {
   "cell_type": "code",
   "execution_count": null,
   "metadata": {
    "collapsed": false
   },
   "outputs": [],
   "source": [
    "\n",
    "#report number of neurons that satisfy response criterion above. then take fraction.\n",
    "FractionofPopulation= {key:len(numResponsiveCells) for key, numResponsiveCells in ResponsiveCellsbyOdor.iteritems()}\n",
    "fractionofCells = np.asarray(FractionofPopulation.values())/float(numCells)\n",
    "odorID = [odorIDX+1 for odorIDX in FractionofPopulation.keys()]\n",
    "\n",
    "cmap = sns.color_palette('muted')\n",
    "for odor, cellFrac in zip(FractionofPopulation.keys(), fractionofCells):\n",
    "    for i, (class_, odorids) in enumerate(classes.items()):\n",
    "        if odor in odorids:\n",
    "            plt.bar(odor, cellFrac, color = cmap[i], label = '{}'.format(class_))#change odor range for new setup\n",
    "    if odor == 0:\n",
    "        plt.bar(odor, cellFrac, color = 'k', label = 'blank')\n",
    "            \n",
    "handles, labels = plt.gca().get_legend_handles_labels()\n",
    "hands = [handles[_] for _ in [0,1,5,8,12,15,19]]\n",
    "labs = [labels[_] for _ in [0,1,5,8,12,15,19]]\n",
    "plt.gca().legend(hands, labs, fontsize = \n",
    "                'medium')\n",
    "\n",
    "\n",
    "plt.xlabel('Odor ID')\n",
    "plt.ylabel('Fraction of Population')\n",
    "plt.ylim(0,0.9)\n",
    "plt.title('Response Density \\n FOV:{} cells'.format(numCells))\n",
    "plt.savefig('response_density_slice_{}.png'.format(slice_), dpi = 300, bbox_inches = 'tight', pad_inches = 0.5)"
   ]
  },
  {
   "cell_type": "markdown",
   "metadata": {},
   "source": [
    "## Fraction of responsive population by odor \n",
    "- sorted by positive and negative changes. \n"
   ]
  },
  {
   "cell_type": "code",
   "execution_count": null,
   "metadata": {
    "collapsed": true
   },
   "outputs": [],
   "source": [
    "#number of detected deviations during odor period on 'trial_thresh' trials deems this a responding odor-cell pair.\n",
    "trial_thresh = 6\n"
   ]
  },
  {
   "cell_type": "code",
   "execution_count": null,
   "metadata": {
    "collapsed": false
   },
   "outputs": [],
   "source": [
    "def posSigCells(responseDict, odor, trial_thresh = 2):\n",
    "    for cell, numTrials in responseDict[odor].items():\n",
    "        if len(numTrials)>=trial_thresh:\n",
    "            if sum(x>0 for x in numTrials)>=trial_thresh:\n",
    "                yield cell, numTrials\n",
    "def negSigCells(responseDict, odor, trial_thresh = 2):\n",
    "    for cell, numTrials in responseDict[odor].items():\n",
    "        if len(numTrials)>=trial_thresh:\n",
    "            if sum(x<0 for x in numTrials)>=trial_thresh:\n",
    "                yield cell, numTrials                \n",
    "                \n",
    "\n",
    "pos_responders = {odor:{cell:numTrials for cell, numTrials in posSigCells(responseDict, odor, trial_thresh)} for odor in range(numOdors)}# changwe range for new setup\n",
    "pos_cells = {odor:len(cell_list) for odor, cell_list in pos_responders.iteritems()}\n",
    "fractionofPosCells = np.asarray(pos_cells.values())/float(numCells)\n",
    "#print fractionofPosCells\n",
    "\n",
    "neg_responders = {odor:{cell:numTrials for cell, numTrials in negSigCells(responseDict, odor, trial_thresh)} for odor in range(numOdors)}# changwe range for new setup\n",
    "neg_cells = {odor:len(cell_list) for odor, cell_list in neg_responders.iteritems()}\n",
    "fractionofNegCells = np.asarray(neg_cells.values())/float(numCells)\n",
    "\n",
    "#print fractionofNegCells\n",
    "\n",
    "# plt.figure(figsize = (5,5))\n",
    "# plt.bar(range(numOdors), sorted(fractionofPosCells), color =  'k', alpha = 0.5, label = 'excitatory')\n",
    "# plt.bar(range(numOdors), sorted(fractionofNegCells), alpha = 0.5, label = 'suppressed') #change odor range for new setup\n",
    "# plt.legend()\n",
    "# #plt.ylim(0,0.2)\n",
    "# plt.xlabel('Odor ID')\n",
    "# plt.ylabel('Fraction of Population')\n",
    "# plt.title('Response Density \\n FOV:{} cells'.format(numCells))\n",
    "#plt.savefig('ei_response_density.png', dpi = 300, bbox_inches = 'tight', pad_inches = 0.5)\n"
   ]
  },
  {
   "cell_type": "markdown",
   "metadata": {},
   "source": [
    "# Promiscuous Cells. Those that respond to more than one odor. \n",
    "-This is calculated on cells that respond to an odor on at least 50 percent of the trials. "
   ]
  },
  {
   "cell_type": "code",
   "execution_count": null,
   "metadata": {
    "collapsed": false
   },
   "outputs": [],
   "source": [
    "#obtain number of times a responding neuron was reliably detected upon presentations of multiple stimulii.\n",
    "\n",
    "PosPromiscuousCells = defaultdict(int)\n",
    "NegPromiscuousCells = defaultdict(int)\n",
    "for odor in range(numOdors):\n",
    "    for cell in pos_responders[odor].keys():   \n",
    "        PosPromiscuousCells[cell] +=1\n",
    "    for cell in neg_responders[odor].keys():  \n",
    "        NegPromiscuousCells[cell] +=1\n",
    "        \n",
    "        \n",
    "PosTotal = len(PosPromiscuousCells.values())\n",
    "NegTotal = len(NegPromiscuousCells.values())\n",
    "\n",
    "\n",
    "with sns.color_palette('cubehelix', 3):\n",
    "    plt.hist(PosPromiscuousCells.values(), bins = list(set(PosPromiscuousCells.values())),\n",
    "             histtype = 'step', linewidth = 1, cumulative = 1, normed = True, label = '{} Excited Cells'.format(PosTotal))\n",
    "    plt.ylim(0,1)\n",
    "    plt.xlim(1,23)\n",
    "    plt.legend(loc='lower right')\n",
    "#     plt.hist(NegPromiscuousCells.values(), bins = list(set(PosPromiscuousCells.values())), \n",
    "#              histtype = 'step', linewidth = 1, cumulative = 1, normed = True, label = '{} Suppressed Cells'.format(NegTotal))\n",
    "#     plt.ylim(0,1)\n",
    "#     plt.legend(loc = 'lower right')\n",
    "    plt.title('Proportion of cells responding \\n to multiple odors ')\n",
    "    plt.xlabel('number of odors')\n",
    "    plt.ylabel('cumulative \\n probability')\n",
    "    \n",
    "\n",
    "plt.savefig('cells_across_odors_slice_{}.png'.format(slice_), dpi = 300, bbox_inches = 'tight', pad_inches = 0.5)"
   ]
  },
  {
   "cell_type": "code",
   "execution_count": null,
   "metadata": {
    "collapsed": false
   },
   "outputs": [],
   "source": [
    "# pickle.dump(sp050515a, open('/users/stan/desktop/050515/traces/sp050515a_workflow.dict','wb'))"
   ]
  },
  {
   "cell_type": "markdown",
   "metadata": {},
   "source": [
    "# Events"
   ]
  },
  {
   "cell_type": "code",
   "execution_count": null,
   "metadata": {
    "collapsed": true
   },
   "outputs": [],
   "source": [
    "from spUtils.get_normalized_traces_submodule import epoch_event_generator, findEventsParams"
   ]
  },
  {
   "cell_type": "code",
   "execution_count": null,
   "metadata": {
    "collapsed": false
   },
   "outputs": [],
   "source": [
    "numSlices = 8 #6 slices + 2 flyback frames\n",
    "meta = pickle.load(open(metadataPath))\n",
    "secPerFrame = meta['scanimage.SI5.scanFramePeriod'][0]\n",
    "frameRate = 1/secPerFrame/8\n",
    "findEventsParams['minimum_length'] = int(1/secPerFrame/numSlices)"
   ]
  },
  {
   "cell_type": "code",
   "execution_count": null,
   "metadata": {
    "collapsed": false
   },
   "outputs": [],
   "source": [
    "normed_traces = next(spUtils.gen_dict_extract('corrected_rois', workflow_dict))\n",
    "stds = workflow_dict['normed_traces']['normed_stds']#next(spUtils.gen_dict_extract('normed_stds', workflow_dict))\n",
    "numTrials = workflow_dict['numTrials']\n",
    "frames, cells, trials = normed_traces.shape\n",
    "\n",
    "events=defaultdict(dict)\n",
    "for key, val in [('pos_events',True), ('neg_events',False)]:\n",
    "    findEventsParams['positive'] = val\n",
    "    events[key] = epoch_event_generator(normed_traces, stds, cells, numTrials,**findEventsParams)\n",
    "\n",
    "#store events and params\n",
    "workflow_dict['events'] = events\n",
    "workflow_dict['events']['params'] = findEventsParams\n",
    "# save dict at this point\n",
    "#save_dict()"
   ]
  },
  {
   "cell_type": "markdown",
   "metadata": {},
   "source": [
    "#  Display distribution of event magnitudes  "
   ]
  },
  {
   "cell_type": "code",
   "execution_count": null,
   "metadata": {
    "collapsed": false
   },
   "outputs": [],
   "source": [
    "from spUtils.get_normalized_traces_submodule import getMaxEvents"
   ]
  },
  {
   "cell_type": "code",
   "execution_count": null,
   "metadata": {
    "collapsed": false
   },
   "outputs": [],
   "source": [
    "numCells = workflow_dict['numCells']\n",
    "these_traces = normed_traces\n",
    "these_events = workflow_dict['events']['pos_events']\n",
    "    \n",
    "eMags = getMaxEvents(these_events[:,:,:],these_traces[:,:,:])\n",
    "workflow_dict['events']['max_events'] = eMags\n",
    "#since each detected event consists of multiple identical contiguous values. The number of values corresponds to event length.\n",
    "#the value corresponds to the average of the avent amplitude. \n",
    "\n",
    "eMags = list(np.unique(eMags[:,cell,:])[1:] for cell in range(numCells))\n",
    "eMags_pooled = np.hstack(eMags)\n",
    "\n",
    "plot = plt.hist(eMags_pooled, bins = 100, log = True)\n",
    "plt.xlim(0, 4)\n",
    "plt.title('Distribution of \\n Event Magnitudes')\n",
    "plt.xlabel('dF/F')\n",
    "plt.ylabel('number of events')\n",
    "plt.savefig('event_magnitudes_slice_{}.png'.format(slice_), dpi = 300, bbox_inches = 'tight', pad_inches = 0.5)"
   ]
  },
  {
   "cell_type": "markdown",
   "metadata": {},
   "source": [
    "\n",
    "#  Display distribution of event durations  "
   ]
  },
  {
   "cell_type": "code",
   "execution_count": null,
   "metadata": {
    "collapsed": false
   },
   "outputs": [],
   "source": [
    "from  d_code.events import getStartsAndStops\n",
    "from numpy import ma\n",
    "from d_code.events import getDurations\n",
    "#posDur = ma.getdata(getDurations(events['pos_events']))\n",
    "\n",
    "\n",
    "posDur = getDurations(workflow_dict['events']['pos_events'])\n",
    "condition = np.isfinite(posDur)\n",
    "pos_event_durations = (np.extract(condition, posDur))#/fps\n",
    "workflow_dict['events']['event_durations'] = pos_event_durations \n",
    "#ytick_list = [(\"%.2f\" % a) for a in np.asarray(range(0,36292,4500))/float(PosTotal)]\n",
    "#plt.hist(pos_event_durations/one_second, normed = True)\n",
    "one_second = 1/secPerFrame/numSlices\n",
    "plot = plt.hist(pos_event_durations/one_second, bins = 50,log = True,)\n",
    "plt.xlim(0,60)\n",
    "#plt.yticks(range(0,36292,4500), ytick_list)\n",
    "\n",
    "#plt.hist(pos_event_durations/10.)\n",
    "\n",
    "plt.title('Distribution of \\n Event Duration')\n",
    "plt.ylabel('number of events')\n",
    "plt.xlabel('event duration (s)')\n",
    "\n",
    "plt.savefig('normed_event_duration_slice_{}.png'.format(slice_), dpi = 300, bbox_inches = 'tight', pad_inches = 0.5)"
   ]
  },
  {
   "cell_type": "markdown",
   "metadata": {},
   "source": [
    "# Investigate outlier events.\n",
    "- Ultimately, event-detection should not bias against an event of a particular duration. "
   ]
  },
  {
   "cell_type": "code",
   "execution_count": null,
   "metadata": {
    "collapsed": true
   },
   "outputs": [],
   "source": [
    "# starts, stops = getStartsAndStops(workflow_dict['events']['pos_events'])\n",
    "\n",
    "#exceptionalEventDurations = np.argwhere(posDur/one_second>20)\n",
    "\n",
    "\n",
    "# exceptionalEventDurations = np.argwhere(posDur/one_second>10)\n",
    "# eventID =4\n",
    "# cell, trial, this_event = exceptionalEventDurations[eventID]\n",
    "# duration = posDur[cell, trial, this_event]\n",
    "# i = starts[cell, trial, this_event]\n",
    "# j = stops[cell, trial, this_event]\n",
    "\n",
    "# #plot\n",
    "# plt.figure(figsize = (20,5))\n",
    "# plt.plot(normed_traces[:,cell,trial])\n",
    "# plt.axvline(i)\n",
    "# plt.axvline(j)"
   ]
  },
  {
   "cell_type": "code",
   "execution_count": null,
   "metadata": {
    "collapsed": true
   },
   "outputs": [],
   "source": [
    "# save_dict()"
   ]
  },
  {
   "cell_type": "code",
   "execution_count": null,
   "metadata": {
    "collapsed": false
   },
   "outputs": [],
   "source": [
    "#All events all trials all cells divided by trial length\n",
    "trial_length = secPerFrame*numSlices*frames\n",
    "Average_Event_Frequency = eMags_pooled.shape[0]/(numCells*numTrials)/trial_length#float(PosTotal)\n",
    "Average_number_of_events_per_cell = eMags_pooled.shape[0]/numCells/numTrials"
   ]
  },
  {
   "cell_type": "code",
   "execution_count": null,
   "metadata": {
    "collapsed": false
   },
   "outputs": [],
   "source": [
    "Average_Event_Frequency"
   ]
  },
  {
   "cell_type": "code",
   "execution_count": null,
   "metadata": {
    "collapsed": false,
    "scrolled": true
   },
   "outputs": [],
   "source": [
    "Average_number_of_events_per_cell"
   ]
  },
  {
   "cell_type": "markdown",
   "metadata": {},
   "source": [
    "# Lifetime Sparseness"
   ]
  },
  {
   "cell_type": "code",
   "execution_count": null,
   "metadata": {
    "collapsed": false
   },
   "outputs": [],
   "source": [
    "average_response_odor_cell = {'odor_{}'.format(odor) :{cell : np.mean([trials]) for cell, trials in pos_responders[odor].iteritems()} for odor in range(numOdors)}\n",
    "\n",
    "#average_response_odor_cell = {'odor_{}'.format(odor) :{cell : np.mean([trials]) for cell, trials in neg_responders[odor].iteritems()} for odor in range(23)}\n",
    "\n",
    "#get all responsive cells\n",
    "hmm = defaultdict(list)\n",
    "for odor in range(numOdors):\n",
    "    hmm['odor_{}'.format(odor)] = [cell_list for cell_list in average_response_odor_cell['odor_{}'.format(odor)].iterkeys()] \n",
    "    \n",
    "blah = hmm.values()\n",
    "#for responsive cells only, get all resposes. \n",
    "c = []\n",
    "for item in blah:\n",
    "    c.append(item)\n",
    "d = set(np.hstack(c))\n",
    "\n",
    "\n",
    "response_list_by_cell = []\n",
    "\n",
    "for cell in d: \n",
    "    \n",
    "    a = spUtils.gen_dict_extract(cell, average_response_odor_cell)\n",
    "    response_list_by_cell.append(np.asarray([item for item in a]))\n",
    "\n",
    "\n",
    "LS_list = []\n",
    "for cell, cell_responses in enumerate(response_list_by_cell):\n",
    "    numerator = np.power(np.sum(np.absolute(cell_responses))/numOdors,2)\n",
    "    denomenator = np.sum(np.power(cell_responses,2)/float(numOdors))\n",
    "    LS_list.append(1-float(numerator)/denomenator)\n",
    "LS_list = np.hstack(LS_list)\n",
    "\n",
    "#\n",
    "\n",
    "\n",
    "counts, values = np.histogram(LS_list)\n",
    "numResponders = LS_list.shape[0]\n",
    "ytick_interval = 10\n",
    "\n",
    "plot = plt.hist(LS_list)\n",
    "ytick_list = [(\"%.2f\" % a) for a in np.asarray(range(0,counts.max(),ytick_interval))/float(numResponders)]\n",
    "ticks = plt.yticks(range(0,counts.max(),ytick_interval), ytick_list)\n",
    "plt.title('Lifetime Sparseness')\n",
    "plt.xlabel('selectivity index \\n 1 is most selective')\n",
    "plt.ylabel('proportion of responders')\n",
    "plt.savefig('LS_slice_{}.png'.format(slice_), dpi = 300, bbox_inches = 'tight', pad_inches = 0.5)\n"
   ]
  },
  {
   "cell_type": "markdown",
   "metadata": {},
   "source": [
    "## Plot trial-averaged responses by odor"
   ]
  },
  {
   "cell_type": "markdown",
   "metadata": {
    "collapsed": true
   },
   "source": [
    "### extract odor onset for all trials"
   ]
  },
  {
   "cell_type": "code",
   "execution_count": null,
   "metadata": {
    "collapsed": true
   },
   "outputs": [],
   "source": [
    "from spUtils.suite2pInspect import InspectSlice"
   ]
  },
  {
   "cell_type": "code",
   "execution_count": null,
   "metadata": {
    "collapsed": false
   },
   "outputs": [],
   "source": [
    "cellswithNulls = epoch.loc[epoch.normed_traces.isnull(), 'cellID'].unique()\n",
    "\n",
    "print cellswithNulls"
   ]
  },
  {
   "cell_type": "code",
   "execution_count": null,
   "metadata": {
    "collapsed": false
   },
   "outputs": [],
   "source": [
    "\n",
    "celltype = 'exc'\n",
    "for type_, val in [('exc',0), ('inh', 1)]:\n",
    "    \n",
    "    if celltype==type_:\n",
    "        this_epoch = epoch.loc[(epoch.redLabel==val),['cellID','trial', 'odorID', 'normed_traces']] #&(epoch.cellID!=175)\n",
    "        mask = this_epoch['cellID'].isin(cellswithNulls)\n",
    "        this_epoch = this_epoch[~mask]\n",
    "groups = this_epoch.groupby(['trial', 'odorID'])\n",
    "numcells_ = this_epoch['cellID'].unique().shape[0]\n",
    "print numcells_\n",
    "numTrials_ = this_epoch['trial'].unique().shape[0]\n",
    "\n",
    "mat = np.zeros((numTrials_,numcells_,23,233))\n",
    "for itrial, trial in enumerate(good_trials):\n",
    "    for iodor, odor in enumerate(range(1,24)):\n",
    "        mat[itrial,:,iodor,:] = groups.get_group((trial,odor))['normed_traces'].unstack('cellID').values.T\n",
    "\n",
    "classes = dict(furans = [1,2,3,4],\n",
    "                esters = [5,6,7],\n",
    "                aldehydes = [8,9,10,11],\n",
    "                ketones = [12,13,14],\n",
    "                sulfurs = [15,16,17,18],\n",
    "                acids = [19,20,21,22])\n",
    "\n",
    "\n",
    "odorNames = pd.DataFrame.from_csv('/Users/Stan/Desktop/{}/e1_odor_order_odorlist.csv'.format(experiment))\n",
    "odorNames.index.name = 'odorID'\n",
    "\n",
    "thisSlice = InspectSlice.InspectSlice(experiment = experiment, slice_ = slice_, array = mat, cellIDs= range(numcells_), classLabels = classes, odorNames = odorNames)\n",
    "thisSlice.frameRate = frameRate"
   ]
  },
  {
   "cell_type": "code",
   "execution_count": null,
   "metadata": {
    "collapsed": false
   },
   "outputs": [],
   "source": [
    "\n",
    "thisSlice.plotClassAveragedTraces()\n",
    "plt.savefig('classAves_{0}_{1}.png'.format(slice_, celltype), dpi = 300, bbox_inches = 'tight', pad_inches = 0.5)\n",
    "thisSlice.plotEachOdorAve()\n",
    "plt.savefig('byOdor_trialAves{0}_{1}.png'.format(slice_, celltype), dpi = 300, bbox_inches = 'tight', pad_inches = 0.5)"
   ]
  },
  {
   "cell_type": "code",
   "execution_count": null,
   "metadata": {
    "collapsed": true
   },
   "outputs": [],
   "source": []
  },
  {
   "cell_type": "code",
   "execution_count": 178,
   "metadata": {
    "collapsed": false
   },
   "outputs": [],
   "source": [
    "# odor_info = spUtils.gen_dict_extract('odor_info', workflow_dict).next()\n",
    "\n",
    "# odor_on_times_by_trial = defaultdict(list)\n",
    "# for odor in range(1,numOdors+1):\n",
    "#     for trial in range(numTrials):\n",
    "#         odor_on_times_by_trial[odor].append(odor_info[trial]['on'][odor])\n",
    "        \n",
    "# odor_off_times_by_trial = defaultdict(list)\n",
    "# for odor in range(1,numOdors+1):\n",
    "#     for trial in range(numTrials):\n",
    "#         odor_off_times_by_trial[odor].append(odor_info[trial]['off'][odor])\n",
    "        \n",
    "# odor_interval_by_trial = defaultdict(list)\n",
    "# for odor in range(1,numOdors+1):\n",
    "#     for trial in range(numTrials):\n",
    "#         odor_interval_by_trial[odor].append(odor_info[trial]['pre_odor_post_interval'][odor])"
   ]
  },
  {
   "cell_type": "code",
   "execution_count": 179,
   "metadata": {
    "collapsed": true
   },
   "outputs": [],
   "source": [
    "# def xticksInSec(framerate, secInterval, plotLengthInFrames):\n",
    "#     import numpy as np\n",
    "    \n",
    "#     plotLengthInFrames = int(plotLengthInFrames)\n",
    "#     secInterval = int(secInterval)\n",
    "#     xtickframetimes = np.arange(0, plotLengthInFrames, framerate*secInterval)\n",
    "#     xtickssectimes = np.arange(0, plotLengthInFrames/framerate, secInterval).astype(int)\n",
    "#     return plt.xticks(xtickframetimes,xtickssectimes)"
   ]
  },
  {
   "cell_type": "code",
   "execution_count": 182,
   "metadata": {
    "collapsed": false
   },
   "outputs": [],
   "source": [
    "# odor_names={}\n",
    "# classes  = ['acids', 'esters','aldehydes', 'ketones', 'thiazoles', 'sulfers']\n",
    "# molecules= [['hexanoic acid', 'heptanoic acid', 'octanoic acid'], \n",
    "#             ['isoamyl acetate',\n",
    "#                 'amyl acetate',\n",
    "#                 'hexyl acetate',\n",
    "#                 'butyl acetate',],\n",
    "#            ['propanal',\n",
    "#             'butanal',\n",
    "#             'heptanal',\n",
    "#             'octanal'],\n",
    "#             ['2-pentanone',\n",
    "#             '2-heptanone',\n",
    "#             '4-heptanone',\n",
    "#             '2-octanone'],\n",
    "#             ['2,4,5-trimethylthiazole',\n",
    "#             '4-methylthiazole',\n",
    "#             '5-methylthiazole'],\n",
    "#            ['2-mercaptoethanol',\n",
    "#             '1,2-ethanedithiol',\n",
    "#             'carbon disulfide',\n",
    "#             'dimethyl disulfide']]\n",
    "# j = 2\n",
    "# for i, class_ in enumerate(classes):\n",
    "#     odor_names[class_] =[]\n",
    "#     for odor in molecules[i]:\n",
    "#         odor_names[class_].append((odor, j))\n",
    "#         j+=1"
   ]
  },
  {
   "cell_type": "code",
   "execution_count": 184,
   "metadata": {
    "collapsed": true
   },
   "outputs": [],
   "source": [
    "# order = np.random.permutation(20)"
   ]
  },
  {
   "cell_type": "code",
   "execution_count": 208,
   "metadata": {
    "collapsed": true
   },
   "outputs": [
    {
     "ename": "ValueError",
     "evalue": "all the input array dimensions except for the concatenation axis must match exactly",
     "output_type": "error",
     "traceback": [
      "\u001b[0;31m---------------------------------------------------------------------------\u001b[0m",
      "\u001b[0;31mValueError\u001b[0m                                Traceback (most recent call last)",
      "\u001b[0;32m<ipython-input-208-97ad61f8a3dc>\u001b[0m in \u001b[0;36m<module>\u001b[0;34m()\u001b[0m\n\u001b[1;32m     22\u001b[0m         \u001b[0maa\u001b[0m\u001b[0;34m.\u001b[0m\u001b[0mappend\u001b[0m\u001b[0;34m(\u001b[0m\u001b[0mnormed_traces\u001b[0m\u001b[0;34m[\u001b[0m\u001b[0mtest\u001b[0m\u001b[0;34m,\u001b[0m\u001b[0;34m:\u001b[0m\u001b[0;34m,\u001b[0m\u001b[0mtrial\u001b[0m\u001b[0;34m]\u001b[0m\u001b[0;34m)\u001b[0m\u001b[0;34m\u001b[0m\u001b[0m\n\u001b[1;32m     23\u001b[0m \u001b[0;34m\u001b[0m\u001b[0m\n\u001b[0;32m---> 24\u001b[0;31m     \u001b[0maa\u001b[0m \u001b[0;34m=\u001b[0m \u001b[0mnp\u001b[0m\u001b[0;34m.\u001b[0m\u001b[0mdstack\u001b[0m\u001b[0;34m(\u001b[0m\u001b[0maa\u001b[0m\u001b[0;34m)\u001b[0m\u001b[0;34m\u001b[0m\u001b[0m\n\u001b[0m\u001b[1;32m     25\u001b[0m     \u001b[0mplt\u001b[0m\u001b[0;34m.\u001b[0m\u001b[0msubplot\u001b[0m\u001b[0;34m(\u001b[0m\u001b[0mnro\u001b[0m\u001b[0;34m,\u001b[0m\u001b[0mnco\u001b[0m\u001b[0;34m,\u001b[0m\u001b[0midx\u001b[0m\u001b[0;34m+\u001b[0m\u001b[0;36m1\u001b[0m\u001b[0;34m)\u001b[0m\u001b[0;34m\u001b[0m\u001b[0m\n\u001b[1;32m     26\u001b[0m     \u001b[0mplt\u001b[0m\u001b[0;34m.\u001b[0m\u001b[0mtitle\u001b[0m\u001b[0;34m(\u001b[0m\u001b[0mtitle\u001b[0m\u001b[0;34m)\u001b[0m\u001b[0;34m\u001b[0m\u001b[0m\n",
      "\u001b[0;32m/Users/Stan/anaconda/lib/python2.7/site-packages/numpy/lib/shape_base.pyc\u001b[0m in \u001b[0;36mdstack\u001b[0;34m(tup)\u001b[0m\n\u001b[1;32m    374\u001b[0m \u001b[0;34m\u001b[0m\u001b[0m\n\u001b[1;32m    375\u001b[0m     \"\"\"\n\u001b[0;32m--> 376\u001b[0;31m     \u001b[0;32mreturn\u001b[0m \u001b[0m_nx\u001b[0m\u001b[0;34m.\u001b[0m\u001b[0mconcatenate\u001b[0m\u001b[0;34m(\u001b[0m\u001b[0;34m[\u001b[0m\u001b[0matleast_3d\u001b[0m\u001b[0;34m(\u001b[0m\u001b[0m_m\u001b[0m\u001b[0;34m)\u001b[0m \u001b[0;32mfor\u001b[0m \u001b[0m_m\u001b[0m \u001b[0;32min\u001b[0m \u001b[0mtup\u001b[0m\u001b[0;34m]\u001b[0m\u001b[0;34m,\u001b[0m \u001b[0;36m2\u001b[0m\u001b[0;34m)\u001b[0m\u001b[0;34m\u001b[0m\u001b[0m\n\u001b[0m\u001b[1;32m    377\u001b[0m \u001b[0;34m\u001b[0m\u001b[0m\n\u001b[1;32m    378\u001b[0m \u001b[0;32mdef\u001b[0m \u001b[0m_replace_zero_by_x_arrays\u001b[0m\u001b[0;34m(\u001b[0m\u001b[0msub_arys\u001b[0m\u001b[0;34m)\u001b[0m\u001b[0;34m:\u001b[0m\u001b[0;34m\u001b[0m\u001b[0m\n",
      "\u001b[0;31mValueError\u001b[0m: all the input array dimensions except for the concatenation axis must match exactly"
     ]
    },
    {
     "data": {
      "image/png": "[encoded data removed]",
      "text/plain": [
       "<matplotlib.figure.Figure at 0x147337d10>"
      ]
     },
     "metadata": {},
     "output_type": "display_data"
    }
   ],
   "source": [
    "# from scipy.stats.mstats import mquantiles\n",
    "# min_, max_ = mquantiles(normed_traces[...,:].flatten(),  prob=[0.02, .98])\n",
    "# offset = 109\n",
    "# nro=(numOdors+1)/3\n",
    "# nco=3\n",
    "# plt.subplots(nro,nco, sharex=True, sharey=True, figsize = (3*nro,10*nco))\n",
    "# for idx, odor in enumerate(range(1,numOdors+1)):\n",
    "#     aa = []\n",
    "#     title = 'blank'#odor_info[0]['odor_names'][idx][1]\n",
    "#     for class_ in classes:    \n",
    "#         for name in odor_names[class_]:\n",
    "#             if name[1]==odor:\n",
    "#                 title =  '{} \\n'.format(class_) + name[0]\n",
    "#     for trial in range(numTrials):\n",
    "#         if trial ==0:\n",
    "#             continue\n",
    "            \n",
    "#         sta, sto  = odor_interval_by_trial[odor][trial]\n",
    "         \n",
    "#         test  = slice(sta,sto,1)\n",
    "        \n",
    "#         aa.append(normed_traces[test,:,trial]) \n",
    "        \n",
    "#     aa = np.dstack(aa)\n",
    "#     plt.subplot(nro,nco,idx+1)\n",
    "#     plt.title(title)\n",
    "#     plot = plt.imshow(aa.mean(2).T, aspect = 'auto', vmin = min_,vmax = max_)\n",
    "#     plt.ylabel('cells')\n",
    "#     plt.xlabel('time (s)')\n",
    "#     plt.colorbar()\n",
    "#     xticksInSec(framerate = frameRate, secInterval = 5, plotLengthInFrames = 235)\n",
    "#     #plt.clim(0,2)\n",
    "#     plt.axvline(offset, linewidth = 0.4)\n",
    "#     plt.axvline(offset+16, linewidth = 0.4)\n",
    "# plt.tight_layout()\n",
    "# #plt.savefig('AveRespsbyOdor_slice_{}.png'.format(slice_), dpi = 300, bbox_inches = 'tight', pad_inches = 0.5)"
   ]
  },
  {
   "cell_type": "markdown",
   "metadata": {},
   "source": [
    "### odor-cell pairs by trial by odor"
   ]
  },
  {
   "cell_type": "code",
   "execution_count": 45,
   "metadata": {
    "collapsed": false
   },
   "outputs": [],
   "source": [
    "\n",
    "# odor_info[0]['odor_names'] = range(1,8+1)"
   ]
  },
  {
   "cell_type": "code",
   "execution_count": null,
   "metadata": {
    "collapsed": true
   },
   "outputs": [],
   "source": [
    "# idxs = np.vstack(odor_interval_by_trial[odor])\n",
    "\n",
    "# nro=numOdors/2\n",
    "# nco=2\n",
    "\n",
    "\n",
    "# for trial in range(numTrials)[:]:\n",
    "#     fig,b = plt.subplots(nro,nco, sharex=True, sharey=True, figsize = (3*nro,5*nco))\n",
    "#     fig.suptitle('Trial {}'.format(trial+1), y = 1.05, fontsize=32)\n",
    "#     for idx, odor in enumerate(range(1,numOdors+1)):\n",
    "        \n",
    "#         title = odor_info[0]['odor_names'][idx]#[1]\n",
    "#         sta, sto  = odor_interval_by_trial[odor][trial]\n",
    "#         test  = slice(sta,sto,1)\n",
    "#         this_trial = normed_traces[test,:,trial]\n",
    "\n",
    "#         plt.subplot(nro,nco,idx+1)\n",
    "#         plt.title(title)\n",
    "#         v = plt.imshow(this_trial.T, aspect = 'auto')\n",
    "#         plt.clim(0,3)\n",
    "#         plt.axvline(offset)\n",
    "#         plt.axvline(offset+15)\n",
    "#         plt.tight_layout()\n",
    "#     plt.savefig('/users/stan/desktop/temp/temp_{}.png'.format(trial), dpi = 300, bbox_inches = 'tight', pad_inches = 0.5)\n",
    "#     plt.close()"
   ]
  },
  {
   "cell_type": "code",
   "execution_count": 94,
   "metadata": {
    "collapsed": false
   },
   "outputs": [
    {
     "name": "stderr",
     "output_type": "stream",
     "text": [
      "[WARNING] /Users/Stan/anaconda/lib/python2.7/site-packages/skimage/filter/__init__.py:6: skimage_deprecation: The `skimage.filter` module has been renamed to `skimage.filters`.  This placeholder module will be removed in v0.13.\n",
      "  warn(skimage_deprecation('The `skimage.filter` module has been renamed '\n",
      "\n"
     ]
    },
    {
     "name": "stdout",
     "output_type": "stream",
     "text": [
      "[MoviePy] >>>> Building video /Users/Stan/Desktop/temp/e2_OdorTrialRasters.mp4\n",
      "[MoviePy] Writing video /Users/Stan/Desktop/temp/e2_OdorTrialRasters.mp4\n",
      "[MoviePy] Done.\n",
      "[MoviePy] >>>> Video ready: /Users/Stan/Desktop/temp/e2_OdorTrialRasters.mp4 \n",
      "\n"
     ]
    }
   ],
   "source": [
    "# from moviepy.editor import *\n",
    "# files=glob('/Users/Stan/Desktop/temp/'+'*.png')\n",
    "# files = sorted(files, key = lambda fname: int(fname.split('_')[-1].split('.png')[0]))\n",
    "# clip = ImageSequenceClip(files, fps=1)\n",
    "# # #ipython_display(clip)\n",
    "# clip.write_videofile(\"/Users/Stan/Desktop/temp/e1_OdorTrialRasters.mp4\",fps=1, codec='mpeg4')"
   ]
  },
  {
   "cell_type": "markdown",
   "metadata": {},
   "source": [
    "### SNR"
   ]
  },
  {
   "cell_type": "code",
   "execution_count": 44,
   "metadata": {
    "collapsed": false,
    "scrolled": true
   },
   "outputs": [],
   "source": [
    "from spUtils import getSNR\n",
    "from spUtils.get_normalized_traces_submodule import getMaxEvents\n",
    "from spUtils import getSNR\n",
    "\n",
    "traces = next(spUtils.gen_dict_extract('baselines1', workflow_dict))\n",
    "numCells = workflow_dict['numCells']\n",
    "events = workflow_dict['events']['pos_events']\n",
    "\n",
    "maxEvents = getMaxEvents(events,traces)\n",
    "\n",
    "# store events and params\n",
    "# workflow_dict['events']['max_events'] = maxEvents\n",
    "\n",
    "# traces = next(spUtils.gen_dict_extract('baselined1_traces', workflow_dict))\n",
    "\n",
    "# maxEvents = getMaxEvents(events,traces)\n",
    "\n",
    "# #store events and params\n",
    "# workflow_dict['events']['max_events_raw'] = maxEvents\n",
    "# #save_dict()"
   ]
  },
  {
   "cell_type": "code",
   "execution_count": 45,
   "metadata": {
    "collapsed": false
   },
   "outputs": [
    {
     "name": "stdout",
     "output_type": "stream",
     "text": [
      "5.16989862082\n"
     ]
    },
    {
     "data": {
      "image/png": "[encoded data removed]",
      "text/plain": [
       "<matplotlib.figure.Figure at 0x12402e850>"
      ]
     },
     "metadata": {},
     "output_type": "display_data"
    }
   ],
   "source": [
    "#baselined1 traces\n",
    "allSNRs = []\n",
    "for cell in range(1,numCells):\n",
    "    for trial in range(numTrials):\n",
    "         allSNRs.append(getSNR(traces,maxEvents,cell,trial))\n",
    "allSNRs = np.hstack(allSNRs)\n",
    "allSNRs = np.array(sorted(allSNRs))\n",
    "print np.percentile(allSNRs,50)\n",
    "\n",
    "plt.hist(allSNRs, bins = 500, histtype = 'step', cumulative = True, normed = True)\n",
    "plt.xlim([0,40])\n",
    "plt.ylim([0,1.1])\n",
    "plt.title('Raw SNR')\n",
    "plt.ylabel('fraction of events')\n",
    "plt.xlabel('SNR')\n",
    "plt.savefig('SNR_slice_{}.png'.format(slice_), dpi = 300, bbox_inches = 'tight', pad_inches = 0.5)"
   ]
  },
  {
   "cell_type": "markdown",
   "metadata": {
    "collapsed": true
   },
   "source": [
    "# Mask"
   ]
  },
  {
   "cell_type": "code",
   "execution_count": 46,
   "metadata": {
    "collapsed": true
   },
   "outputs": [],
   "source": [
    "from spUtils.suite2pInspect.extract import getCenters, getMask,extract_suite2p, makeTifInfoFromMetadata"
   ]
  },
  {
   "cell_type": "code",
   "execution_count": 47,
   "metadata": {
    "collapsed": true
   },
   "outputs": [],
   "source": [
    "suite2pPath = '/Users/Stan/Desktop/{0}/{0}_e1_all_data_slice{1}.mat'.format(experiment, slice_)\n",
    "metadataPath_ = '/Users/Stan/Desktop/{0}/metadata/slice_{1}/'.format(experiment,slice_)"
   ]
  },
  {
   "cell_type": "code",
   "execution_count": 48,
   "metadata": {
    "collapsed": false
   },
   "outputs": [],
   "source": [
    "tifInfo = makeTifInfoFromMetadata(tifPath, metadataPath = metadataPath_, epoch=epoch_)"
   ]
  },
  {
   "cell_type": "code",
   "execution_count": 49,
   "metadata": {
    "collapsed": false
   },
   "outputs": [
    {
     "name": "stdout",
     "output_type": "stream",
     "text": [
      "[u'F', u'Fcell', u'FcellNeu', u'cl', u'clustrules', u'figure', u'filename', u'map', u'maxmap', u'mimg', u'mimg_proc', u'ops', u'procmap', u'res', u'stat', u'xlim', u'ylim']\n"
     ]
    }
   ],
   "source": [
    "#Spatial coords look good. \n",
    "DF, rois, cellProbsBinary, centroids = extract_suite2p(suite2pPath, tifInfo = tifInfo, tifPath = tifPath, slice_ = slice_, epoch = epoch_)\n"
   ]
  },
  {
   "cell_type": "code",
   "execution_count": 50,
   "metadata": {
    "collapsed": false
   },
   "outputs": [],
   "source": [
    "\n",
    "mask = getMask(rois, cellProbsBinary) #from extract.py\n",
    "\n",
    "\n",
    "centers= getCenters(centroids,cellProbsBinary) # from extract.py"
   ]
  },
  {
   "cell_type": "code",
   "execution_count": 51,
   "metadata": {
    "collapsed": false
   },
   "outputs": [
    {
     "name": "stderr",
     "output_type": "stream",
     "text": [
      "/Users/Stan/anaconda/lib/python2.7/site-packages/skimage/util/dtype.py:107: UserWarning: Possible sign loss when converting negative image of type int16 to positive image of type uint8.\n",
      "  \"%s to positive image of type %s.\" % (dtypeobj_in, dtypeobj))\n",
      "/Users/Stan/anaconda/lib/python2.7/site-packages/skimage/util/dtype.py:111: UserWarning: Possible precision loss when converting from int16 to uint8\n",
      "  \"%s to %s\" % (dtypeobj_in, dtypeobj))\n"
     ]
    },
    {
     "data": {
      "image/png": "[encoded data removed]",
      "text/plain": [
       "<matplotlib.figure.Figure at 0x1240534d0>"
      ]
     },
     "metadata": {},
     "output_type": "display_data"
    },
    {
     "data": {
      "image/png": "[encoded data removed]",
      "text/plain": [
       "<matplotlib.figure.Figure at 0x123b6dbd0>"
      ]
     },
     "metadata": {},
     "output_type": "display_data"
    }
   ],
   "source": [
    "#get Image, overlay mask outline and numbers and save. \n",
    "for channel in ['green', 'red']:\n",
    "    from skimage.util import img_as_ubyte\n",
    "    fnamesPath = '/Users/Stan/Desktop/{0}/aligned/{1}/slice_{2}/'.format(experiment, channel, slice_)\n",
    "    fnames = glob(fnamesPath + '*.tif')\n",
    "    fnames = [_ for _ in fnames if 'e1_004_' in _]\n",
    "\n",
    "    movs = []\n",
    "    for fname in fnames:\n",
    "        mov = img_as_ubyte(tifffile.imread(fname)).mean(0)\n",
    "        movs.append(mov)\n",
    "    aveTrial = np.dstack(movs).mean(2)\n",
    "\n",
    "    plt.figure(figsize = (20,20))\n",
    "    #overlay = np.ma.MaskedArray(mask.T.astype(bool), np.invert(mask.T.astype(bool)).astype(bool))\n",
    "    thisMask = np.gradient(mask.ravel()).reshape(256,256).astype(bool)\n",
    "    overlay = np.ma.MaskedArray(thisMask, np.invert(thisMask).astype(bool))\n",
    "    plt.imshow(aveTrial, cmap = 'Greys_r')\n",
    "    plt.imshow(overlay, cmap = 'Reds', alpha = 1)\n",
    "    for i in range(len(centers)):\n",
    "\n",
    "        cell = centers[i][1]\n",
    "        x = centers[i][0][1]\n",
    "        y = centers[i][0][0]\n",
    "        plt.scatter(centers[i][0][1],centers[i][0][0], s = 35)\n",
    "        plt.text(x,y, '{}'.format(cell), fontsize=15, color = 'r')\n",
    "    plt.savefig('Mask_slice_{0}_{1}.png'.format(slice_, channel),dpi = 100)"
   ]
  },
  {
   "cell_type": "code",
   "execution_count": 52,
   "metadata": {
    "collapsed": false
   },
   "outputs": [],
   "source": [
    "\n",
    "# mask = pickle.load(open(maskPath))\n",
    "# fname = '/Users/Stan/Desktop/{0}/h5/green/slice_{1}/_e2_004_concatenated.h5'.format(experiment, slice_)"
   ]
  },
  {
   "cell_type": "code",
   "execution_count": null,
   "metadata": {
    "collapsed": true
   },
   "outputs": [],
   "source": []
  },
  {
   "cell_type": "code",
   "execution_count": 53,
   "metadata": {
    "collapsed": true
   },
   "outputs": [],
   "source": [
    "save_dict()"
   ]
  },
  {
   "cell_type": "markdown",
   "metadata": {},
   "source": [
    "# Single cell movies"
   ]
  },
  {
   "cell_type": "markdown",
   "metadata": {},
   "source": [
    "## Find cells with strong events, as well as outliers\n",
    " - Find those that have at least 3 strong events in a trial, that clear a particular threshold.\n",
    " - Thresh: 1.5 \n"
   ]
  },
  {
   "cell_type": "code",
   "execution_count": 51,
   "metadata": {
    "collapsed": true
   },
   "outputs": [],
   "source": [
    "\n",
    "def get_ave_event_by_cell(numCells, maxEventsArray, trialIDX, eventThresh):\n",
    "    for cell in range(numCells):\n",
    "\n",
    "        cellEvents = maxEventsArray[:,cell,trialIDX]\n",
    "        cellEvents = cellEvents[cellEvents>0]\n",
    "        if len(cellEvents)>3:\n",
    "            if cellEvents.mean()>eventThresh:\n",
    "                yield cellEvents.mean(), cell\n"
   ]
  },
  {
   "cell_type": "code",
   "execution_count": 39,
   "metadata": {
    "collapsed": true
   },
   "outputs": [],
   "source": [
    "normed_traces = workflow_dict['normed_traces']['corrected_rois']"
   ]
  },
  {
   "cell_type": "code",
   "execution_count": 40,
   "metadata": {
    "collapsed": true
   },
   "outputs": [],
   "source": [
    "numCells = normed_traces.shape[1]"
   ]
  },
  {
   "cell_type": "code",
   "execution_count": 48,
   "metadata": {
    "collapsed": false
   },
   "outputs": [
    {
     "data": {
      "text/plain": [
       "13.850187265917601"
      ]
     },
     "execution_count": 48,
     "metadata": {},
     "output_type": "execute_result"
    }
   ],
   "source": [
    "workflow_dict['events']['max_events'][:,:,4].max()"
   ]
  },
  {
   "cell_type": "code",
   "execution_count": 50,
   "metadata": {
    "collapsed": false
   },
   "outputs": [
    {
     "data": {
      "text/plain": [
       "6"
      ]
     },
     "execution_count": 50,
     "metadata": {},
     "output_type": "execute_result"
    }
   ],
   "source": [
    "actualTrial"
   ]
  },
  {
   "cell_type": "code",
   "execution_count": 52,
   "metadata": {
    "collapsed": false
   },
   "outputs": [
    {
     "name": "stdout",
     "output_type": "stream",
     "text": [
      "71 4\n",
      "actual trial 6\n"
     ]
    },
    {
     "data": {
      "text/plain": [
       "(-0.5, 3)"
      ]
     },
     "execution_count": 52,
     "metadata": {},
     "output_type": "execute_result"
    },
    {
     "data": {
      "image/png": "[encoded data removed]",
      "text/plain": [
       "<matplotlib.figure.Figure at 0x1154f3850>"
      ]
     },
     "metadata": {},
     "output_type": "display_data"
    }
   ],
   "source": [
    "trialIDX = 4\n",
    "actualTrial = [_[1] for _ in trialIndexingHelper if _[0]==trialIDX][0]\n",
    "\n",
    "strongCells = [val[1] for val in get_ave_event_by_cell(numCells = numCells, \n",
    "                                                       maxEventsArray = workflow_dict['events']['max_events'], \n",
    "                                                       trialIDX=trialIDX, \n",
    "                                                       eventThresh = 1.0)]\n",
    "cell = np.random.permutation(strongCells)[0]\n",
    "#cell = 116\n",
    "\n",
    "print cell, trialIDX\n",
    "print 'actual trial', actualTrial\n",
    "\n",
    "plt.figure(figsize = (20,3))\n",
    "plt.plot(normed_traces[:,cell,trialIDX])\n",
    "plt.ylim(-.5,3)"
   ]
  },
  {
   "cell_type": "markdown",
   "metadata": {},
   "source": [
    "### Define Coords"
   ]
  },
  {
   "cell_type": "code",
   "execution_count": 85,
   "metadata": {
    "collapsed": false
   },
   "outputs": [
    {
     "data": {
      "text/plain": [
       "52"
      ]
     },
     "execution_count": 85,
     "metadata": {},
     "output_type": "execute_result"
    }
   ],
   "source": [
    "numCells"
   ]
  },
  {
   "cell_type": "code",
   "execution_count": 9,
   "metadata": {
    "collapsed": true
   },
   "outputs": [],
   "source": [
    "useTheseCellsForMov = [61,30,64]\n",
    "#useTheseCellsForMov = strongCells"
   ]
  },
  {
   "cell_type": "code",
   "execution_count": 54,
   "metadata": {
    "collapsed": true
   },
   "outputs": [],
   "source": [
    "picDir = \"/Users/Stan/Desktop/temp/{0}/slice_{1}/\".format(experiment, slice_)\n",
    "if not os.path.isdir(picDir):\n",
    "    os.mkdir(picDir)"
   ]
  },
  {
   "cell_type": "code",
   "execution_count": 55,
   "metadata": {
    "collapsed": false
   },
   "outputs": [
    {
     "name": "stdout",
     "output_type": "stream",
     "text": [
      "64\n",
      "[MoviePy] >>>> Building video /Users/Stan/Desktop/temp/sp120616a/slice_5/e2_Cell_64_Trial_6.mp4\n",
      "[MoviePy] Writing video /Users/Stan/Desktop/temp/sp120616a/slice_5/e2_Cell_64_Trial_6.mp4\n",
      "[MoviePy] Done.\n",
      "[MoviePy] >>>> Video ready: /Users/Stan/Desktop/temp/sp120616a/slice_5/e2_Cell_64_Trial_6.mp4 \n",
      "\n"
     ]
    }
   ],
   "source": [
    "for _cell in useTheseCellsForMov:\n",
    "    if _cell == 64:\n",
    "        makeMov(_cell)\n",
    "    "
   ]
  },
  {
   "cell_type": "code",
   "execution_count": 538,
   "metadata": {
    "collapsed": false
   },
   "outputs": [
    {
     "data": {
      "text/plain": [
       "36"
      ]
     },
     "execution_count": 538,
     "metadata": {},
     "output_type": "execute_result"
    }
   ],
   "source": [
    "# 221-185\n",
    "\n",
    "# trace = sframe[(sframe['slice'] ==4)&(sframe['cellID'] ==36)&(sframe['trial'] ==3)] \n",
    "\n",
    "# ntrace = trace['normed_traces']\n",
    "\n",
    "# coords = (204.9,218.58)"
   ]
  },
  {
   "cell_type": "code",
   "execution_count": 12,
   "metadata": {
    "collapsed": false
   },
   "outputs": [],
   "source": [
    "def makeMov(_cell):\n",
    "    import spUtils\n",
    "\n",
    "    #cell = np.random.permutation(strongCells)[0]\n",
    "    cell = _cell#cell\n",
    "    print cell\n",
    "\n",
    "\n",
    "    coords = scipy.ndimage.measurements.center_of_mass(mask, mask, range(0,int(mask.max())+1))\n",
    "    convertIdxs = list(np.argwhere(np.isnan(coords))[:,0][::2])\n",
    "    for i in convertIdxs:\n",
    "        coords[i]= (0.0,0.0)\n",
    "    coords = [(int(t[1]),int(t[0])) for t in coords]\n",
    "\n",
    "    #Specify dimensions and location of zoom window around cell mask\n",
    "    halfRad = 15\n",
    "    yi = coords[cell][1]-halfRad\n",
    "    yf = coords[cell][1]+halfRad\n",
    "    xi = coords[cell][0]-halfRad\n",
    "    xf = coords[cell][0]+halfRad\n",
    "\n",
    "\n",
    "\n",
    "    #process mask overlay\n",
    "    overlay = np.ma.MaskedArray(mask.astype(bool), np.invert(mask.astype(bool)).astype(bool))\n",
    "\n",
    "    import matplotlib.gridspec as gridspec\n",
    "    #from spUtils import xticksInSec\n",
    "\n",
    "    for frame in range(vidframes)[:]:\n",
    "        #set display range for zoom window to correspond to that of entire FOV\n",
    "        colormin = stack[...,frame].min()\n",
    "        colormax = stack[...,frame].max()\n",
    "\n",
    "        plt.figure(figsize=(16, 9))\n",
    "        G = gridspec.GridSpec(4, 2)\n",
    "        axes_1 = plt.subplot(G[:3, :1])\n",
    "        axes_2 = plt.subplot(G[3:, :])\n",
    "        axes_3 = plt.subplot(G[:3, 1:])\n",
    "\n",
    "\n",
    "        axes_1.imshow(stack[yi:yf,xi:xf,frame], cmap = 'Greys_r',  aspect = 'auto', vmin = colormin, vmax = colormax)\n",
    "        axes_1.imshow(overlay[yi:yf,xi:xf,], cmap = 'Reds', alpha = 0.35)\n",
    "        axes_1.add_patch(plt.Circle((halfRad,halfRad),.5, alpha = 1))\n",
    "        axes_1.set_ylabel('df/F')\n",
    "\n",
    "        axes_3.imshow(stack[...,frame], cmap = 'Greys_r',  aspect = 'auto')\n",
    "        axes_3.imshow(overlay, cmap = 'Reds', alpha = 0.35)\n",
    "        axes_3.add_patch(plt.Circle(coords[cell],5, alpha = 1))\n",
    "        \n",
    "\n",
    "\n",
    "        axes_2 = plt.subplot(G[3:, :])\n",
    "        axes_2.set_title('Cell {0} Trial {1}'.format(cell,actualTrial))\n",
    "        axes_2.plot(normed_traces[:,cell, trialIDX], linewidth = 0.8)\n",
    "        axes_2.axvline(range(0,normed_traces.shape[0],subsampleFact)[frame], linewidth = 1)\n",
    "        axes_2.xticks = spUtils.xticksInSec(framerate = 1/secPerFrame/8, secInterval = 30, plotLengthInFrames = normed_traces.shape[0])\n",
    "        axes_2.set_ylim((-.2,3))\n",
    "        axes_2.set_xlabel('sec')\n",
    "        plt.savefig(picDir + 'pic_{}.png'.format(frame))\n",
    "        plt.close()\n",
    "    from moviepy.editor import ImageSequenceClip\n",
    "    files=glob(picDir +'*.png')\n",
    "    files = sorted(files, key = lambda fname: int(fname.split('_')[-1].split('.png')[0]))\n",
    "    clip = ImageSequenceClip(files, fps=1)\n",
    "    # #ipython_display(clip)\n",
    "    clip.write_videofile(\"/Users/Stan/Desktop/temp/{0}/slice_{1}/e2_Cell_{2}_Trial_{3}.mp4\".format(experiment, slice_,cell,actualTrial) ,fps=1, codec='mpeg4')"
   ]
  },
  {
   "cell_type": "markdown",
   "metadata": {},
   "source": [
    "# Extra"
   ]
  },
  {
   "cell_type": "code",
   "execution_count": null,
   "metadata": {
    "collapsed": true
   },
   "outputs": [],
   "source": [
    "from scipy.stats.mstats import mquantiles\n",
    "\n",
    "for trial in range(normed_traces.shape[2]):\n",
    "    min_, max_ = mquantiles(normed_traces[...,trial].flatten(),  prob=[0.001, .999])\n",
    "    plt.figure(figsize = (20,5))\n",
    "    plt.imshow(normed_traces[...,trial].T, aspect = 'auto', vmin = min_, vmax = max_)\n",
    "    plt.title('trial_{}'.format(trial+1))\n",
    "    plt.colorbar()\n",
    "\n",
    "# plt.figure(figsize = (20,5))\n",
    "# plt.imshow(traces[...,trial].T, aspect = 'auto')\n",
    "# plt.colorbar()\n",
    "\n",
    "# plt.figure(figsize = (20,5))\n",
    "# plt.imshow(normed_traces[...,trial].T, aspect = 'auto')\n",
    "# plt.colorbar()"
   ]
  },
  {
   "cell_type": "code",
   "execution_count": null,
   "metadata": {
    "collapsed": true
   },
   "outputs": [],
   "source": [
    "#Inspect responder output.\n",
    "\n",
    "trial = 3\n",
    "interval = odor_info[trial]['pre_odor_post_interval'][odor+1]\n",
    "plt.plot(normed_traces[interval[0]:interval[1], cell,trial])\n",
    "plt.axvline(113)\n",
    "plt.axvline(128)"
   ]
  },
  {
   "cell_type": "code",
   "execution_count": null,
   "metadata": {
    "collapsed": false
   },
   "outputs": [],
   "source": [
    "fig = plt.figure(figsize = (20,10))\n",
    "plt.imshow(traces[:,:,1].T, aspect = 'auto')"
   ]
  },
  {
   "cell_type": "code",
   "execution_count": null,
   "metadata": {
    "collapsed": false
   },
   "outputs": [],
   "source": [
    "df = epoch.loc[1]['0'].unstack()"
   ]
  },
  {
   "cell_type": "code",
   "execution_count": null,
   "metadata": {
    "collapsed": true
   },
   "outputs": [],
   "source": [
    "import plotly\n",
    "from plotly.graph_objs import *\n",
    "from plotly.offline import download_plotlyjs, init_notebook_mode, iplot\n",
    "init_notebook_mode() # run at the start of every ipython notebook to use plotly.offline\n",
    "                     # this injects the plotly.js source files into the notebook\n",
    "    #combine all with seaborn and pandas. \n",
    "import cufflinks as cf\n",
    "cf.go_offline()"
   ]
  },
  {
   "cell_type": "code",
   "execution_count": null,
   "metadata": {
    "collapsed": false,
    "scrolled": false
   },
   "outputs": [],
   "source": [
    "df.T.iplot(kind='heatmap', colorscale='greys', dimensions=(800, 1000))"
   ]
  },
  {
   "cell_type": "code",
   "execution_count": null,
   "metadata": {
    "collapsed": true
   },
   "outputs": [],
   "source": []
  },
  {
   "cell_type": "code",
   "execution_count": null,
   "metadata": {
    "collapsed": true
   },
   "outputs": [],
   "source": []
  }
 ],
 "metadata": {
  "kernelspec": {
   "display_name": "Python 2",
   "language": "python",
   "name": "python2"
  },
  "language_info": {
   "codemirror_mode": {
    "name": "ipython",
    "version": 2
   },
   "file_extension": ".py",
   "mimetype": "text/x-python",
   "name": "python",
   "nbconvert_exporter": "python",
   "pygments_lexer": "ipython2",
   "version": "2.7.11"
  }
 },
 "nbformat": 4,
 "nbformat_minor": 0
}
