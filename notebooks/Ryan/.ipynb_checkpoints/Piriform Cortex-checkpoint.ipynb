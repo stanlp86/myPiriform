{
 "cells": [
  {
   "cell_type": "markdown",
   "metadata": {},
   "source": [
    " \n",
    "#####  Description of our population imaging experiment\n",
    "\n",
    "in order to characterize olfactory representations in Piriform Cortex, we perform volumetric 2-photon imaging of excitatory and inhibitory cortical ensembles of head-fixed mice presented with a set of monomolecular odorants. Each experiment involves a single imaging session for a single animal. \n",
    "<br/> Our stimulus set contains 22 odors. Each odor can be assigned to 1 of 6 classes based on the presence of either a ketone, aldehyde, ester, acid, or thiazole group, or a sulfur atom.\n",
    "\n",
    "<br/> For a single imaging session we cycle through the stimulus set at least 10 times. On each cycle/trial, each odor is presented once. Each trial also contains a sham condition where no odor is presented. Odors are presented for 2 seconds, and flanked by 15 seconds of baseline. The order of presentation is shuffled from trial to trial.\n",
    "<br/> \n",
    ">Here's the [dataset](https://www.dropbox.com/s/823jhnzc42s6qjc/layerIII_2exps.h5?dl=0)  in h5 format. It contains 2 pandas dataframes corresponding to two separate experiments from the deeper cortical Layer III which we believe may be involved in perceptual categorization. Also included is a dataframe for cross-referencing odor identity. \n"
   ]
  },
  {
   "cell_type": "markdown",
   "metadata": {},
   "source": [
    "The experiment DFs are organized in the following way:\n",
    "\n",
    "<table border=\"1\" class=\"dataframe\">  <thead>    <tr style=\"text-align: right;\">      <th></th>      <th>Frame</th>      <th>RoiSignal</th>      <th>cellID</th>      <th>trial</th>      <th>odorPos</th>      <th>odorID</th>      <th>odorOn</th>      <th>odorOff</th>      <th>iF/F</th>      <th>redLabel</th>      <th>experimentID</th>      <th>frameRate</th>    </tr>  </thead>  <tbody>    <tr>      <th>5382</th>      <td>0</td>      <td>2125</td>      <td>1</td>      <td>1</td>      <td>1</td>      <td>19</td>      <td>109</td>      <td>124</td>      <td>-0.107386</td>      <td>1</td>      <td>sp120616a</td>      <td>7.282557</td>    </tr>    <tr>      <th>5383</th>      <td>1</td>      <td>2136</td>      <td>1</td>      <td>1</td>      <td>1</td>      <td>19</td>      <td>109</td>      <td>124</td>      <td>-0.091625</td>      <td>1</td>      <td>sp120616a</td>      <td>7.282557</td>    </tr>    <tr>      <th>5384</th>      <td>2</td>      <td>2189</td>      <td>1</td>      <td>1</td>      <td>1</td>      <td>19</td>      <td>109</td>      <td>124</td>      <td>-0.015689</td>      <td>1</td>      <td>sp120616a</td>      <td>7.282557</td>    </tr>    <tr>      <th>5385</th>      <td>3</td>      <td>2103</td>      <td>1</td>      <td>1</td>      <td>1</td>      <td>19</td>      <td>109</td>      <td>124</td>      <td>-0.138907</td>      <td>1</td>      <td>sp120616a</td>      <td>7.282557</td>    </tr>    <tr>      <th>5386</th>      <td>4</td>      <td>2220</td>      <td>1</td>      <td>1</td>      <td>1</td>      <td>19</td>      <td>109</td>      <td>124</td>      <td>0.028727</td>      <td>1</td>      <td>sp120616a</td>      <td>7.282557</td>    </tr>  </tbody></table>   <br/>  \n",
    "  \n",
    "Each dataframe is  Ntrials x 23 odors x 234 (or 235) frames x Ncells long.\n",
    ">**Frame:** 0-233 for each cell-odor-trial in experiment 'sp120616a'. 0-234 for experiment 'sp120616a'  \n",
    ">**RoiSignal:** raw fluorescence signal for each cell.  \n",
    ">**cellID:** 1-N.   \n",
    ">**trial:** trial identifier. Some are missing. These were discarded due to experimental artifacts. There are 10 remainging trials for experiment 'sp120616a' and 11 for 'sp123016a'.  \n",
    ">**odorID:** 1-23. Odor index. See metadata below.  \n",
    ">**odorPos:** 1-23. Indicates the position of each odor in the presentation sequence unique to each trial.  \n",
    ">**odorOn and odorOff:** frames indicating stimulus onset and offset.  \n",
    ">**iF/F:** fold-increase in fluorescence from baseline, where baseline is the 5th percentile of the raw signal obtained using a rolling window of 20 seconds. Calculated on a single trial basis for each cell.   \n",
    ">**redLabel:** 1 for inhibitory neuron. 0 otherwise.  \n",
    ">**experimentID:** label for this imaging session.  \n",
    ">**frameRate:** sampling rate for this experiment; number of full-field scans acquired per second.   \n"
   ]
  },
  {
   "cell_type": "markdown",
   "metadata": {},
   "source": [
    "\n",
    "#####  Odor information for both experiments \n",
    "\n",
    "\n",
    "<table border=\"1\" class=\"dataframe\">  <thead>    <tr style=\"text-align: right;\">      <th></th>      <th>odorID</th>      <th>odorName</th>      <th>Class</th>    </tr>  </thead>  <tbody>    <tr>      <th>0</th>      <td>1</td>      <td>BLANK</td>      <td>NaN</td>    </tr>    <tr>      <th>1</th>      <td>2</td>      <td>HEXANOIC_ACID</td>      <td>CARBOXYLIC ACID</td>    </tr>    <tr>      <th>2</th>      <td>3</td>      <td>HEPTANOIC_ACID</td>      <td>CARBOXYLIC ACID</td>    </tr>    <tr>      <th>3</th>      <td>4</td>      <td>OCTANOIC_ACID</td>      <td>CARBOXYLIC ACID</td>    </tr>    <tr>      <th>4</th>      <td>5</td>      <td>ISOAMYL_ACETATE</td>      <td>ESTER</td>    </tr>    <tr>      <th>5</th>      <td>6</td>      <td>AMYL_ACETATE</td>      <td>ESTER</td>    </tr>    <tr>      <th>6</th>      <td>7</td>      <td>HEXYL_ACETATE</td>      <td>ESTER</td>    </tr>    <tr>      <th>7</th>      <td>8</td>      <td>BUTYL_ACETATE</td>      <td>ESTER</td>    </tr>    <tr>      <th>8</th>      <td>9</td>      <td>PROPANAL</td>      <td>ALDEHYDE</td>    </tr>    <tr>      <th>9</th>      <td>10</td>      <td>BUTANAL</td>      <td>ALDEHYDE</td>    </tr>    <tr>      <th>10</th>      <td>11</td>      <td>HEPTANAL</td>      <td>ALDEHYDE</td>    </tr>    <tr>      <th>11</th>      <td>12</td>      <td>OCTANAL</td>      <td>ALDEHYDE</td>    </tr>    <tr>      <th>12</th>      <td>13</td>      <td>2-PENTANONE</td>      <td>KETONE</td>    </tr>    <tr>      <th>13</th>      <td>14</td>      <td>2-HEPTANONE</td>      <td>KETONE</td>    </tr>    <tr>      <th>14</th>      <td>15</td>      <td>4-HEPTANONE</td>      <td>KETONE</td>    </tr>    <tr>      <th>15</th>      <td>16</td>      <td>2-OCTANONE</td>      <td>KETONE</td>    </tr>    <tr>      <th>16</th>      <td>17</td>      <td>245-TRIMETHYLTHIAZOLE</td>      <td>THIAZOLE</td>    </tr>    <tr>      <th>17</th>      <td>18</td>      <td>4-METHYLTHIAZOLE</td>      <td>THIAZOLE</td>    </tr>    <tr>      <th>18</th>      <td>19</td>      <td>5-METHYLTHIAZOLE</td>      <td>THIAZOLE</td>    </tr>    <tr>      <th>19</th>      <td>20</td>      <td>2-MERCAPTOETHANOL</td>      <td>SULFUR</td>    </tr>    <tr>      <th>20</th>      <td>21</td>      <td>1-2-ETHANEDITHIOL</td>      <td>SULFUR</td>    </tr>    <tr>      <th>21</th>      <td>22</td>      <td>CARBON_DISULFIDE</td>      <td>SULFUR</td>    </tr>    <tr>      <th>22</th>      <td>23</td>      <td>DIMETHYL_DISULFIDE</td>      <td>SULFUR</td>    </tr>  </tbody></table>"
   ]
  },
  {
   "cell_type": "code",
   "execution_count": 2,
   "metadata": {
    "collapsed": false
   },
   "outputs": [
    {
     "data": {
      "text/html": [
       "<style>\n",
       "\n",
       "html {\n",
       "  font-size: 62.5% !important; }\n",
       "body {\n",
       "  font-size: 1.5em !important; /* currently ems cause chrome bug misinterpreting rems on body element */\n",
       "  line-height: 1.6 !important;\n",
       "  font-weight: 400 !important;\n",
       "  font-family: \"Raleway\", \"HelveticaNeue\", \"Helvetica Neue\", Helvetica, Arial, sans-serif !important;\n",
       "  color: #222 !important; }\n",
       "\n",
       "div{ border-radius: 0px !important;  }\n",
       "div.CodeMirror-sizer{ background: rgb(244, 244, 248) !important; }\n",
       "div.input_area{ background: rgb(244, 244, 248) !important; }\n",
       "\n",
       "div.out_prompt_overlay:hover{ background: rgb(244, 244, 248) !important; }\n",
       "div.input_prompt:hover{ background: rgb(244, 244, 248) !important; }\n",
       "\n",
       "h1, h2, h3, h4, h5, h6 {\n",
       "  color: #333 !important;\n",
       "  margin-top: 0 !important;\n",
       "  margin-bottom: 2rem !important;\n",
       "  font-weight: 300 !important; }\n",
       "h1 { font-size: 4.0rem !important; line-height: 1.2 !important;  letter-spacing: -.1rem !important;}\n",
       "h2 { font-size: 3.6rem !important; line-height: 1.25 !important; letter-spacing: -.1rem !important; }\n",
       "h3 { font-size: 3.0rem !important; line-height: 1.3 !important;  letter-spacing: -.1rem !important; }\n",
       "h4 { font-size: 2.4rem !important; line-height: 1.35 !important; letter-spacing: -.08rem !important; }\n",
       "h5 { font-size: 1.8rem !important; line-height: 1.5 !important;  letter-spacing: -.05rem !important; }\n",
       "h6 { font-size: 1.5rem !important; line-height: 1.6 !important;  letter-spacing: 0 !important; }\n",
       "\n",
       "@media (min-width: 550px) {\n",
       "  h1 { font-size: 5.0rem !important; }\n",
       "  h2 { font-size: 4.2rem !important; }\n",
       "  h3 { font-size: 3.6rem !important; }\n",
       "  h4 { font-size: 3.0rem !important; }\n",
       "  h5 { font-size: 2.4rem !important; }\n",
       "  h6 { font-size: 1.5rem !important; }\n",
       "}\n",
       "\n",
       "p {\n",
       "  margin-top: 0 !important; }\n",
       "  \n",
       "a {\n",
       "  color: #1EAEDB !important; }\n",
       "a:hover {\n",
       "  color: #0FA0CE !important; }\n",
       "  \n",
       "code {\n",
       "  padding: .2rem .5rem !important;\n",
       "  margin: 0 .2rem !important;\n",
       "  font-size: 90% !important;\n",
       "  white-space: nowrap !important;\n",
       "  background: #F1F1F1 !important;\n",
       "  border: 1px solid #E1E1E1 !important;\n",
       "  border-radius: 4px !important; }\n",
       "pre > code {\n",
       "  display: block !important;\n",
       "  padding: 1rem 1.5rem !important;\n",
       "  white-space: pre !important; }\n",
       "  \n",
       "button{ border-radius: 0px !important; }\n",
       ".navbar-inner{ background-image: none !important;  }\n",
       "select, textarea{ border-radius: 0px !important; }\n",
       "\n",
       "</style>"
      ],
      "text/plain": [
       "<IPython.core.display.HTML object>"
      ]
     },
     "execution_count": 2,
     "metadata": {},
     "output_type": "execute_result"
    }
   ],
   "source": [
    "\n",
    "from IPython.core.display import HTML\n",
    "import urllib2\n",
    "HTML(urllib2.urlopen('http://bit.ly/1Bf5Hft').read())"
   ]
  }
 ],
 "metadata": {
  "kernelspec": {
   "display_name": "Python 2",
   "language": "python",
   "name": "python2"
  },
  "language_info": {
   "codemirror_mode": {
    "name": "ipython",
    "version": 2
   },
   "file_extension": ".py",
   "mimetype": "text/x-python",
   "name": "python",
   "nbconvert_exporter": "python",
   "pygments_lexer": "ipython2",
   "version": "2.7.11"
  }
 },
 "nbformat": 4,
 "nbformat_minor": 0
}
