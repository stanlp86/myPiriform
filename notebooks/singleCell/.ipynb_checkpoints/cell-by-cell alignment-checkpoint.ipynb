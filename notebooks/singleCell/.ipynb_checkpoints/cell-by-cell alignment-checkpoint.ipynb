{
 "cells": [
  {
   "cell_type": "markdown",
   "metadata": {},
   "source": [
    "<a id = 'top'></a>\n",
    "\n",
    "[Configure Notebook](#configure)  \n",
    "***\n",
    "\n",
    "# Cross-trial aligment checks by cell  \n",
    "\n",
    "\n",
    "###### Cell exclusion based on ROI position tracking \n",
    "\n",
    "The purpose of alignment is to minimize FOV translation such that we maximize the number of cells that remain directly under their corresponding masks. Since we expect Piriform resposne variability to be high to begin with, we want to  exclude any contributing experimental factors. \n",
    "\n",
    "<br/>To do this, we can compare the amount of drift of individual ROIs over the course of the experiment before and after alignment. We can then...\n",
    "- Quantify the quality of alignment\n",
    "- Exclude cells that move greater than some factor of a cell-width\n",
    "- Determine the relationship between drift and expected Response reliability. \n",
    "\n",
    "<br/>\n",
    "We assess cross-trial roi drift via cross-correlation of an ROI from representative trial to its local neighborhood on all other trials in the experiment. We do this on a stimulus-by-stimulus basis.   \n",
    "****\n",
    " "
   ]
  },
  {
   "cell_type": "markdown",
   "metadata": {},
   "source": [
    "##### Contents\n",
    "[Local neighborhoods](#neighborhoods)  \n",
    "[Defining target and reference](#FNCC)  \n",
    "[Alignment improves displacement across the population](#population)"
   ]
  },
  {
   "cell_type": "markdown",
   "metadata": {},
   "source": [
    "<a id = 'neighborhoods'></a>\n",
    "\n",
    "##### Sample neighborhoods\n",
    "For a single odor-cell pair, plot all local neighborhoods using the Reference channel (Emx1Cre-TdTomato).\n",
    "\n",
    "\n",
    "<br/>We can either use the reference channel directly, or a version that emphasizes locally correlated pixels for each odor presentation. The latter is less sensitive to changes in reference channel quality and is arguably a more accurate representation of X,Y, and Z position. For the purpose of the template search approach this would using the latter, would be more stringent. \n",
    "\n",
    "<br/>Below is a comparison of the two. \n",
    " "
   ]
  },
  {
   "cell_type": "markdown",
   "metadata": {},
   "source": [
    "###### Reference Channel for Cell: 202, Odor: 2 \n",
    "For the image on the left, white pixels are the most strongly correlated\n",
    "\n",
    "\n",
    "Correlated pixels emphasized|Intensity Image\n",
    ":---:|:---:\n",
    "<img src= \"corrbyTrial_cell_202.png\" />|<img src= \"intensitybyTrial_cell_202.png\" />"
   ]
  },
  {
   "cell_type": "markdown",
   "metadata": {},
   "source": [
    "<a id = 'FNCC'></a>\n",
    "\n",
    "##### Normalized Cross-correlation. Cell: 202, Odor: 2 \n",
    "[back to top](#top)  \n",
    "<br/>\n",
    "We can find the peak of the cross-correlation of an ROI in trial 1 to its local neighborhood in all subsequent trials.\n",
    "First, we choose a target region around our ROI in the reference trial (delineated below by the red square left panel). We then identify the correlation peak of this square to the local neighborhood of this cell on trial 11 (middle), get the coordinates of the peak (right panel), and calculate the displacement from our reference trial. In this particular case, there is 0 displacement. \n",
    "\n",
    "<br/>\n",
    "###### Aligned\n",
    "Displacement from trial 1: 0 pixels\n",
    "<img src= \"aligned_FNCC_sample_cell202_odor2.png\" />\n",
    "###### Unaligned\n",
    "Displacement from trial 1: 2.2 pixels\n",
    "<img src= \"unaligned_FNCC_sample_cell202_odor2.png\" />"
   ]
  },
  {
   "cell_type": "markdown",
   "metadata": {},
   "source": [
    "<a id = 'population'></a>\n",
    "##### Population Comparison \n",
    "[back to top](#top)\n",
    "\n"
   ]
  },
  {
   "cell_type": "code",
   "execution_count": 1,
   "metadata": {
    "collapsed": false,
    "hideCode": false
   },
   "outputs": [
    {
     "data": {
      "text/html": [
       "<iframe width=\"900\" height=\"600\" frameborder=\"0\" scrolling=\"no\" src=\"normedScatter.html\"></iframe>"
      ],
      "text/plain": [
       "<IPython.core.display.HTML object>"
      ]
     },
     "metadata": {},
     "output_type": "display_data"
    }
   ],
   "source": [
    "%%html\n",
    "<iframe width=\"900\" height=\"600\" frameborder=\"0\" scrolling=\"no\" src=\"normedScatter.html\"></iframe>"
   ]
  },
  {
   "cell_type": "code",
   "execution_count": 3,
   "metadata": {
    "collapsed": false,
    "hideCode": false
   },
   "outputs": [
    {
     "data": {
      "text/html": [
       "<iframe width=\"900\" height=\"600\" frameborder=\"0\" scrolling=\"no\" src=\"dfCorrPlot.html\"></iframe>"
      ],
      "text/plain": [
       "<IPython.core.display.HTML object>"
      ]
     },
     "metadata": {},
     "output_type": "display_data"
    }
   ],
   "source": [
    "%%html\n",
    "<iframe width=\"900\" height=\"600\" frameborder=\"0\" scrolling=\"no\" src=\"dfCorrPlot.html\"></iframe>"
   ]
  },
  {
   "cell_type": "markdown",
   "metadata": {},
   "source": [
    "<a id = 'configure'></a>"
   ]
  },
  {
   "cell_type": "code",
   "execution_count": 1,
   "metadata": {
    "collapsed": false,
    "hideCode": false
   },
   "outputs": [
    {
     "data": {
      "text/html": [
       "<style>\n",
       "\n",
       "html {\n",
       "  font-size: 62.5% !important; }\n",
       "body {\n",
       "  font-size: 1.5em !important; /* currently ems cause chrome bug misinterpreting rems on body element */\n",
       "  line-height: 1.6 !important;\n",
       "  font-weight: 400 !important;\n",
       "  font-family: \"Raleway\", \"HelveticaNeue\", \"Helvetica Neue\", Helvetica, Arial, sans-serif !important;\n",
       "  color: #222 !important; }\n",
       "\n",
       "div{ border-radius: 0px !important;  }\n",
       "div.CodeMirror-sizer{ background: rgb(244, 244, 248) !important; }\n",
       "div.input_area{ background: rgb(244, 244, 248) !important; }\n",
       "\n",
       "div.out_prompt_overlay:hover{ background: rgb(244, 244, 248) !important; }\n",
       "div.input_prompt:hover{ background: rgb(244, 244, 248) !important; }\n",
       "\n",
       "h1, h2, h3, h4, h5, h6 {\n",
       "  color: #333 !important;\n",
       "  margin-top: 0 !important;\n",
       "  margin-bottom: 2rem !important;\n",
       "  font-weight: 300 !important; }\n",
       "h1 { font-size: 4.0rem !important; line-height: 1.2 !important;  letter-spacing: -.1rem !important;}\n",
       "h2 { font-size: 3.6rem !important; line-height: 1.25 !important; letter-spacing: -.1rem !important; }\n",
       "h3 { font-size: 3.0rem !important; line-height: 1.3 !important;  letter-spacing: -.1rem !important; }\n",
       "h4 { font-size: 2.4rem !important; line-height: 1.35 !important; letter-spacing: -.08rem !important; }\n",
       "h5 { font-size: 1.8rem !important; line-height: 1.5 !important;  letter-spacing: -.05rem !important; }\n",
       "h6 { font-size: 1.5rem !important; line-height: 1.6 !important;  letter-spacing: 0 !important; }\n",
       "\n",
       "@media (min-width: 550px) {\n",
       "  h1 { font-size: 5.0rem !important; }\n",
       "  h2 { font-size: 4.2rem !important; }\n",
       "  h3 { font-size: 3.6rem !important; }\n",
       "  h4 { font-size: 3.0rem !important; }\n",
       "  h5 { font-size: 2.4rem !important; }\n",
       "  h6 { font-size: 1.5rem !important; }\n",
       "}\n",
       "\n",
       "p {\n",
       "  margin-top: 0 !important; }\n",
       "  \n",
       "a {\n",
       "  color: #1EAEDB !important; }\n",
       "a:hover {\n",
       "  color: #0FA0CE !important; }\n",
       "  \n",
       "code {\n",
       "  padding: .2rem .5rem !important;\n",
       "  margin: 0 .2rem !important;\n",
       "  font-size: 90% !important;\n",
       "  white-space: nowrap !important;\n",
       "  background: #F1F1F1 !important;\n",
       "  border: 1px solid #E1E1E1 !important;\n",
       "  border-radius: 4px !important; }\n",
       "pre > code {\n",
       "  display: block !important;\n",
       "  padding: 1rem 1.5rem !important;\n",
       "  white-space: pre !important; }\n",
       "  \n",
       "button{ border-radius: 0px !important; }\n",
       ".navbar-inner{ background-image: none !important;  }\n",
       "select, textarea{ border-radius: 0px !important; }\n",
       "\n",
       "</style>"
      ],
      "text/plain": [
       "<IPython.core.display.HTML object>"
      ]
     },
     "execution_count": 1,
     "metadata": {},
     "output_type": "execute_result"
    }
   ],
   "source": [
    "\n",
    "#style notebook\n",
    "from IPython.core.display import HTML\n",
    "import urllib2\n",
    "HTML(urllib2.urlopen('http://bit.ly/1Bf5Hft').read())"
   ]
  }
 ],
 "metadata": {
  "kernelspec": {
   "display_name": "Python 2",
   "language": "python",
   "name": "python2"
  },
  "language_info": {
   "codemirror_mode": {
    "name": "ipython",
    "version": 2
   },
   "file_extension": ".py",
   "mimetype": "text/x-python",
   "name": "python",
   "nbconvert_exporter": "python",
   "pygments_lexer": "ipython2",
   "version": "2.7.11"
  }
 },
 "nbformat": 4,
 "nbformat_minor": 0
}
