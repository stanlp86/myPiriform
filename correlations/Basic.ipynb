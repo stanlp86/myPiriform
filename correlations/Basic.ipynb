{
 "cells": [
  {
   "cell_type": "markdown",
   "metadata": {},
   "source": [
    "\n",
    "##I’ve started making routines for comparing pairwise correlations between layers for  single odor presentations. \n",
    "Here’s an example for a single odor presentation\n",
    "\n",
    "\n"
   ]
  },
  {
   "cell_type": "markdown",
   "metadata": {},
   "source": [
    "###I've identified 82 cells in LII and 20 cells in LIII whose fluorescence changes in this movie. Here is a raster of their normalized fluorescence. \n",
    "\n",
    "- The red lines indicate odor onset and offset. \n",
    "- The blue line separates LII neurons (above) from LIII neurons (below)"
   ]
  },
  {
   "cell_type": "markdown",
   "metadata": {},
   "source": [
    "<img src= \"NormalizedFluorescence.png\" />"
   ]
  },
  {
   "cell_type": "code",
   "execution_count": null,
   "metadata": {
    "collapsed": true
   },
   "outputs": [],
   "source": []
  },
  {
   "cell_type": "markdown",
   "metadata": {},
   "source": [
    "####Plotting the Mean fluorescence by layer indicates that LIII responses are more transient \n",
    "    - CI = 68% for each trace"
   ]
  },
  {
   "cell_type": "markdown",
   "metadata": {},
   "source": [
    "<img src= \"popmeanave.png\" />"
   ]
  },
  {
   "cell_type": "markdown",
   "metadata": {},
   "source": [
    "###If we  plot the pairwise correlation over the full 32 seconds for all cells it looks like it’s a lot higher than it should be...\n",
    "\n",
    "    - Cells above the blue line correspond to LII, those below to LIII\n"
   ]
  },
  {
   "cell_type": "markdown",
   "metadata": {},
   "source": [
    "<img src= \"fullcorrmat.png\" />"
   ]
  },
  {
   "cell_type": "markdown",
   "metadata": {},
   "source": [
    "###Judging from the average activity across the population this may in part be due to strongly correlated activity seen in the population traces above (5-15 seconds). \n",
    "    - Here's a representative pair of cells. \n",
    "        - The pink trace is a cell from Layer 3. \n"
   ]
  },
  {
   "cell_type": "markdown",
   "metadata": {},
   "source": [
    "<img src= \"AvePopMean.png\" />"
   ]
  },
  {
   "cell_type": "markdown",
   "metadata": {},
   "source": [
    "### Limiting the cross correlation time window to 2 seconds around and including the odor period attenuates correlations globally.\n",
    "    - But note that we can still identify a set of responsive pairs that span layers judging by elevated correlations in the set of rows between 86 and 92 on the y axis. These rows likely represent the LIII neurons in the fluorescence raster above"
   ]
  },
  {
   "cell_type": "markdown",
   "metadata": {},
   "source": [
    "<img src= \"odorcorrmat.png\" />"
   ]
  },
  {
   "cell_type": "markdown",
   "metadata": {},
   "source": [
    "### traces from highly correlated and anticorrelated neurons look like this:\n",
    "- first pair, Pearsons's corr coef is less than -0.8\n",
    "- second pair, Pearsons's corr coef is greater than 0.8"
   ]
  },
  {
   "cell_type": "markdown",
   "metadata": {},
   "source": [
    "<img src= \"antiPair.png\" />\n",
    "<img src= \"posPair.png\" />"
   ]
  },
  {
   "cell_type": "code",
   "execution_count": null,
   "metadata": {
    "collapsed": true
   },
   "outputs": [],
   "source": []
  }
 ],
 "metadata": {
  "kernelspec": {
   "display_name": "Python 2",
   "language": "python",
   "name": "python2"
  },
  "language_info": {
   "codemirror_mode": {
    "name": "ipython",
    "version": 2
   },
   "file_extension": ".py",
   "mimetype": "text/x-python",
   "name": "python",
   "nbconvert_exporter": "python",
   "pygments_lexer": "ipython2",
   "version": "2.7.10"
  }
 },
 "nbformat": 4,
 "nbformat_minor": 0
}
